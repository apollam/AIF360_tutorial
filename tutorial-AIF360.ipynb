{
 "cells": [
  {
   "cell_type": "markdown",
   "id": "c6ffe7c7",
   "metadata": {},
   "source": [
    "# <center> AIF360 Scikit-Learn Tutorial</center>"
   ]
  },
  {
   "cell_type": "markdown",
   "id": "5b306619",
   "metadata": {},
   "source": [
    "- If you have a dataset that you want to evaluate bias in it, you can simply load with pandas and input in the library\n",
    "- AIF360 has a module for loading datasets.\n",
    "    - fetch_adult() - Adult Census Income Dataset.\n",
    "    - fetch_german() - German Credit Dataset\n",
    "    - fetch_bank() - Bank Marketing Dataset\n",
    "    `from aif360.sklearn.datasets import fetch_adult`\n",
    "- For the didactic purposes, I've downloaded the original dataset from Kaggle https://www.kaggle.com/uciml/adult-census-income"
   ]
  },
  {
   "cell_type": "code",
   "execution_count": 89,
   "id": "790e6a8a",
   "metadata": {
    "execution": {
     "iopub.execute_input": "2022-08-01T13:35:35.278787Z",
     "iopub.status.busy": "2022-08-01T13:35:35.278451Z",
     "iopub.status.idle": "2022-08-01T13:35:35.283537Z",
     "shell.execute_reply": "2022-08-01T13:35:35.282774Z",
     "shell.execute_reply.started": "2022-08-01T13:35:35.278763Z"
    },
    "tags": []
   },
   "outputs": [],
   "source": [
    "import pandas as pd\n",
    "import matplotlib.pyplot as plt\n",
    "import seaborn as sns\n",
    "\n",
    "pd.options.display.max_rows = 2000\n",
    "pd.options.display.max_columns = 2000"
   ]
  },
  {
   "cell_type": "markdown",
   "id": "da236962-2b4d-477f-bfb9-93d378fb5704",
   "metadata": {},
   "source": [
    "# Constants"
   ]
  },
  {
   "cell_type": "code",
   "execution_count": 281,
   "id": "63cb4d2e-be5c-4f5a-b8e2-fc3fae534c49",
   "metadata": {
    "execution": {
     "iopub.execute_input": "2022-08-01T13:48:05.659133Z",
     "iopub.status.busy": "2022-08-01T13:48:05.658788Z",
     "iopub.status.idle": "2022-08-01T13:48:05.663894Z",
     "shell.execute_reply": "2022-08-01T13:48:05.662882Z",
     "shell.execute_reply.started": "2022-08-01T13:48:05.659108Z"
    }
   },
   "outputs": [],
   "source": [
    "RANDOM_STATE = 1234567"
   ]
  },
  {
   "cell_type": "markdown",
   "id": "2aeb571a-62c9-4c89-b587-4801cf2b88ef",
   "metadata": {},
   "source": [
    "# Get data"
   ]
  },
  {
   "cell_type": "code",
   "execution_count": 205,
   "id": "59d943d9",
   "metadata": {
    "execution": {
     "iopub.execute_input": "2022-08-01T13:41:12.855613Z",
     "iopub.status.busy": "2022-08-01T13:41:12.855267Z",
     "iopub.status.idle": "2022-08-01T13:41:12.921080Z",
     "shell.execute_reply": "2022-08-01T13:41:12.919366Z",
     "shell.execute_reply.started": "2022-08-01T13:41:12.855586Z"
    },
    "tags": []
   },
   "outputs": [],
   "source": [
    "raw = pd.read_csv('data/adult.csv')"
   ]
  },
  {
   "cell_type": "code",
   "execution_count": 206,
   "id": "2753d9c4",
   "metadata": {
    "execution": {
     "iopub.execute_input": "2022-08-01T13:41:15.489768Z",
     "iopub.status.busy": "2022-08-01T13:41:15.489433Z",
     "iopub.status.idle": "2022-08-01T13:41:15.502981Z",
     "shell.execute_reply": "2022-08-01T13:41:15.502201Z",
     "shell.execute_reply.started": "2022-08-01T13:41:15.489742Z"
    },
    "tags": []
   },
   "outputs": [
    {
     "data": {
      "text/html": [
       "<div>\n",
       "<style scoped>\n",
       "    .dataframe tbody tr th:only-of-type {\n",
       "        vertical-align: middle;\n",
       "    }\n",
       "\n",
       "    .dataframe tbody tr th {\n",
       "        vertical-align: top;\n",
       "    }\n",
       "\n",
       "    .dataframe thead th {\n",
       "        text-align: right;\n",
       "    }\n",
       "</style>\n",
       "<table border=\"1\" class=\"dataframe\">\n",
       "  <thead>\n",
       "    <tr style=\"text-align: right;\">\n",
       "      <th></th>\n",
       "      <th>age</th>\n",
       "      <th>workclass</th>\n",
       "      <th>fnlwgt</th>\n",
       "      <th>education</th>\n",
       "      <th>education.num</th>\n",
       "      <th>marital.status</th>\n",
       "      <th>occupation</th>\n",
       "      <th>relationship</th>\n",
       "      <th>race</th>\n",
       "      <th>sex</th>\n",
       "      <th>capital.gain</th>\n",
       "      <th>capital.loss</th>\n",
       "      <th>hours.per.week</th>\n",
       "      <th>native.country</th>\n",
       "      <th>income</th>\n",
       "    </tr>\n",
       "  </thead>\n",
       "  <tbody>\n",
       "    <tr>\n",
       "      <th>0</th>\n",
       "      <td>90</td>\n",
       "      <td>?</td>\n",
       "      <td>77053</td>\n",
       "      <td>HS-grad</td>\n",
       "      <td>9</td>\n",
       "      <td>Widowed</td>\n",
       "      <td>?</td>\n",
       "      <td>Not-in-family</td>\n",
       "      <td>White</td>\n",
       "      <td>Female</td>\n",
       "      <td>0</td>\n",
       "      <td>4356</td>\n",
       "      <td>40</td>\n",
       "      <td>United-States</td>\n",
       "      <td>&lt;=50K</td>\n",
       "    </tr>\n",
       "    <tr>\n",
       "      <th>1</th>\n",
       "      <td>82</td>\n",
       "      <td>Private</td>\n",
       "      <td>132870</td>\n",
       "      <td>HS-grad</td>\n",
       "      <td>9</td>\n",
       "      <td>Widowed</td>\n",
       "      <td>Exec-managerial</td>\n",
       "      <td>Not-in-family</td>\n",
       "      <td>White</td>\n",
       "      <td>Female</td>\n",
       "      <td>0</td>\n",
       "      <td>4356</td>\n",
       "      <td>18</td>\n",
       "      <td>United-States</td>\n",
       "      <td>&lt;=50K</td>\n",
       "    </tr>\n",
       "    <tr>\n",
       "      <th>2</th>\n",
       "      <td>66</td>\n",
       "      <td>?</td>\n",
       "      <td>186061</td>\n",
       "      <td>Some-college</td>\n",
       "      <td>10</td>\n",
       "      <td>Widowed</td>\n",
       "      <td>?</td>\n",
       "      <td>Unmarried</td>\n",
       "      <td>Black</td>\n",
       "      <td>Female</td>\n",
       "      <td>0</td>\n",
       "      <td>4356</td>\n",
       "      <td>40</td>\n",
       "      <td>United-States</td>\n",
       "      <td>&lt;=50K</td>\n",
       "    </tr>\n",
       "    <tr>\n",
       "      <th>3</th>\n",
       "      <td>54</td>\n",
       "      <td>Private</td>\n",
       "      <td>140359</td>\n",
       "      <td>7th-8th</td>\n",
       "      <td>4</td>\n",
       "      <td>Divorced</td>\n",
       "      <td>Machine-op-inspct</td>\n",
       "      <td>Unmarried</td>\n",
       "      <td>White</td>\n",
       "      <td>Female</td>\n",
       "      <td>0</td>\n",
       "      <td>3900</td>\n",
       "      <td>40</td>\n",
       "      <td>United-States</td>\n",
       "      <td>&lt;=50K</td>\n",
       "    </tr>\n",
       "    <tr>\n",
       "      <th>4</th>\n",
       "      <td>41</td>\n",
       "      <td>Private</td>\n",
       "      <td>264663</td>\n",
       "      <td>Some-college</td>\n",
       "      <td>10</td>\n",
       "      <td>Separated</td>\n",
       "      <td>Prof-specialty</td>\n",
       "      <td>Own-child</td>\n",
       "      <td>White</td>\n",
       "      <td>Female</td>\n",
       "      <td>0</td>\n",
       "      <td>3900</td>\n",
       "      <td>40</td>\n",
       "      <td>United-States</td>\n",
       "      <td>&lt;=50K</td>\n",
       "    </tr>\n",
       "  </tbody>\n",
       "</table>\n",
       "</div>"
      ],
      "text/plain": [
       "   age workclass  fnlwgt     education  education.num marital.status  \\\n",
       "0   90         ?   77053       HS-grad              9        Widowed   \n",
       "1   82   Private  132870       HS-grad              9        Widowed   \n",
       "2   66         ?  186061  Some-college             10        Widowed   \n",
       "3   54   Private  140359       7th-8th              4       Divorced   \n",
       "4   41   Private  264663  Some-college             10      Separated   \n",
       "\n",
       "          occupation   relationship   race     sex  capital.gain  \\\n",
       "0                  ?  Not-in-family  White  Female             0   \n",
       "1    Exec-managerial  Not-in-family  White  Female             0   \n",
       "2                  ?      Unmarried  Black  Female             0   \n",
       "3  Machine-op-inspct      Unmarried  White  Female             0   \n",
       "4     Prof-specialty      Own-child  White  Female             0   \n",
       "\n",
       "   capital.loss  hours.per.week native.country income  \n",
       "0          4356              40  United-States  <=50K  \n",
       "1          4356              18  United-States  <=50K  \n",
       "2          4356              40  United-States  <=50K  \n",
       "3          3900              40  United-States  <=50K  \n",
       "4          3900              40  United-States  <=50K  "
      ]
     },
     "execution_count": 206,
     "metadata": {},
     "output_type": "execute_result"
    }
   ],
   "source": [
    "raw.head()"
   ]
  },
  {
   "cell_type": "markdown",
   "id": "7ce4c233",
   "metadata": {},
   "source": [
    "# Explore data"
   ]
  },
  {
   "cell_type": "code",
   "execution_count": 207,
   "id": "c73c5e42-446b-422c-85ab-b76c3b58ea77",
   "metadata": {
    "execution": {
     "iopub.execute_input": "2022-08-01T13:41:21.663479Z",
     "iopub.status.busy": "2022-08-01T13:41:21.662850Z",
     "iopub.status.idle": "2022-08-01T13:41:21.670065Z",
     "shell.execute_reply": "2022-08-01T13:41:21.669306Z",
     "shell.execute_reply.started": "2022-08-01T13:41:21.663452Z"
    }
   },
   "outputs": [],
   "source": [
    "df = raw.copy()"
   ]
  },
  {
   "cell_type": "code",
   "execution_count": 92,
   "id": "34d3027f",
   "metadata": {
    "execution": {
     "iopub.execute_input": "2022-08-01T13:35:35.785174Z",
     "iopub.status.busy": "2022-08-01T13:35:35.784370Z",
     "iopub.status.idle": "2022-08-01T13:35:35.791763Z",
     "shell.execute_reply": "2022-08-01T13:35:35.791057Z",
     "shell.execute_reply.started": "2022-08-01T13:35:35.785140Z"
    },
    "tags": []
   },
   "outputs": [
    {
     "data": {
      "text/plain": [
       "(32561, 15)"
      ]
     },
     "execution_count": 92,
     "metadata": {},
     "output_type": "execute_result"
    }
   ],
   "source": [
    "df.shape"
   ]
  },
  {
   "cell_type": "code",
   "execution_count": 93,
   "id": "d54fe6c9",
   "metadata": {
    "execution": {
     "iopub.execute_input": "2022-08-01T13:35:35.794136Z",
     "iopub.status.busy": "2022-08-01T13:35:35.793779Z",
     "iopub.status.idle": "2022-08-01T13:35:35.843394Z",
     "shell.execute_reply": "2022-08-01T13:35:35.842581Z",
     "shell.execute_reply.started": "2022-08-01T13:35:35.794109Z"
    },
    "tags": []
   },
   "outputs": [
    {
     "name": "stdout",
     "output_type": "stream",
     "text": [
      "<class 'pandas.core.frame.DataFrame'>\n",
      "RangeIndex: 32561 entries, 0 to 32560\n",
      "Data columns (total 15 columns):\n",
      " #   Column          Non-Null Count  Dtype \n",
      "---  ------          --------------  ----- \n",
      " 0   age             32561 non-null  int64 \n",
      " 1   workclass       32561 non-null  object\n",
      " 2   fnlwgt          32561 non-null  int64 \n",
      " 3   education       32561 non-null  object\n",
      " 4   education.num   32561 non-null  int64 \n",
      " 5   marital.status  32561 non-null  object\n",
      " 6   occupation      32561 non-null  object\n",
      " 7   relationship    32561 non-null  object\n",
      " 8   race            32561 non-null  object\n",
      " 9   sex             32561 non-null  object\n",
      " 10  capital.gain    32561 non-null  int64 \n",
      " 11  capital.loss    32561 non-null  int64 \n",
      " 12  hours.per.week  32561 non-null  int64 \n",
      " 13  native.country  32561 non-null  object\n",
      " 14  income          32561 non-null  object\n",
      "dtypes: int64(6), object(9)\n",
      "memory usage: 3.7+ MB\n"
     ]
    }
   ],
   "source": [
    "df.info()"
   ]
  },
  {
   "cell_type": "code",
   "execution_count": 94,
   "id": "d811fda1",
   "metadata": {
    "execution": {
     "iopub.execute_input": "2022-08-01T13:35:35.845184Z",
     "iopub.status.busy": "2022-08-01T13:35:35.844323Z",
     "iopub.status.idle": "2022-08-01T13:35:35.851844Z",
     "shell.execute_reply": "2022-08-01T13:35:35.851008Z",
     "shell.execute_reply.started": "2022-08-01T13:35:35.845155Z"
    },
    "tags": []
   },
   "outputs": [],
   "source": [
    "df = df.reset_index()"
   ]
  },
  {
   "cell_type": "code",
   "execution_count": 95,
   "id": "61ebb046",
   "metadata": {
    "execution": {
     "iopub.execute_input": "2022-08-01T13:35:35.854653Z",
     "iopub.status.busy": "2022-08-01T13:35:35.854197Z",
     "iopub.status.idle": "2022-08-01T13:35:35.869777Z",
     "shell.execute_reply": "2022-08-01T13:35:35.868982Z",
     "shell.execute_reply.started": "2022-08-01T13:35:35.854619Z"
    },
    "tags": []
   },
   "outputs": [
    {
     "data": {
      "text/html": [
       "<div>\n",
       "<style scoped>\n",
       "    .dataframe tbody tr th:only-of-type {\n",
       "        vertical-align: middle;\n",
       "    }\n",
       "\n",
       "    .dataframe tbody tr th {\n",
       "        vertical-align: top;\n",
       "    }\n",
       "\n",
       "    .dataframe thead th {\n",
       "        text-align: right;\n",
       "    }\n",
       "</style>\n",
       "<table border=\"1\" class=\"dataframe\">\n",
       "  <thead>\n",
       "    <tr style=\"text-align: right;\">\n",
       "      <th></th>\n",
       "      <th>index</th>\n",
       "      <th>age</th>\n",
       "      <th>workclass</th>\n",
       "      <th>fnlwgt</th>\n",
       "      <th>education</th>\n",
       "      <th>education.num</th>\n",
       "      <th>marital.status</th>\n",
       "      <th>occupation</th>\n",
       "      <th>relationship</th>\n",
       "      <th>race</th>\n",
       "      <th>sex</th>\n",
       "      <th>capital.gain</th>\n",
       "      <th>capital.loss</th>\n",
       "      <th>hours.per.week</th>\n",
       "      <th>native.country</th>\n",
       "      <th>income</th>\n",
       "    </tr>\n",
       "  </thead>\n",
       "  <tbody>\n",
       "    <tr>\n",
       "      <th>0</th>\n",
       "      <td>0</td>\n",
       "      <td>90</td>\n",
       "      <td>?</td>\n",
       "      <td>77053</td>\n",
       "      <td>HS-grad</td>\n",
       "      <td>9</td>\n",
       "      <td>Widowed</td>\n",
       "      <td>?</td>\n",
       "      <td>Not-in-family</td>\n",
       "      <td>White</td>\n",
       "      <td>Female</td>\n",
       "      <td>0</td>\n",
       "      <td>4356</td>\n",
       "      <td>40</td>\n",
       "      <td>United-States</td>\n",
       "      <td>&lt;=50K</td>\n",
       "    </tr>\n",
       "    <tr>\n",
       "      <th>1</th>\n",
       "      <td>1</td>\n",
       "      <td>82</td>\n",
       "      <td>Private</td>\n",
       "      <td>132870</td>\n",
       "      <td>HS-grad</td>\n",
       "      <td>9</td>\n",
       "      <td>Widowed</td>\n",
       "      <td>Exec-managerial</td>\n",
       "      <td>Not-in-family</td>\n",
       "      <td>White</td>\n",
       "      <td>Female</td>\n",
       "      <td>0</td>\n",
       "      <td>4356</td>\n",
       "      <td>18</td>\n",
       "      <td>United-States</td>\n",
       "      <td>&lt;=50K</td>\n",
       "    </tr>\n",
       "    <tr>\n",
       "      <th>2</th>\n",
       "      <td>2</td>\n",
       "      <td>66</td>\n",
       "      <td>?</td>\n",
       "      <td>186061</td>\n",
       "      <td>Some-college</td>\n",
       "      <td>10</td>\n",
       "      <td>Widowed</td>\n",
       "      <td>?</td>\n",
       "      <td>Unmarried</td>\n",
       "      <td>Black</td>\n",
       "      <td>Female</td>\n",
       "      <td>0</td>\n",
       "      <td>4356</td>\n",
       "      <td>40</td>\n",
       "      <td>United-States</td>\n",
       "      <td>&lt;=50K</td>\n",
       "    </tr>\n",
       "    <tr>\n",
       "      <th>3</th>\n",
       "      <td>3</td>\n",
       "      <td>54</td>\n",
       "      <td>Private</td>\n",
       "      <td>140359</td>\n",
       "      <td>7th-8th</td>\n",
       "      <td>4</td>\n",
       "      <td>Divorced</td>\n",
       "      <td>Machine-op-inspct</td>\n",
       "      <td>Unmarried</td>\n",
       "      <td>White</td>\n",
       "      <td>Female</td>\n",
       "      <td>0</td>\n",
       "      <td>3900</td>\n",
       "      <td>40</td>\n",
       "      <td>United-States</td>\n",
       "      <td>&lt;=50K</td>\n",
       "    </tr>\n",
       "    <tr>\n",
       "      <th>4</th>\n",
       "      <td>4</td>\n",
       "      <td>41</td>\n",
       "      <td>Private</td>\n",
       "      <td>264663</td>\n",
       "      <td>Some-college</td>\n",
       "      <td>10</td>\n",
       "      <td>Separated</td>\n",
       "      <td>Prof-specialty</td>\n",
       "      <td>Own-child</td>\n",
       "      <td>White</td>\n",
       "      <td>Female</td>\n",
       "      <td>0</td>\n",
       "      <td>3900</td>\n",
       "      <td>40</td>\n",
       "      <td>United-States</td>\n",
       "      <td>&lt;=50K</td>\n",
       "    </tr>\n",
       "  </tbody>\n",
       "</table>\n",
       "</div>"
      ],
      "text/plain": [
       "   index  age workclass  fnlwgt     education  education.num marital.status  \\\n",
       "0      0   90         ?   77053       HS-grad              9        Widowed   \n",
       "1      1   82   Private  132870       HS-grad              9        Widowed   \n",
       "2      2   66         ?  186061  Some-college             10        Widowed   \n",
       "3      3   54   Private  140359       7th-8th              4       Divorced   \n",
       "4      4   41   Private  264663  Some-college             10      Separated   \n",
       "\n",
       "          occupation   relationship   race     sex  capital.gain  \\\n",
       "0                  ?  Not-in-family  White  Female             0   \n",
       "1    Exec-managerial  Not-in-family  White  Female             0   \n",
       "2                  ?      Unmarried  Black  Female             0   \n",
       "3  Machine-op-inspct      Unmarried  White  Female             0   \n",
       "4     Prof-specialty      Own-child  White  Female             0   \n",
       "\n",
       "   capital.loss  hours.per.week native.country income  \n",
       "0          4356              40  United-States  <=50K  \n",
       "1          4356              18  United-States  <=50K  \n",
       "2          4356              40  United-States  <=50K  \n",
       "3          3900              40  United-States  <=50K  \n",
       "4          3900              40  United-States  <=50K  "
      ]
     },
     "execution_count": 95,
     "metadata": {},
     "output_type": "execute_result"
    }
   ],
   "source": [
    "df.head()"
   ]
  },
  {
   "cell_type": "markdown",
   "id": "068ff199",
   "metadata": {},
   "source": [
    "## > Explore column by column"
   ]
  },
  {
   "cell_type": "code",
   "execution_count": 96,
   "id": "e6f26ef2",
   "metadata": {
    "execution": {
     "iopub.execute_input": "2022-08-01T13:35:35.871605Z",
     "iopub.status.busy": "2022-08-01T13:35:35.871219Z",
     "iopub.status.idle": "2022-08-01T13:35:35.877230Z",
     "shell.execute_reply": "2022-08-01T13:35:35.876327Z",
     "shell.execute_reply.started": "2022-08-01T13:35:35.871578Z"
    },
    "tags": []
   },
   "outputs": [
    {
     "data": {
      "text/plain": [
       "Index(['index', 'age', 'workclass', 'fnlwgt', 'education', 'education.num',\n",
       "       'marital.status', 'occupation', 'relationship', 'race', 'sex',\n",
       "       'capital.gain', 'capital.loss', 'hours.per.week', 'native.country',\n",
       "       'income'],\n",
       "      dtype='object')"
      ]
     },
     "execution_count": 96,
     "metadata": {},
     "output_type": "execute_result"
    }
   ],
   "source": [
    "df.columns"
   ]
  },
  {
   "cell_type": "code",
   "execution_count": 97,
   "id": "db27f6fc",
   "metadata": {
    "execution": {
     "iopub.execute_input": "2022-08-01T13:35:35.880294Z",
     "iopub.status.busy": "2022-08-01T13:35:35.879929Z",
     "iopub.status.idle": "2022-08-01T13:35:35.889117Z",
     "shell.execute_reply": "2022-08-01T13:35:35.888392Z",
     "shell.execute_reply.started": "2022-08-01T13:35:35.880268Z"
    },
    "tags": []
   },
   "outputs": [
    {
     "data": {
      "text/plain": [
       "count    32561.000000\n",
       "mean        38.581647\n",
       "std         13.640433\n",
       "min         17.000000\n",
       "25%         28.000000\n",
       "50%         37.000000\n",
       "75%         48.000000\n",
       "max         90.000000\n",
       "Name: age, dtype: float64"
      ]
     },
     "execution_count": 97,
     "metadata": {},
     "output_type": "execute_result"
    }
   ],
   "source": [
    "df['age'].describe()"
   ]
  },
  {
   "cell_type": "code",
   "execution_count": 98,
   "id": "c49735cd",
   "metadata": {
    "execution": {
     "iopub.execute_input": "2022-08-01T13:35:35.890469Z",
     "iopub.status.busy": "2022-08-01T13:35:35.890012Z",
     "iopub.status.idle": "2022-08-01T13:35:36.055172Z",
     "shell.execute_reply": "2022-08-01T13:35:36.054111Z",
     "shell.execute_reply.started": "2022-08-01T13:35:35.890444Z"
    },
    "tags": []
   },
   "outputs": [
    {
     "data": {
      "text/plain": [
       "(array([2410., 3160., 2461., 3429., 3465., 2583., 3198., 2965., 1828.,\n",
       "        2139., 1558., 1033.,  996.,  599.,  269.,  227.,  120.,   54.,\n",
       "          20.,   47.]),\n",
       " array([17.  , 20.65, 24.3 , 27.95, 31.6 , 35.25, 38.9 , 42.55, 46.2 ,\n",
       "        49.85, 53.5 , 57.15, 60.8 , 64.45, 68.1 , 71.75, 75.4 , 79.05,\n",
       "        82.7 , 86.35, 90.  ]),\n",
       " <BarContainer object of 20 artists>)"
      ]
     },
     "execution_count": 98,
     "metadata": {},
     "output_type": "execute_result"
    },
    {
     "data": {
      "image/png": "[encoded data removed]",
      "text/plain": [
       "<Figure size 432x288 with 1 Axes>"
      ]
     },
     "metadata": {
      "needs_background": "light"
     },
     "output_type": "display_data"
    }
   ],
   "source": [
    "plt.hist(df['age'], bins=20)"
   ]
  },
  {
   "cell_type": "markdown",
   "id": "6adb4def",
   "metadata": {},
   "source": [
    "It is well distributed. Seems like most of population is around 30 years old with 37/38 being the ages with most people. \n",
    "\n",
    "No transformations are needed for this column, I will use the raw value."
   ]
  },
  {
   "cell_type": "code",
   "execution_count": 99,
   "id": "44ec265d",
   "metadata": {
    "execution": {
     "iopub.execute_input": "2022-08-01T13:35:36.057892Z",
     "iopub.status.busy": "2022-08-01T13:35:36.057525Z",
     "iopub.status.idle": "2022-08-01T13:35:36.066134Z",
     "shell.execute_reply": "2022-08-01T13:35:36.064941Z",
     "shell.execute_reply.started": "2022-08-01T13:35:36.057867Z"
    },
    "tags": []
   },
   "outputs": [
    {
     "data": {
      "text/plain": [
       "Private             22696\n",
       "Self-emp-not-inc     2541\n",
       "Local-gov            2093\n",
       "?                    1836\n",
       "State-gov            1298\n",
       "Self-emp-inc         1116\n",
       "Federal-gov           960\n",
       "Without-pay            14\n",
       "Never-worked            7\n",
       "Name: workclass, dtype: int64"
      ]
     },
     "execution_count": 99,
     "metadata": {},
     "output_type": "execute_result"
    }
   ],
   "source": [
    "df['workclass'].value_counts()"
   ]
  },
  {
   "cell_type": "code",
   "execution_count": 100,
   "id": "3d81f4f8",
   "metadata": {
    "execution": {
     "iopub.execute_input": "2022-08-01T13:35:36.067696Z",
     "iopub.status.busy": "2022-08-01T13:35:36.067115Z",
     "iopub.status.idle": "2022-08-01T13:35:36.075146Z",
     "shell.execute_reply": "2022-08-01T13:35:36.074426Z",
     "shell.execute_reply.started": "2022-08-01T13:35:36.067668Z"
    },
    "tags": []
   },
   "outputs": [
    {
     "data": {
      "text/plain": [
       "Private             0.697030\n",
       "Self-emp-not-inc    0.078038\n",
       "Local-gov           0.064279\n",
       "?                   0.056386\n",
       "State-gov           0.039864\n",
       "Self-emp-inc        0.034274\n",
       "Federal-gov         0.029483\n",
       "Without-pay         0.000430\n",
       "Never-worked        0.000215\n",
       "Name: workclass, dtype: float64"
      ]
     },
     "execution_count": 100,
     "metadata": {},
     "output_type": "execute_result"
    }
   ],
   "source": [
    "df['workclass'].value_counts(1)"
   ]
  },
  {
   "cell_type": "markdown",
   "id": "68b40bc6",
   "metadata": {},
   "source": [
    "Most people work in private companies.\n",
    "\n",
    "I can one hot encode these features."
   ]
  },
  {
   "cell_type": "code",
   "execution_count": 101,
   "id": "4ff83414",
   "metadata": {
    "execution": {
     "iopub.execute_input": "2022-08-01T13:35:36.076650Z",
     "iopub.status.busy": "2022-08-01T13:35:36.076051Z",
     "iopub.status.idle": "2022-08-01T13:35:36.085120Z",
     "shell.execute_reply": "2022-08-01T13:35:36.084416Z",
     "shell.execute_reply.started": "2022-08-01T13:35:36.076622Z"
    },
    "tags": []
   },
   "outputs": [
    {
     "data": {
      "text/plain": [
       "count    3.256100e+04\n",
       "mean     1.897784e+05\n",
       "std      1.055500e+05\n",
       "min      1.228500e+04\n",
       "25%      1.178270e+05\n",
       "50%      1.783560e+05\n",
       "75%      2.370510e+05\n",
       "max      1.484705e+06\n",
       "Name: fnlwgt, dtype: float64"
      ]
     },
     "execution_count": 101,
     "metadata": {},
     "output_type": "execute_result"
    }
   ],
   "source": [
    "df['fnlwgt'].describe()"
   ]
  },
  {
   "cell_type": "markdown",
   "id": "0b70f3ca",
   "metadata": {},
   "source": [
    "This seems like some sort of id. Let me check."
   ]
  },
  {
   "cell_type": "code",
   "execution_count": 102,
   "id": "f746ddb3",
   "metadata": {
    "execution": {
     "iopub.execute_input": "2022-08-01T13:35:36.086469Z",
     "iopub.status.busy": "2022-08-01T13:35:36.086013Z",
     "iopub.status.idle": "2022-08-01T13:35:36.092176Z",
     "shell.execute_reply": "2022-08-01T13:35:36.091481Z",
     "shell.execute_reply.started": "2022-08-01T13:35:36.086445Z"
    },
    "tags": []
   },
   "outputs": [
    {
     "data": {
      "text/plain": [
       "21648"
      ]
     },
     "execution_count": 102,
     "metadata": {},
     "output_type": "execute_result"
    }
   ],
   "source": [
    "df['fnlwgt'].nunique()"
   ]
  },
  {
   "cell_type": "code",
   "execution_count": 103,
   "id": "04771931",
   "metadata": {
    "execution": {
     "iopub.execute_input": "2022-08-01T13:35:36.093717Z",
     "iopub.status.busy": "2022-08-01T13:35:36.093381Z",
     "iopub.status.idle": "2022-08-01T13:35:36.098668Z",
     "shell.execute_reply": "2022-08-01T13:35:36.097631Z",
     "shell.execute_reply.started": "2022-08-01T13:35:36.093694Z"
    },
    "tags": []
   },
   "outputs": [
    {
     "data": {
      "text/plain": [
       "(32561, 16)"
      ]
     },
     "execution_count": 103,
     "metadata": {},
     "output_type": "execute_result"
    }
   ],
   "source": [
    "df.shape"
   ]
  },
  {
   "cell_type": "markdown",
   "id": "565be9eb",
   "metadata": {},
   "source": [
    "Nope. But I have to check what it can mean later. \n",
    "\n",
    "I searched on Google and I got this: \"The continuous variable fnlwgt represents final weight, which is the number of units in the target population that the responding unit represents\". Since I have no idea what this means, I will drop this column."
   ]
  },
  {
   "cell_type": "code",
   "execution_count": 104,
   "id": "05e0b74c",
   "metadata": {
    "execution": {
     "iopub.execute_input": "2022-08-01T13:35:36.103344Z",
     "iopub.status.busy": "2022-08-01T13:35:36.102963Z",
     "iopub.status.idle": "2022-08-01T13:35:36.112319Z",
     "shell.execute_reply": "2022-08-01T13:35:36.111571Z",
     "shell.execute_reply.started": "2022-08-01T13:35:36.103319Z"
    },
    "tags": []
   },
   "outputs": [
    {
     "data": {
      "text/plain": [
       "HS-grad         10501\n",
       "Some-college     7291\n",
       "Bachelors        5355\n",
       "Masters          1723\n",
       "Assoc-voc        1382\n",
       "11th             1175\n",
       "Assoc-acdm       1067\n",
       "10th              933\n",
       "7th-8th           646\n",
       "Prof-school       576\n",
       "9th               514\n",
       "12th              433\n",
       "Doctorate         413\n",
       "5th-6th           333\n",
       "1st-4th           168\n",
       "Preschool          51\n",
       "Name: education, dtype: int64"
      ]
     },
     "execution_count": 104,
     "metadata": {},
     "output_type": "execute_result"
    }
   ],
   "source": [
    "df['education'].value_counts()"
   ]
  },
  {
   "cell_type": "markdown",
   "id": "1e9d4371",
   "metadata": {},
   "source": [
    "Just education levels. I can make them into ordinal features and do a one hot encoding after."
   ]
  },
  {
   "cell_type": "code",
   "execution_count": 105,
   "id": "f5aaa567",
   "metadata": {
    "execution": {
     "iopub.execute_input": "2022-08-01T13:35:36.113823Z",
     "iopub.status.busy": "2022-08-01T13:35:36.113343Z",
     "iopub.status.idle": "2022-08-01T13:35:36.122463Z",
     "shell.execute_reply": "2022-08-01T13:35:36.121635Z",
     "shell.execute_reply.started": "2022-08-01T13:35:36.113797Z"
    },
    "tags": []
   },
   "outputs": [
    {
     "data": {
      "text/plain": [
       "9     10501\n",
       "10     7291\n",
       "13     5355\n",
       "14     1723\n",
       "11     1382\n",
       "7      1175\n",
       "12     1067\n",
       "6       933\n",
       "4       646\n",
       "15      576\n",
       "5       514\n",
       "8       433\n",
       "16      413\n",
       "3       333\n",
       "2       168\n",
       "1        51\n",
       "Name: education.num, dtype: int64"
      ]
     },
     "execution_count": 105,
     "metadata": {},
     "output_type": "execute_result"
    }
   ],
   "source": [
    "df['education.num'].value_counts()"
   ]
  },
  {
   "cell_type": "markdown",
   "id": "026d2de2",
   "metadata": {},
   "source": [
    "Is this some sort of code for the previous column? Let me check."
   ]
  },
  {
   "cell_type": "code",
   "execution_count": 106,
   "id": "ecd71122",
   "metadata": {
    "execution": {
     "iopub.execute_input": "2022-08-01T13:35:36.124971Z",
     "iopub.status.busy": "2022-08-01T13:35:36.124542Z",
     "iopub.status.idle": "2022-08-01T13:35:36.178800Z",
     "shell.execute_reply": "2022-08-01T13:35:36.177682Z",
     "shell.execute_reply.started": "2022-08-01T13:35:36.124930Z"
    },
    "tags": []
   },
   "outputs": [
    {
     "data": {
      "text/html": [
       "<div>\n",
       "<style scoped>\n",
       "    .dataframe tbody tr th:only-of-type {\n",
       "        vertical-align: middle;\n",
       "    }\n",
       "\n",
       "    .dataframe tbody tr th {\n",
       "        vertical-align: top;\n",
       "    }\n",
       "\n",
       "    .dataframe thead th {\n",
       "        text-align: right;\n",
       "    }\n",
       "</style>\n",
       "<table border=\"1\" class=\"dataframe\">\n",
       "  <thead>\n",
       "    <tr style=\"text-align: right;\">\n",
       "      <th></th>\n",
       "      <th>education</th>\n",
       "      <th>education.num</th>\n",
       "    </tr>\n",
       "  </thead>\n",
       "  <tbody>\n",
       "    <tr>\n",
       "      <th>13</th>\n",
       "      <td>Preschool</td>\n",
       "      <td>1</td>\n",
       "    </tr>\n",
       "    <tr>\n",
       "      <th>3</th>\n",
       "      <td>1st-4th</td>\n",
       "      <td>2</td>\n",
       "    </tr>\n",
       "    <tr>\n",
       "      <th>4</th>\n",
       "      <td>5th-6th</td>\n",
       "      <td>3</td>\n",
       "    </tr>\n",
       "    <tr>\n",
       "      <th>5</th>\n",
       "      <td>7th-8th</td>\n",
       "      <td>4</td>\n",
       "    </tr>\n",
       "    <tr>\n",
       "      <th>6</th>\n",
       "      <td>9th</td>\n",
       "      <td>5</td>\n",
       "    </tr>\n",
       "    <tr>\n",
       "      <th>0</th>\n",
       "      <td>10th</td>\n",
       "      <td>6</td>\n",
       "    </tr>\n",
       "    <tr>\n",
       "      <th>1</th>\n",
       "      <td>11th</td>\n",
       "      <td>7</td>\n",
       "    </tr>\n",
       "    <tr>\n",
       "      <th>2</th>\n",
       "      <td>12th</td>\n",
       "      <td>8</td>\n",
       "    </tr>\n",
       "    <tr>\n",
       "      <th>11</th>\n",
       "      <td>HS-grad</td>\n",
       "      <td>9</td>\n",
       "    </tr>\n",
       "    <tr>\n",
       "      <th>15</th>\n",
       "      <td>Some-college</td>\n",
       "      <td>10</td>\n",
       "    </tr>\n",
       "    <tr>\n",
       "      <th>8</th>\n",
       "      <td>Assoc-voc</td>\n",
       "      <td>11</td>\n",
       "    </tr>\n",
       "    <tr>\n",
       "      <th>7</th>\n",
       "      <td>Assoc-acdm</td>\n",
       "      <td>12</td>\n",
       "    </tr>\n",
       "    <tr>\n",
       "      <th>9</th>\n",
       "      <td>Bachelors</td>\n",
       "      <td>13</td>\n",
       "    </tr>\n",
       "    <tr>\n",
       "      <th>12</th>\n",
       "      <td>Masters</td>\n",
       "      <td>14</td>\n",
       "    </tr>\n",
       "    <tr>\n",
       "      <th>14</th>\n",
       "      <td>Prof-school</td>\n",
       "      <td>15</td>\n",
       "    </tr>\n",
       "    <tr>\n",
       "      <th>10</th>\n",
       "      <td>Doctorate</td>\n",
       "      <td>16</td>\n",
       "    </tr>\n",
       "  </tbody>\n",
       "</table>\n",
       "</div>"
      ],
      "text/plain": [
       "       education  education.num\n",
       "13     Preschool              1\n",
       "3        1st-4th              2\n",
       "4        5th-6th              3\n",
       "5        7th-8th              4\n",
       "6            9th              5\n",
       "0           10th              6\n",
       "1           11th              7\n",
       "2           12th              8\n",
       "11       HS-grad              9\n",
       "15  Some-college             10\n",
       "8      Assoc-voc             11\n",
       "7     Assoc-acdm             12\n",
       "9      Bachelors             13\n",
       "12       Masters             14\n",
       "14   Prof-school             15\n",
       "10     Doctorate             16"
      ]
     },
     "execution_count": 106,
     "metadata": {},
     "output_type": "execute_result"
    }
   ],
   "source": [
    "df.groupby(['education', 'education.num'], as_index=False).count()\\\n",
    "        [['education', 'education.num']].sort_values('education.num')"
   ]
  },
  {
   "cell_type": "markdown",
   "id": "20f1a0d8",
   "metadata": {},
   "source": [
    "Looks like it is. This way, I may not need this column."
   ]
  },
  {
   "cell_type": "code",
   "execution_count": 107,
   "id": "448fc35c",
   "metadata": {
    "execution": {
     "iopub.execute_input": "2022-08-01T13:35:36.182139Z",
     "iopub.status.busy": "2022-08-01T13:35:36.181682Z",
     "iopub.status.idle": "2022-08-01T13:35:36.189871Z",
     "shell.execute_reply": "2022-08-01T13:35:36.189175Z",
     "shell.execute_reply.started": "2022-08-01T13:35:36.182108Z"
    },
    "tags": []
   },
   "outputs": [
    {
     "data": {
      "text/plain": [
       "Married-civ-spouse       14976\n",
       "Never-married            10683\n",
       "Divorced                  4443\n",
       "Separated                 1025\n",
       "Widowed                    993\n",
       "Married-spouse-absent      418\n",
       "Married-AF-spouse           23\n",
       "Name: marital.status, dtype: int64"
      ]
     },
     "execution_count": 107,
     "metadata": {},
     "output_type": "execute_result"
    }
   ],
   "source": [
    "df['marital.status'].value_counts()"
   ]
  },
  {
   "cell_type": "code",
   "execution_count": 108,
   "id": "0c915617",
   "metadata": {
    "execution": {
     "iopub.execute_input": "2022-08-01T13:35:36.191342Z",
     "iopub.status.busy": "2022-08-01T13:35:36.190749Z",
     "iopub.status.idle": "2022-08-01T13:35:36.199660Z",
     "shell.execute_reply": "2022-08-01T13:35:36.198809Z",
     "shell.execute_reply.started": "2022-08-01T13:35:36.191289Z"
    },
    "tags": []
   },
   "outputs": [
    {
     "data": {
      "text/plain": [
       "Married-civ-spouse       0.459937\n",
       "Never-married            0.328092\n",
       "Divorced                 0.136452\n",
       "Separated                0.031479\n",
       "Widowed                  0.030497\n",
       "Married-spouse-absent    0.012837\n",
       "Married-AF-spouse        0.000706\n",
       "Name: marital.status, dtype: float64"
      ]
     },
     "execution_count": 108,
     "metadata": {},
     "output_type": "execute_result"
    }
   ],
   "source": [
    "df['marital.status'].value_counts(1)"
   ]
  },
  {
   "cell_type": "markdown",
   "id": "977f529a",
   "metadata": {},
   "source": [
    "One hot encode this."
   ]
  },
  {
   "cell_type": "code",
   "execution_count": 109,
   "id": "e0e59835",
   "metadata": {
    "execution": {
     "iopub.execute_input": "2022-08-01T13:35:36.201951Z",
     "iopub.status.busy": "2022-08-01T13:35:36.201618Z",
     "iopub.status.idle": "2022-08-01T13:35:36.210100Z",
     "shell.execute_reply": "2022-08-01T13:35:36.209459Z",
     "shell.execute_reply.started": "2022-08-01T13:35:36.201924Z"
    },
    "tags": []
   },
   "outputs": [
    {
     "data": {
      "text/plain": [
       "Prof-specialty       4140\n",
       "Craft-repair         4099\n",
       "Exec-managerial      4066\n",
       "Adm-clerical         3770\n",
       "Sales                3650\n",
       "Other-service        3295\n",
       "Machine-op-inspct    2002\n",
       "?                    1843\n",
       "Transport-moving     1597\n",
       "Handlers-cleaners    1370\n",
       "Farming-fishing       994\n",
       "Tech-support          928\n",
       "Protective-serv       649\n",
       "Priv-house-serv       149\n",
       "Armed-Forces            9\n",
       "Name: occupation, dtype: int64"
      ]
     },
     "execution_count": 109,
     "metadata": {},
     "output_type": "execute_result"
    }
   ],
   "source": [
    "df['occupation'].value_counts()"
   ]
  },
  {
   "cell_type": "code",
   "execution_count": 110,
   "id": "ae9dab2f",
   "metadata": {
    "execution": {
     "iopub.execute_input": "2022-08-01T13:35:36.211468Z",
     "iopub.status.busy": "2022-08-01T13:35:36.211020Z",
     "iopub.status.idle": "2022-08-01T13:35:36.217567Z",
     "shell.execute_reply": "2022-08-01T13:35:36.216766Z",
     "shell.execute_reply.started": "2022-08-01T13:35:36.211444Z"
    },
    "tags": []
   },
   "outputs": [
    {
     "data": {
      "text/plain": [
       "15"
      ]
     },
     "execution_count": 110,
     "metadata": {},
     "output_type": "execute_result"
    }
   ],
   "source": [
    "df['occupation'].nunique()"
   ]
  },
  {
   "cell_type": "markdown",
   "id": "d7f0e010",
   "metadata": {},
   "source": [
    "Occupation will probably impact on what we are trying to predict: income. Good thing is that the data is well distributed for this. \n",
    "\n",
    "Despite having so many occupations in the world this column has only these 15. I can one hot encode them."
   ]
  },
  {
   "cell_type": "code",
   "execution_count": 111,
   "id": "7bc9dc89",
   "metadata": {
    "execution": {
     "iopub.execute_input": "2022-08-01T13:35:36.240205Z",
     "iopub.status.busy": "2022-08-01T13:35:36.239869Z",
     "iopub.status.idle": "2022-08-01T13:35:36.248077Z",
     "shell.execute_reply": "2022-08-01T13:35:36.247369Z",
     "shell.execute_reply.started": "2022-08-01T13:35:36.240181Z"
    },
    "tags": []
   },
   "outputs": [
    {
     "data": {
      "text/plain": [
       "Husband           13193\n",
       "Not-in-family      8305\n",
       "Own-child          5068\n",
       "Unmarried          3446\n",
       "Wife               1568\n",
       "Other-relative      981\n",
       "Name: relationship, dtype: int64"
      ]
     },
     "execution_count": 111,
     "metadata": {},
     "output_type": "execute_result"
    }
   ],
   "source": [
    "df['relationship'].value_counts()"
   ]
  },
  {
   "cell_type": "code",
   "execution_count": 112,
   "id": "d6f521ca",
   "metadata": {
    "execution": {
     "iopub.execute_input": "2022-08-01T13:35:36.254107Z",
     "iopub.status.busy": "2022-08-01T13:35:36.253755Z",
     "iopub.status.idle": "2022-08-01T13:35:36.262540Z",
     "shell.execute_reply": "2022-08-01T13:35:36.261843Z",
     "shell.execute_reply.started": "2022-08-01T13:35:36.254082Z"
    },
    "tags": []
   },
   "outputs": [
    {
     "data": {
      "text/plain": [
       "Husband           0.405178\n",
       "Not-in-family     0.255060\n",
       "Own-child         0.155646\n",
       "Unmarried         0.105832\n",
       "Wife              0.048156\n",
       "Other-relative    0.030128\n",
       "Name: relationship, dtype: float64"
      ]
     },
     "execution_count": 112,
     "metadata": {},
     "output_type": "execute_result"
    }
   ],
   "source": [
    "df['relationship'].value_counts(1)"
   ]
  },
  {
   "cell_type": "markdown",
   "id": "c7fd9efc",
   "metadata": {},
   "source": [
    "Don't know if this column means that the person is in a relationship with a \"husband\" or \"wife\" or if they are the 'husband' and 'wife'."
   ]
  },
  {
   "cell_type": "markdown",
   "id": "876c4422",
   "metadata": {},
   "source": [
    "Let me see if I can find out by using the column 'sex'."
   ]
  },
  {
   "cell_type": "code",
   "execution_count": 113,
   "id": "3feab201",
   "metadata": {
    "execution": {
     "iopub.execute_input": "2022-08-01T13:35:36.282960Z",
     "iopub.status.busy": "2022-08-01T13:35:36.282610Z",
     "iopub.status.idle": "2022-08-01T13:35:36.293915Z",
     "shell.execute_reply": "2022-08-01T13:35:36.293204Z",
     "shell.execute_reply.started": "2022-08-01T13:35:36.282935Z"
    },
    "tags": []
   },
   "outputs": [
    {
     "data": {
      "text/plain": [
       "relationship    sex   \n",
       "Husband         Female        1\n",
       "                Male      13192\n",
       "Not-in-family   Female     3875\n",
       "                Male       4430\n",
       "Other-relative  Female      430\n",
       "                Male        551\n",
       "Own-child       Female     2245\n",
       "                Male       2823\n",
       "Unmarried       Female     2654\n",
       "                Male        792\n",
       "Wife            Female     1566\n",
       "                Male          2\n",
       "Name: index, dtype: int64"
      ]
     },
     "execution_count": 113,
     "metadata": {},
     "output_type": "execute_result"
    }
   ],
   "source": [
    "df.groupby(['relationship', 'sex'])['index'].count()"
   ]
  },
  {
   "cell_type": "markdown",
   "id": "f413f579",
   "metadata": {},
   "source": [
    "It looks like this means that they are 'husbands' and 'wives'. However, I already have this information in the 'marital.status' column."
   ]
  },
  {
   "cell_type": "code",
   "execution_count": 114,
   "id": "f160f1bc",
   "metadata": {
    "execution": {
     "iopub.execute_input": "2022-08-01T13:35:36.321182Z",
     "iopub.status.busy": "2022-08-01T13:35:36.320835Z",
     "iopub.status.idle": "2022-08-01T13:35:36.333344Z",
     "shell.execute_reply": "2022-08-01T13:35:36.332596Z",
     "shell.execute_reply.started": "2022-08-01T13:35:36.321155Z"
    },
    "tags": []
   },
   "outputs": [
    {
     "data": {
      "text/plain": [
       "relationship    marital.status       \n",
       "Husband         Married-AF-spouse            9\n",
       "                Married-civ-spouse       13184\n",
       "Not-in-family   Divorced                  2404\n",
       "                Married-civ-spouse          17\n",
       "                Married-spouse-absent      211\n",
       "                Never-married             4706\n",
       "                Separated                  420\n",
       "                Widowed                    547\n",
       "Other-relative  Divorced                   110\n",
       "                Married-AF-spouse            1\n",
       "                Married-civ-spouse         124\n",
       "                Married-spouse-absent       32\n",
       "                Never-married              611\n",
       "                Separated                   55\n",
       "                Widowed                     48\n",
       "Own-child       Divorced                   328\n",
       "                Married-AF-spouse            1\n",
       "                Married-civ-spouse          95\n",
       "                Married-spouse-absent       45\n",
       "                Never-married             4485\n",
       "                Separated                   99\n",
       "                Widowed                     15\n",
       "Unmarried       Divorced                  1601\n",
       "                Married-spouse-absent      130\n",
       "                Never-married              881\n",
       "                Separated                  451\n",
       "                Widowed                    383\n",
       "Wife            Married-AF-spouse           12\n",
       "                Married-civ-spouse        1556\n",
       "Name: index, dtype: int64"
      ]
     },
     "execution_count": 114,
     "metadata": {},
     "output_type": "execute_result"
    }
   ],
   "source": [
    "df.groupby(['relationship', 'marital.status'])['index'].count()"
   ]
  },
  {
   "cell_type": "markdown",
   "id": "799d3cc0",
   "metadata": {},
   "source": [
    "Yep. I'll delete it."
   ]
  },
  {
   "cell_type": "code",
   "execution_count": 115,
   "id": "0fe623c9",
   "metadata": {
    "execution": {
     "iopub.execute_input": "2022-08-01T13:35:36.350394Z",
     "iopub.status.busy": "2022-08-01T13:35:36.349804Z",
     "iopub.status.idle": "2022-08-01T13:35:36.358220Z",
     "shell.execute_reply": "2022-08-01T13:35:36.357262Z",
     "shell.execute_reply.started": "2022-08-01T13:35:36.350368Z"
    },
    "tags": []
   },
   "outputs": [
    {
     "data": {
      "text/plain": [
       "White                 27816\n",
       "Black                  3124\n",
       "Asian-Pac-Islander     1039\n",
       "Amer-Indian-Eskimo      311\n",
       "Other                   271\n",
       "Name: race, dtype: int64"
      ]
     },
     "execution_count": 115,
     "metadata": {},
     "output_type": "execute_result"
    }
   ],
   "source": [
    "df['race'].value_counts()"
   ]
  },
  {
   "cell_type": "code",
   "execution_count": 116,
   "id": "657adb22",
   "metadata": {
    "execution": {
     "iopub.execute_input": "2022-08-01T13:35:36.367162Z",
     "iopub.status.busy": "2022-08-01T13:35:36.366825Z",
     "iopub.status.idle": "2022-08-01T13:35:36.376457Z",
     "shell.execute_reply": "2022-08-01T13:35:36.375685Z",
     "shell.execute_reply.started": "2022-08-01T13:35:36.367135Z"
    },
    "tags": []
   },
   "outputs": [
    {
     "data": {
      "text/plain": [
       "White                 0.854274\n",
       "Black                 0.095943\n",
       "Asian-Pac-Islander    0.031909\n",
       "Amer-Indian-Eskimo    0.009551\n",
       "Other                 0.008323\n",
       "Name: race, dtype: float64"
      ]
     },
     "execution_count": 116,
     "metadata": {},
     "output_type": "execute_result"
    }
   ],
   "source": [
    "df['race'].value_counts(1)"
   ]
  },
  {
   "cell_type": "markdown",
   "id": "855012a2",
   "metadata": {},
   "source": [
    "There are much more white people than the rest. Maybe this can be a good `sens. attribute`.\n",
    "\n",
    "One hot encode."
   ]
  },
  {
   "cell_type": "code",
   "execution_count": 117,
   "id": "bdd5bc7b",
   "metadata": {
    "execution": {
     "iopub.execute_input": "2022-08-01T13:35:36.401531Z",
     "iopub.status.busy": "2022-08-01T13:35:36.401138Z",
     "iopub.status.idle": "2022-08-01T13:35:36.410332Z",
     "shell.execute_reply": "2022-08-01T13:35:36.409404Z",
     "shell.execute_reply.started": "2022-08-01T13:35:36.401503Z"
    },
    "tags": []
   },
   "outputs": [
    {
     "data": {
      "text/plain": [
       "Male      21790\n",
       "Female    10771\n",
       "Name: sex, dtype: int64"
      ]
     },
     "execution_count": 117,
     "metadata": {},
     "output_type": "execute_result"
    }
   ],
   "source": [
    "df['sex'].value_counts()"
   ]
  },
  {
   "cell_type": "code",
   "execution_count": 118,
   "id": "40cb952e",
   "metadata": {
    "execution": {
     "iopub.execute_input": "2022-08-01T13:35:36.417729Z",
     "iopub.status.busy": "2022-08-01T13:35:36.417377Z",
     "iopub.status.idle": "2022-08-01T13:35:36.425832Z",
     "shell.execute_reply": "2022-08-01T13:35:36.425166Z",
     "shell.execute_reply.started": "2022-08-01T13:35:36.417703Z"
    },
    "tags": []
   },
   "outputs": [
    {
     "data": {
      "text/plain": [
       "Male      0.669205\n",
       "Female    0.330795\n",
       "Name: sex, dtype: float64"
      ]
     },
     "execution_count": 118,
     "metadata": {},
     "output_type": "execute_result"
    }
   ],
   "source": [
    "df['sex'].value_counts(1)"
   ]
  },
  {
   "cell_type": "markdown",
   "id": "f8fde045",
   "metadata": {},
   "source": [
    "There are more men than women. Maybe this can be a good `sens. attribute`."
   ]
  },
  {
   "cell_type": "code",
   "execution_count": 119,
   "id": "c3321008",
   "metadata": {
    "execution": {
     "iopub.execute_input": "2022-08-01T13:35:36.468987Z",
     "iopub.status.busy": "2022-08-01T13:35:36.468648Z",
     "iopub.status.idle": "2022-08-01T13:35:36.477396Z",
     "shell.execute_reply": "2022-08-01T13:35:36.476682Z",
     "shell.execute_reply.started": "2022-08-01T13:35:36.468962Z"
    },
    "tags": []
   },
   "outputs": [
    {
     "data": {
      "text/plain": [
       "count    32561.000000\n",
       "mean      1077.648844\n",
       "std       7385.292085\n",
       "min          0.000000\n",
       "25%          0.000000\n",
       "50%          0.000000\n",
       "75%          0.000000\n",
       "max      99999.000000\n",
       "Name: capital.gain, dtype: float64"
      ]
     },
     "execution_count": 119,
     "metadata": {},
     "output_type": "execute_result"
    }
   ],
   "source": [
    "df['capital.gain'].describe()"
   ]
  },
  {
   "cell_type": "code",
   "execution_count": 120,
   "id": "895c4e1b",
   "metadata": {
    "execution": {
     "iopub.execute_input": "2022-08-01T13:35:36.481864Z",
     "iopub.status.busy": "2022-08-01T13:35:36.481521Z",
     "iopub.status.idle": "2022-08-01T13:35:36.488873Z",
     "shell.execute_reply": "2022-08-01T13:35:36.487866Z",
     "shell.execute_reply.started": "2022-08-01T13:35:36.481839Z"
    },
    "tags": []
   },
   "outputs": [
    {
     "data": {
      "text/plain": [
       "0        29849\n",
       "15024      347\n",
       "7688       284\n",
       "7298       246\n",
       "99999      159\n",
       "5178        97\n",
       "3103        97\n",
       "4386        70\n",
       "5013        69\n",
       "8614        55\n",
       "Name: capital.gain, dtype: int64"
      ]
     },
     "execution_count": 120,
     "metadata": {},
     "output_type": "execute_result"
    }
   ],
   "source": [
    "df['capital.gain'].value_counts().head(10)"
   ]
  },
  {
   "cell_type": "code",
   "execution_count": 121,
   "id": "568adfa0",
   "metadata": {
    "execution": {
     "iopub.execute_input": "2022-08-01T13:35:36.494338Z",
     "iopub.status.busy": "2022-08-01T13:35:36.494009Z",
     "iopub.status.idle": "2022-08-01T13:35:36.501173Z",
     "shell.execute_reply": "2022-08-01T13:35:36.500522Z",
     "shell.execute_reply.started": "2022-08-01T13:35:36.494314Z"
    },
    "tags": []
   },
   "outputs": [
    {
     "data": {
      "text/plain": [
       "0        0.916710\n",
       "15024    0.010657\n",
       "7688     0.008722\n",
       "7298     0.007555\n",
       "99999    0.004883\n",
       "5178     0.002979\n",
       "3103     0.002979\n",
       "4386     0.002150\n",
       "5013     0.002119\n",
       "8614     0.001689\n",
       "Name: capital.gain, dtype: float64"
      ]
     },
     "execution_count": 121,
     "metadata": {},
     "output_type": "execute_result"
    }
   ],
   "source": [
    "df['capital.gain'].value_counts(1).head(10)"
   ]
  },
  {
   "cell_type": "markdown",
   "id": "4c6a3908",
   "metadata": {},
   "source": [
    "Have to know what this column mean later. But why are there much more zeroes than the rest?"
   ]
  },
  {
   "cell_type": "markdown",
   "id": "35ae9660",
   "metadata": {},
   "source": [
    "I googled it and I got: \"Capital gain refers to an increase in a capital asset's value and is considered to be realized when the asset is sold\". This way, it may be an important feature for the model to use."
   ]
  },
  {
   "cell_type": "code",
   "execution_count": 122,
   "id": "57a80ecd",
   "metadata": {
    "execution": {
     "iopub.execute_input": "2022-08-01T13:35:36.531032Z",
     "iopub.status.busy": "2022-08-01T13:35:36.530686Z",
     "iopub.status.idle": "2022-08-01T13:35:36.539517Z",
     "shell.execute_reply": "2022-08-01T13:35:36.538817Z",
     "shell.execute_reply.started": "2022-08-01T13:35:36.531005Z"
    },
    "tags": []
   },
   "outputs": [
    {
     "data": {
      "text/plain": [
       "count    32561.000000\n",
       "mean        87.303830\n",
       "std        402.960219\n",
       "min          0.000000\n",
       "25%          0.000000\n",
       "50%          0.000000\n",
       "75%          0.000000\n",
       "max       4356.000000\n",
       "Name: capital.loss, dtype: float64"
      ]
     },
     "execution_count": 122,
     "metadata": {},
     "output_type": "execute_result"
    }
   ],
   "source": [
    "df['capital.loss'].describe()"
   ]
  },
  {
   "cell_type": "code",
   "execution_count": 123,
   "id": "5fff984b",
   "metadata": {
    "execution": {
     "iopub.execute_input": "2022-08-01T13:35:36.553614Z",
     "iopub.status.busy": "2022-08-01T13:35:36.553114Z",
     "iopub.status.idle": "2022-08-01T13:35:36.560870Z",
     "shell.execute_reply": "2022-08-01T13:35:36.560150Z",
     "shell.execute_reply.started": "2022-08-01T13:35:36.553573Z"
    },
    "tags": []
   },
   "outputs": [
    {
     "data": {
      "text/plain": [
       "0       31042\n",
       "1902      202\n",
       "1977      168\n",
       "1887      159\n",
       "1485       51\n",
       "1848       51\n",
       "2415       49\n",
       "1602       47\n",
       "1740       42\n",
       "1590       40\n",
       "Name: capital.loss, dtype: int64"
      ]
     },
     "execution_count": 123,
     "metadata": {},
     "output_type": "execute_result"
    }
   ],
   "source": [
    "df['capital.loss'].value_counts().head(10)"
   ]
  },
  {
   "cell_type": "code",
   "execution_count": 124,
   "id": "5d9874b0",
   "metadata": {
    "execution": {
     "iopub.execute_input": "2022-08-01T13:35:36.588173Z",
     "iopub.status.busy": "2022-08-01T13:35:36.587769Z",
     "iopub.status.idle": "2022-08-01T13:35:36.594911Z",
     "shell.execute_reply": "2022-08-01T13:35:36.594275Z",
     "shell.execute_reply.started": "2022-08-01T13:35:36.588143Z"
    },
    "tags": []
   },
   "outputs": [
    {
     "data": {
      "text/plain": [
       "0       0.953349\n",
       "1902    0.006204\n",
       "1977    0.005160\n",
       "1887    0.004883\n",
       "1485    0.001566\n",
       "1848    0.001566\n",
       "2415    0.001505\n",
       "1602    0.001443\n",
       "1740    0.001290\n",
       "1590    0.001228\n",
       "Name: capital.loss, dtype: float64"
      ]
     },
     "execution_count": 124,
     "metadata": {},
     "output_type": "execute_result"
    }
   ],
   "source": [
    "df['capital.loss'].value_counts(1).head(10)"
   ]
  },
  {
   "cell_type": "markdown",
   "id": "28c1a0cc",
   "metadata": {},
   "source": [
    "Same as above. I can normalize them both and use the value as raw feature."
   ]
  },
  {
   "cell_type": "code",
   "execution_count": 125,
   "id": "9d4b6163",
   "metadata": {
    "execution": {
     "iopub.execute_input": "2022-08-01T13:35:36.605635Z",
     "iopub.status.busy": "2022-08-01T13:35:36.605292Z",
     "iopub.status.idle": "2022-08-01T13:35:36.613072Z",
     "shell.execute_reply": "2022-08-01T13:35:36.612367Z",
     "shell.execute_reply.started": "2022-08-01T13:35:36.605610Z"
    },
    "tags": []
   },
   "outputs": [
    {
     "data": {
      "text/plain": [
       "40    0.467338\n",
       "50    0.086576\n",
       "45    0.056018\n",
       "60    0.045300\n",
       "35    0.039833\n",
       "20    0.037591\n",
       "30    0.035288\n",
       "55    0.021314\n",
       "25    0.020700\n",
       "48    0.015878\n",
       "Name: hours.per.week, dtype: float64"
      ]
     },
     "execution_count": 125,
     "metadata": {},
     "output_type": "execute_result"
    }
   ],
   "source": [
    "df['hours.per.week'].value_counts(1).head(10)"
   ]
  },
  {
   "cell_type": "markdown",
   "id": "135587cf",
   "metadata": {},
   "source": [
    "I can turn them into ordinal features and then one hot encode them."
   ]
  },
  {
   "cell_type": "code",
   "execution_count": 126,
   "id": "9fe3d9ac",
   "metadata": {
    "execution": {
     "iopub.execute_input": "2022-08-01T13:35:36.628575Z",
     "iopub.status.busy": "2022-08-01T13:35:36.628235Z",
     "iopub.status.idle": "2022-08-01T13:35:36.637263Z",
     "shell.execute_reply": "2022-08-01T13:35:36.636547Z",
     "shell.execute_reply.started": "2022-08-01T13:35:36.628549Z"
    },
    "tags": []
   },
   "outputs": [
    {
     "data": {
      "text/plain": [
       "United-States                 0.895857\n",
       "Mexico                        0.019748\n",
       "?                             0.017905\n",
       "Philippines                   0.006081\n",
       "Germany                       0.004207\n",
       "Canada                        0.003716\n",
       "Puerto-Rico                   0.003501\n",
       "El-Salvador                   0.003255\n",
       "India                         0.003071\n",
       "Cuba                          0.002918\n",
       "England                       0.002764\n",
       "Jamaica                       0.002488\n",
       "South                         0.002457\n",
       "China                         0.002303\n",
       "Italy                         0.002242\n",
       "Dominican-Republic            0.002150\n",
       "Vietnam                       0.002058\n",
       "Guatemala                     0.001966\n",
       "Japan                         0.001904\n",
       "Poland                        0.001843\n",
       "Columbia                      0.001812\n",
       "Taiwan                        0.001566\n",
       "Haiti                         0.001351\n",
       "Iran                          0.001321\n",
       "Portugal                      0.001136\n",
       "Nicaragua                     0.001044\n",
       "Peru                          0.000952\n",
       "Greece                        0.000891\n",
       "France                        0.000891\n",
       "Ecuador                       0.000860\n",
       "Ireland                       0.000737\n",
       "Hong                          0.000614\n",
       "Cambodia                      0.000584\n",
       "Trinadad&Tobago               0.000584\n",
       "Laos                          0.000553\n",
       "Thailand                      0.000553\n",
       "Yugoslavia                    0.000491\n",
       "Outlying-US(Guam-USVI-etc)    0.000430\n",
       "Hungary                       0.000399\n",
       "Honduras                      0.000399\n",
       "Scotland                      0.000369\n",
       "Holand-Netherlands            0.000031\n",
       "Name: native.country, dtype: float64"
      ]
     },
     "execution_count": 126,
     "metadata": {},
     "output_type": "execute_result"
    }
   ],
   "source": [
    "df['native.country'].value_counts(1)"
   ]
  },
  {
   "cell_type": "code",
   "execution_count": 127,
   "id": "bfbeccb3",
   "metadata": {
    "execution": {
     "iopub.execute_input": "2022-08-01T13:35:36.645028Z",
     "iopub.status.busy": "2022-08-01T13:35:36.644671Z",
     "iopub.status.idle": "2022-08-01T13:35:36.652121Z",
     "shell.execute_reply": "2022-08-01T13:35:36.650817Z",
     "shell.execute_reply.started": "2022-08-01T13:35:36.645002Z"
    },
    "tags": []
   },
   "outputs": [
    {
     "data": {
      "text/plain": [
       "42"
      ]
     },
     "execution_count": 127,
     "metadata": {},
     "output_type": "execute_result"
    }
   ],
   "source": [
    "df['native.country'].nunique()"
   ]
  },
  {
   "cell_type": "markdown",
   "id": "fab49ff5",
   "metadata": {},
   "source": [
    "Much more people from USA. This can also be a `sens attribute`.\n",
    "\n",
    "I can turn this into binary (if from USA 1, if not 0) or separate by region and then OHE them (NA, SA, Euro, Africa, Asia, etc). "
   ]
  },
  {
   "cell_type": "code",
   "execution_count": 128,
   "id": "fb2b9120",
   "metadata": {
    "execution": {
     "iopub.execute_input": "2022-08-01T13:35:36.678202Z",
     "iopub.status.busy": "2022-08-01T13:35:36.677829Z",
     "iopub.status.idle": "2022-08-01T13:35:36.685837Z",
     "shell.execute_reply": "2022-08-01T13:35:36.685134Z",
     "shell.execute_reply.started": "2022-08-01T13:35:36.678174Z"
    },
    "tags": []
   },
   "outputs": [
    {
     "data": {
      "text/plain": [
       "<=50K    24720\n",
       ">50K      7841\n",
       "Name: income, dtype: int64"
      ]
     },
     "execution_count": 128,
     "metadata": {},
     "output_type": "execute_result"
    }
   ],
   "source": [
    "df['income'].value_counts()"
   ]
  },
  {
   "cell_type": "markdown",
   "id": "4b6e96da",
   "metadata": {},
   "source": [
    "I believe this is the label we can use. 1 would be >50K and 0 would be <=50K."
   ]
  },
  {
   "cell_type": "markdown",
   "id": "33a38f15",
   "metadata": {},
   "source": [
    "## > Check what does the '?' mean"
   ]
  },
  {
   "cell_type": "code",
   "execution_count": 129,
   "id": "9662e007",
   "metadata": {
    "execution": {
     "iopub.execute_input": "2022-08-01T13:35:36.731687Z",
     "iopub.status.busy": "2022-08-01T13:35:36.731307Z",
     "iopub.status.idle": "2022-08-01T13:35:36.801789Z",
     "shell.execute_reply": "2022-08-01T13:35:36.801032Z",
     "shell.execute_reply.started": "2022-08-01T13:35:36.731660Z"
    },
    "tags": []
   },
   "outputs": [
    {
     "data": {
      "text/plain": [
       "index             0.000000\n",
       "age               0.000000\n",
       "workclass         0.056386\n",
       "fnlwgt            0.000000\n",
       "education         0.000000\n",
       "education.num     0.000000\n",
       "marital.status    0.000000\n",
       "occupation        0.056601\n",
       "relationship      0.000000\n",
       "race              0.000000\n",
       "sex               0.000000\n",
       "capital.gain      0.000000\n",
       "capital.loss      0.000000\n",
       "hours.per.week    0.000000\n",
       "native.country    0.017905\n",
       "income            0.000000\n",
       "dtype: float64"
      ]
     },
     "execution_count": 129,
     "metadata": {},
     "output_type": "execute_result"
    }
   ],
   "source": [
    "df[df=='?'].count()/df.shape[0]"
   ]
  },
  {
   "cell_type": "markdown",
   "id": "9ac0c7ac",
   "metadata": {},
   "source": [
    "This is the percentage of appearances of '?' value. Maybe this can be considered a null value, this way I can just drop the rows with this value so I won't have to deal with them."
   ]
  },
  {
   "cell_type": "markdown",
   "id": "0f21fd07",
   "metadata": {},
   "source": [
    "# Evaluate bias in the original dataset"
   ]
  },
  {
   "cell_type": "code",
   "execution_count": 208,
   "id": "6d4be2a5-f3ac-40d5-a0fd-b8ebd7b01908",
   "metadata": {
    "execution": {
     "iopub.execute_input": "2022-08-01T13:41:46.511257Z",
     "iopub.status.busy": "2022-08-01T13:41:46.510903Z",
     "iopub.status.idle": "2022-08-01T13:41:46.517317Z",
     "shell.execute_reply": "2022-08-01T13:41:46.516501Z",
     "shell.execute_reply.started": "2022-08-01T13:41:46.511231Z"
    }
   },
   "outputs": [],
   "source": [
    "df = raw.copy()"
   ]
  },
  {
   "cell_type": "markdown",
   "id": "8e786f04",
   "metadata": {},
   "source": [
    "The columns selected as good `sens attr` were:\n",
    "- age\n",
    "- sex\n",
    "- race\n",
    "- native.country\n",
    "\n",
    "For each, we'll run the fairness metric `disparate_impact_ratio` which can be applied BEFORE training a model. <br><br>\n",
    "<center>--- FORMULA ---</center>\n",
    "<center>P_unprivileged_class(1)/P_privileged_class(1) (_Probability of the unprivileged class to receive a potitive outcome  divided by the probability of the privileged class to receive a potitive outcome_)</center>\n",
    "<br>\n",
    "\n",
    "How to interpret this metric:\n",
    "- Its output value ranges from 0 to 1\n",
    "- The higher its value fairer is your dataset/model related to that protected attribute. \n",
    "- Despite 1 being the perfect value for it (which means your dataset/model is fairest), a value greater than 0.8 is considered an acceptable bias."
   ]
  },
  {
   "cell_type": "markdown",
   "id": "e395508f",
   "metadata": {},
   "source": [
    "Let's start with 'sex' column."
   ]
  },
  {
   "cell_type": "markdown",
   "id": "4be13dff",
   "metadata": {},
   "source": [
    "Import the AIF360 module which contains the metrics."
   ]
  },
  {
   "cell_type": "code",
   "execution_count": 209,
   "id": "bd2e439d",
   "metadata": {
    "execution": {
     "iopub.execute_input": "2022-08-01T13:41:48.596574Z",
     "iopub.status.busy": "2022-08-01T13:41:48.596285Z",
     "iopub.status.idle": "2022-08-01T13:41:48.600098Z",
     "shell.execute_reply": "2022-08-01T13:41:48.599183Z",
     "shell.execute_reply.started": "2022-08-01T13:41:48.596553Z"
    },
    "tags": []
   },
   "outputs": [],
   "source": [
    "from aif360.sklearn import metrics as mt"
   ]
  },
  {
   "cell_type": "markdown",
   "id": "da59821b",
   "metadata": {},
   "source": [
    "But first, we need to configure our dataset to the input accepted by the library. \n",
    "\n",
    "To use AIF360 with sklearn, we need to:\n",
    "1. Binarize the sensitive attribute with: 1 being set to be the privileged group and 0 as the unprivileged.\n",
    "2. Binarize the label column with: 1 being the positive outcome and 0 else.\n",
    "3. Turn the sensitive attribute column into the index of the dataset"
   ]
  },
  {
   "cell_type": "markdown",
   "id": "510bec1a",
   "metadata": {},
   "source": [
    "Let's first binarize the y label column."
   ]
  },
  {
   "cell_type": "code",
   "execution_count": 210,
   "id": "1f7ab1b3",
   "metadata": {
    "execution": {
     "iopub.execute_input": "2022-08-01T13:41:49.088312Z",
     "iopub.status.busy": "2022-08-01T13:41:49.088036Z",
     "iopub.status.idle": "2022-08-01T13:41:49.103080Z",
     "shell.execute_reply": "2022-08-01T13:41:49.102217Z",
     "shell.execute_reply.started": "2022-08-01T13:41:49.088292Z"
    },
    "tags": []
   },
   "outputs": [],
   "source": [
    "df['income'] = df['income'].apply(lambda x: 1 if x=='>50K' else 0)"
   ]
  },
  {
   "cell_type": "markdown",
   "id": "9b327dd4",
   "metadata": {},
   "source": [
    "Now let's binarize the sens. attr column."
   ]
  },
  {
   "cell_type": "code",
   "execution_count": 211,
   "id": "e194fa80",
   "metadata": {
    "execution": {
     "iopub.execute_input": "2022-08-01T13:41:49.532502Z",
     "iopub.status.busy": "2022-08-01T13:41:49.532225Z",
     "iopub.status.idle": "2022-08-01T13:41:49.546389Z",
     "shell.execute_reply": "2022-08-01T13:41:49.545707Z",
     "shell.execute_reply.started": "2022-08-01T13:41:49.532481Z"
    },
    "tags": []
   },
   "outputs": [],
   "source": [
    "df['sex'] = df['sex'].apply(lambda x: 1 if x=='Male' else 0)"
   ]
  },
  {
   "cell_type": "markdown",
   "id": "07f2d89d",
   "metadata": {},
   "source": [
    "Now, for the purpose of readibility, let's separate these two into one variable `y`."
   ]
  },
  {
   "cell_type": "code",
   "execution_count": 212,
   "id": "e8d293e2",
   "metadata": {
    "execution": {
     "iopub.execute_input": "2022-08-01T13:41:49.874776Z",
     "iopub.status.busy": "2022-08-01T13:41:49.874441Z",
     "iopub.status.idle": "2022-08-01T13:41:49.882742Z",
     "shell.execute_reply": "2022-08-01T13:41:49.881966Z",
     "shell.execute_reply.started": "2022-08-01T13:41:49.874750Z"
    },
    "tags": []
   },
   "outputs": [],
   "source": [
    "y = df.set_index('sex')['income']"
   ]
  },
  {
   "cell_type": "code",
   "execution_count": 213,
   "id": "ca27dfef",
   "metadata": {
    "execution": {
     "iopub.execute_input": "2022-08-01T13:41:49.992986Z",
     "iopub.status.busy": "2022-08-01T13:41:49.992331Z",
     "iopub.status.idle": "2022-08-01T13:41:49.999330Z",
     "shell.execute_reply": "2022-08-01T13:41:49.998439Z",
     "shell.execute_reply.started": "2022-08-01T13:41:49.992954Z"
    },
    "tags": []
   },
   "outputs": [
    {
     "data": {
      "text/plain": [
       "0    24720\n",
       "1     7841\n",
       "Name: income, dtype: int64"
      ]
     },
     "execution_count": 213,
     "metadata": {},
     "output_type": "execute_result"
    }
   ],
   "source": [
    "y.value_counts()"
   ]
  },
  {
   "cell_type": "code",
   "execution_count": 214,
   "id": "6bebc334",
   "metadata": {
    "execution": {
     "iopub.execute_input": "2022-08-01T13:41:50.136663Z",
     "iopub.status.busy": "2022-08-01T13:41:50.136306Z",
     "iopub.status.idle": "2022-08-01T13:41:50.144758Z",
     "shell.execute_reply": "2022-08-01T13:41:50.144015Z",
     "shell.execute_reply.started": "2022-08-01T13:41:50.136635Z"
    },
    "tags": []
   },
   "outputs": [
    {
     "data": {
      "text/plain": [
       "0.3580225496813511"
      ]
     },
     "execution_count": 214,
     "metadata": {},
     "output_type": "execute_result"
    }
   ],
   "source": [
    "mt.disparate_impact_ratio(y, prot_attr='sex')"
   ]
  },
  {
   "cell_type": "markdown",
   "id": "8a35ea1a",
   "metadata": {},
   "source": [
    "The metric presents a really low value for this attribute. Far even from 0.8 which is the acceptable value. "
   ]
  },
  {
   "cell_type": "markdown",
   "id": "b754d153",
   "metadata": {},
   "source": [
    "Now, since we are going to repeat this for the other protected attribute columns, let's create this function to make the development easier. "
   ]
  },
  {
   "cell_type": "code",
   "execution_count": 215,
   "id": "b0af03eb",
   "metadata": {
    "execution": {
     "iopub.execute_input": "2022-08-01T13:41:50.804627Z",
     "iopub.status.busy": "2022-08-01T13:41:50.804303Z",
     "iopub.status.idle": "2022-08-01T13:41:50.810270Z",
     "shell.execute_reply": "2022-08-01T13:41:50.809205Z",
     "shell.execute_reply.started": "2022-08-01T13:41:50.804601Z"
    },
    "tags": []
   },
   "outputs": [],
   "source": [
    "def set_sens_attr(df, label_col, prot_tuple):\n",
    "    \"\"\"To use AIF360 with sklearn, we need to turn the sensitive \n",
    "    attribute column into the index of the dataset. This function will\n",
    "    binarize the prot_attr column and set it as the index. \n",
    "    \n",
    "    :param df: [pd.DataFrame]\n",
    "    :param label_col: [str], the y label column name \n",
    "    :param prot_tuple: [tuple], tuple containing the protected attribute \n",
    "        column name and the threshold to make the binarization. Apply\n",
    "        needed configurations depending if the threshold is a category\n",
    "        or a number\n",
    "    :return y: [pd.DataFrame], a dataframe consisting of only the label\n",
    "        column and the sensitive attribute set as index\n",
    "    \"\"\"\n",
    "    \n",
    "    threshold = prot_tuple[1]\n",
    "    prot_attr = prot_tuple[0]\n",
    "    df = df.copy()\n",
    "    \n",
    "    if isinstance(threshold, str):\n",
    "        df[prot_attr] = df[prot_attr].apply(lambda x: 1 if x==threshold else 0)\n",
    "    else:\n",
    "        df[prot_attr] = df[prot_attr].apply(lambda x: 1 if x>=threshold else 0)\n",
    "    \n",
    "    y = df.set_index(prot_attr)[label_col]\n",
    "    \n",
    "    return y"
   ]
  },
  {
   "cell_type": "markdown",
   "id": "997a5812",
   "metadata": {},
   "source": [
    "Let's do it for 'race'."
   ]
  },
  {
   "cell_type": "code",
   "execution_count": 216,
   "id": "5da50c3b",
   "metadata": {
    "execution": {
     "iopub.execute_input": "2022-08-01T13:41:51.227637Z",
     "iopub.status.busy": "2022-08-01T13:41:51.227297Z",
     "iopub.status.idle": "2022-08-01T13:41:51.249412Z",
     "shell.execute_reply": "2022-08-01T13:41:51.248705Z",
     "shell.execute_reply.started": "2022-08-01T13:41:51.227611Z"
    },
    "tags": []
   },
   "outputs": [],
   "source": [
    "y = set_sens_attr(df, 'income', ('race', 'White'))"
   ]
  },
  {
   "cell_type": "code",
   "execution_count": 217,
   "id": "56cfcc52",
   "metadata": {
    "execution": {
     "iopub.execute_input": "2022-08-01T13:41:51.401528Z",
     "iopub.status.busy": "2022-08-01T13:41:51.401132Z",
     "iopub.status.idle": "2022-08-01T13:41:51.408730Z",
     "shell.execute_reply": "2022-08-01T13:41:51.407977Z",
     "shell.execute_reply.started": "2022-08-01T13:41:51.401501Z"
    },
    "tags": []
   },
   "outputs": [
    {
     "data": {
      "text/plain": [
       "0.5963484039832201"
      ]
     },
     "execution_count": 217,
     "metadata": {},
     "output_type": "execute_result"
    }
   ],
   "source": [
    "mt.disparate_impact_ratio(y)"
   ]
  },
  {
   "cell_type": "markdown",
   "id": "701d18f5",
   "metadata": {},
   "source": [
    "The metric for \"race\" is higher than for \"sex\", however, it still shows that the \"race\" is an attribute that has a lot of bias."
   ]
  },
  {
   "cell_type": "markdown",
   "id": "1a3b54f9",
   "metadata": {},
   "source": [
    "Let's do it for 'native.country'.\n"
   ]
  },
  {
   "cell_type": "code",
   "execution_count": 218,
   "id": "5b01eecb",
   "metadata": {
    "execution": {
     "iopub.execute_input": "2022-08-01T13:41:51.823936Z",
     "iopub.status.busy": "2022-08-01T13:41:51.823576Z",
     "iopub.status.idle": "2022-08-01T13:41:51.843785Z",
     "shell.execute_reply": "2022-08-01T13:41:51.843028Z",
     "shell.execute_reply.started": "2022-08-01T13:41:51.823908Z"
    },
    "tags": []
   },
   "outputs": [],
   "source": [
    "y = set_sens_attr(df, 'income', ('native.country', 'United-States'))"
   ]
  },
  {
   "cell_type": "code",
   "execution_count": 219,
   "id": "2af7a5e4",
   "metadata": {
    "execution": {
     "iopub.execute_input": "2022-08-01T13:41:51.973213Z",
     "iopub.status.busy": "2022-08-01T13:41:51.972860Z",
     "iopub.status.idle": "2022-08-01T13:41:51.980186Z",
     "shell.execute_reply": "2022-08-01T13:41:51.979300Z",
     "shell.execute_reply.started": "2022-08-01T13:41:51.973185Z"
    },
    "tags": []
   },
   "outputs": [
    {
     "data": {
      "text/plain": [
       "0.8037180456803203"
      ]
     },
     "execution_count": 219,
     "metadata": {},
     "output_type": "execute_result"
    }
   ],
   "source": [
    "mt.disparate_impact_ratio(y)"
   ]
  },
  {
   "cell_type": "markdown",
   "id": "af69367c",
   "metadata": {},
   "source": [
    "This feature presents an acceptable score, this way I will not pay attention to it in bias mitigation."
   ]
  },
  {
   "cell_type": "markdown",
   "id": "2ba052f8-d2b1-4f8d-ad60-9052e6af8cde",
   "metadata": {},
   "source": [
    "# Train"
   ]
  },
  {
   "cell_type": "markdown",
   "id": "f93d0d50",
   "metadata": {},
   "source": [
    "## Transform data"
   ]
  },
  {
   "cell_type": "markdown",
   "id": "21386345",
   "metadata": {},
   "source": [
    "Let's apply the transformations I listed on the Exploration section."
   ]
  },
  {
   "cell_type": "code",
   "execution_count": 242,
   "id": "a7ba5c0f",
   "metadata": {
    "execution": {
     "iopub.execute_input": "2022-08-01T13:42:35.897775Z",
     "iopub.status.busy": "2022-08-01T13:42:35.897431Z",
     "iopub.status.idle": "2022-08-01T13:42:35.903653Z",
     "shell.execute_reply": "2022-08-01T13:42:35.902877Z",
     "shell.execute_reply.started": "2022-08-01T13:42:35.897749Z"
    },
    "tags": []
   },
   "outputs": [],
   "source": [
    "transformed = raw.copy()"
   ]
  },
  {
   "cell_type": "code",
   "execution_count": 243,
   "id": "d8c003e0-6746-4e00-ae27-8592cd4d0722",
   "metadata": {
    "execution": {
     "iopub.execute_input": "2022-08-01T13:42:36.026713Z",
     "iopub.status.busy": "2022-08-01T13:42:36.026356Z",
     "iopub.status.idle": "2022-08-01T13:42:36.040142Z",
     "shell.execute_reply": "2022-08-01T13:42:36.039227Z",
     "shell.execute_reply.started": "2022-08-01T13:42:36.026687Z"
    },
    "tags": []
   },
   "outputs": [
    {
     "data": {
      "text/html": [
       "<div>\n",
       "<style scoped>\n",
       "    .dataframe tbody tr th:only-of-type {\n",
       "        vertical-align: middle;\n",
       "    }\n",
       "\n",
       "    .dataframe tbody tr th {\n",
       "        vertical-align: top;\n",
       "    }\n",
       "\n",
       "    .dataframe thead th {\n",
       "        text-align: right;\n",
       "    }\n",
       "</style>\n",
       "<table border=\"1\" class=\"dataframe\">\n",
       "  <thead>\n",
       "    <tr style=\"text-align: right;\">\n",
       "      <th></th>\n",
       "      <th>age</th>\n",
       "      <th>workclass</th>\n",
       "      <th>fnlwgt</th>\n",
       "      <th>education</th>\n",
       "      <th>education.num</th>\n",
       "      <th>marital.status</th>\n",
       "      <th>occupation</th>\n",
       "      <th>relationship</th>\n",
       "      <th>race</th>\n",
       "      <th>sex</th>\n",
       "      <th>capital.gain</th>\n",
       "      <th>capital.loss</th>\n",
       "      <th>hours.per.week</th>\n",
       "      <th>native.country</th>\n",
       "      <th>income</th>\n",
       "    </tr>\n",
       "  </thead>\n",
       "  <tbody>\n",
       "    <tr>\n",
       "      <th>0</th>\n",
       "      <td>90</td>\n",
       "      <td>?</td>\n",
       "      <td>77053</td>\n",
       "      <td>HS-grad</td>\n",
       "      <td>9</td>\n",
       "      <td>Widowed</td>\n",
       "      <td>?</td>\n",
       "      <td>Not-in-family</td>\n",
       "      <td>White</td>\n",
       "      <td>Female</td>\n",
       "      <td>0</td>\n",
       "      <td>4356</td>\n",
       "      <td>40</td>\n",
       "      <td>United-States</td>\n",
       "      <td>&lt;=50K</td>\n",
       "    </tr>\n",
       "    <tr>\n",
       "      <th>1</th>\n",
       "      <td>82</td>\n",
       "      <td>Private</td>\n",
       "      <td>132870</td>\n",
       "      <td>HS-grad</td>\n",
       "      <td>9</td>\n",
       "      <td>Widowed</td>\n",
       "      <td>Exec-managerial</td>\n",
       "      <td>Not-in-family</td>\n",
       "      <td>White</td>\n",
       "      <td>Female</td>\n",
       "      <td>0</td>\n",
       "      <td>4356</td>\n",
       "      <td>18</td>\n",
       "      <td>United-States</td>\n",
       "      <td>&lt;=50K</td>\n",
       "    </tr>\n",
       "    <tr>\n",
       "      <th>2</th>\n",
       "      <td>66</td>\n",
       "      <td>?</td>\n",
       "      <td>186061</td>\n",
       "      <td>Some-college</td>\n",
       "      <td>10</td>\n",
       "      <td>Widowed</td>\n",
       "      <td>?</td>\n",
       "      <td>Unmarried</td>\n",
       "      <td>Black</td>\n",
       "      <td>Female</td>\n",
       "      <td>0</td>\n",
       "      <td>4356</td>\n",
       "      <td>40</td>\n",
       "      <td>United-States</td>\n",
       "      <td>&lt;=50K</td>\n",
       "    </tr>\n",
       "    <tr>\n",
       "      <th>3</th>\n",
       "      <td>54</td>\n",
       "      <td>Private</td>\n",
       "      <td>140359</td>\n",
       "      <td>7th-8th</td>\n",
       "      <td>4</td>\n",
       "      <td>Divorced</td>\n",
       "      <td>Machine-op-inspct</td>\n",
       "      <td>Unmarried</td>\n",
       "      <td>White</td>\n",
       "      <td>Female</td>\n",
       "      <td>0</td>\n",
       "      <td>3900</td>\n",
       "      <td>40</td>\n",
       "      <td>United-States</td>\n",
       "      <td>&lt;=50K</td>\n",
       "    </tr>\n",
       "    <tr>\n",
       "      <th>4</th>\n",
       "      <td>41</td>\n",
       "      <td>Private</td>\n",
       "      <td>264663</td>\n",
       "      <td>Some-college</td>\n",
       "      <td>10</td>\n",
       "      <td>Separated</td>\n",
       "      <td>Prof-specialty</td>\n",
       "      <td>Own-child</td>\n",
       "      <td>White</td>\n",
       "      <td>Female</td>\n",
       "      <td>0</td>\n",
       "      <td>3900</td>\n",
       "      <td>40</td>\n",
       "      <td>United-States</td>\n",
       "      <td>&lt;=50K</td>\n",
       "    </tr>\n",
       "  </tbody>\n",
       "</table>\n",
       "</div>"
      ],
      "text/plain": [
       "   age workclass  fnlwgt     education  education.num marital.status  \\\n",
       "0   90         ?   77053       HS-grad              9        Widowed   \n",
       "1   82   Private  132870       HS-grad              9        Widowed   \n",
       "2   66         ?  186061  Some-college             10        Widowed   \n",
       "3   54   Private  140359       7th-8th              4       Divorced   \n",
       "4   41   Private  264663  Some-college             10      Separated   \n",
       "\n",
       "          occupation   relationship   race     sex  capital.gain  \\\n",
       "0                  ?  Not-in-family  White  Female             0   \n",
       "1    Exec-managerial  Not-in-family  White  Female             0   \n",
       "2                  ?      Unmarried  Black  Female             0   \n",
       "3  Machine-op-inspct      Unmarried  White  Female             0   \n",
       "4     Prof-specialty      Own-child  White  Female             0   \n",
       "\n",
       "   capital.loss  hours.per.week native.country income  \n",
       "0          4356              40  United-States  <=50K  \n",
       "1          4356              18  United-States  <=50K  \n",
       "2          4356              40  United-States  <=50K  \n",
       "3          3900              40  United-States  <=50K  \n",
       "4          3900              40  United-States  <=50K  "
      ]
     },
     "execution_count": 243,
     "metadata": {},
     "output_type": "execute_result"
    }
   ],
   "source": [
    "transformed.head()"
   ]
  },
  {
   "cell_type": "markdown",
   "id": "7cfc6474",
   "metadata": {},
   "source": [
    "Clean '?' and nan values."
   ]
  },
  {
   "cell_type": "code",
   "execution_count": 244,
   "id": "b8d2850f",
   "metadata": {
    "execution": {
     "iopub.execute_input": "2022-08-01T13:42:36.314932Z",
     "iopub.status.busy": "2022-08-01T13:42:36.314585Z",
     "iopub.status.idle": "2022-08-01T13:42:36.385259Z",
     "shell.execute_reply": "2022-08-01T13:42:36.384376Z",
     "shell.execute_reply.started": "2022-08-01T13:42:36.314904Z"
    },
    "tags": []
   },
   "outputs": [],
   "source": [
    "transformed = transformed[transformed!='?']\n",
    "transformed = transformed.dropna()"
   ]
  },
  {
   "cell_type": "markdown",
   "id": "ee43e726",
   "metadata": {},
   "source": [
    "Drop not needed columns."
   ]
  },
  {
   "cell_type": "code",
   "execution_count": 245,
   "id": "e5bc6469",
   "metadata": {
    "execution": {
     "iopub.execute_input": "2022-08-01T13:42:36.585935Z",
     "iopub.status.busy": "2022-08-01T13:42:36.585304Z",
     "iopub.status.idle": "2022-08-01T13:42:36.592941Z",
     "shell.execute_reply": "2022-08-01T13:42:36.591946Z",
     "shell.execute_reply.started": "2022-08-01T13:42:36.585906Z"
    },
    "tags": []
   },
   "outputs": [],
   "source": [
    "drop_cols = ['fnlwgt', 'education']\n",
    "transformed = transformed.drop(drop_cols, axis=1)"
   ]
  },
  {
   "cell_type": "markdown",
   "id": "2fb45d95",
   "metadata": {},
   "source": [
    "One hot encode the columns."
   ]
  },
  {
   "cell_type": "code",
   "execution_count": 246,
   "id": "e22e8817",
   "metadata": {
    "execution": {
     "iopub.execute_input": "2022-08-01T13:42:36.863721Z",
     "iopub.status.busy": "2022-08-01T13:42:36.863384Z",
     "iopub.status.idle": "2022-08-01T13:42:36.902631Z",
     "shell.execute_reply": "2022-08-01T13:42:36.901741Z",
     "shell.execute_reply.started": "2022-08-01T13:42:36.863694Z"
    },
    "tags": []
   },
   "outputs": [],
   "source": [
    "ohe_cols = ['workclass', 'marital.status',\n",
    "           'occupation', 'relationship']\n",
    "for col in ohe_cols:\n",
    "    transformed = transformed.join(pd.get_dummies(transformed[col], \n",
    "                                                  prefix=col))\\\n",
    "                                                .drop(col, axis=1)"
   ]
  },
  {
   "cell_type": "markdown",
   "id": "02d00bb5",
   "metadata": {},
   "source": [
    "Normalize other columns."
   ]
  },
  {
   "cell_type": "code",
   "execution_count": 247,
   "id": "d70574d9",
   "metadata": {
    "execution": {
     "iopub.execute_input": "2022-08-01T13:42:37.139645Z",
     "iopub.status.busy": "2022-08-01T13:42:37.139082Z",
     "iopub.status.idle": "2022-08-01T13:42:37.147408Z",
     "shell.execute_reply": "2022-08-01T13:42:37.146493Z",
     "shell.execute_reply.started": "2022-08-01T13:42:37.139607Z"
    },
    "tags": []
   },
   "outputs": [],
   "source": [
    "norm_cols = ['capital.loss', 'capital.gain']\n",
    "for col in norm_cols:\n",
    "    transformed[col] = transformed[col]/transformed[col].max()"
   ]
  },
  {
   "cell_type": "markdown",
   "id": "eb36e6a7",
   "metadata": {},
   "source": [
    "Binarize columns."
   ]
  },
  {
   "cell_type": "code",
   "execution_count": 248,
   "id": "9fb99ad4",
   "metadata": {
    "execution": {
     "iopub.execute_input": "2022-08-01T13:42:37.405462Z",
     "iopub.status.busy": "2022-08-01T13:42:37.405103Z",
     "iopub.status.idle": "2022-08-01T13:42:37.453544Z",
     "shell.execute_reply": "2022-08-01T13:42:37.452821Z",
     "shell.execute_reply.started": "2022-08-01T13:42:37.405433Z"
    },
    "tags": []
   },
   "outputs": [],
   "source": [
    "transformed['sex'] = transformed['sex'].apply(lambda x: 1 if x=='Male' else 0)\n",
    "transformed['race'] = transformed['race'].apply(lambda x: 1 if x=='White' else 0)\n",
    "transformed['native.country'] = transformed['native.country'].apply(lambda x: 1 if x=='United-States' else 0)\n",
    "transformed['income'] = transformed['income'].apply(lambda x: 1 if x=='>50K' else 0)"
   ]
  },
  {
   "cell_type": "code",
   "execution_count": 249,
   "id": "15b23c7a",
   "metadata": {
    "execution": {
     "iopub.execute_input": "2022-08-01T13:42:37.562815Z",
     "iopub.status.busy": "2022-08-01T13:42:37.562463Z",
     "iopub.status.idle": "2022-08-01T13:42:37.584634Z",
     "shell.execute_reply": "2022-08-01T13:42:37.583928Z",
     "shell.execute_reply.started": "2022-08-01T13:42:37.562789Z"
    },
    "tags": []
   },
   "outputs": [
    {
     "data": {
      "text/html": [
       "<div>\n",
       "<style scoped>\n",
       "    .dataframe tbody tr th:only-of-type {\n",
       "        vertical-align: middle;\n",
       "    }\n",
       "\n",
       "    .dataframe tbody tr th {\n",
       "        vertical-align: top;\n",
       "    }\n",
       "\n",
       "    .dataframe thead th {\n",
       "        text-align: right;\n",
       "    }\n",
       "</style>\n",
       "<table border=\"1\" class=\"dataframe\">\n",
       "  <thead>\n",
       "    <tr style=\"text-align: right;\">\n",
       "      <th></th>\n",
       "      <th>age</th>\n",
       "      <th>education.num</th>\n",
       "      <th>race</th>\n",
       "      <th>sex</th>\n",
       "      <th>capital.gain</th>\n",
       "      <th>capital.loss</th>\n",
       "      <th>hours.per.week</th>\n",
       "      <th>native.country</th>\n",
       "      <th>income</th>\n",
       "      <th>workclass_Federal-gov</th>\n",
       "      <th>workclass_Local-gov</th>\n",
       "      <th>workclass_Private</th>\n",
       "      <th>workclass_Self-emp-inc</th>\n",
       "      <th>workclass_Self-emp-not-inc</th>\n",
       "      <th>workclass_State-gov</th>\n",
       "      <th>workclass_Without-pay</th>\n",
       "      <th>marital.status_Divorced</th>\n",
       "      <th>marital.status_Married-AF-spouse</th>\n",
       "      <th>marital.status_Married-civ-spouse</th>\n",
       "      <th>marital.status_Married-spouse-absent</th>\n",
       "      <th>marital.status_Never-married</th>\n",
       "      <th>marital.status_Separated</th>\n",
       "      <th>marital.status_Widowed</th>\n",
       "      <th>occupation_Adm-clerical</th>\n",
       "      <th>occupation_Armed-Forces</th>\n",
       "      <th>occupation_Craft-repair</th>\n",
       "      <th>occupation_Exec-managerial</th>\n",
       "      <th>occupation_Farming-fishing</th>\n",
       "      <th>occupation_Handlers-cleaners</th>\n",
       "      <th>occupation_Machine-op-inspct</th>\n",
       "      <th>occupation_Other-service</th>\n",
       "      <th>occupation_Priv-house-serv</th>\n",
       "      <th>occupation_Prof-specialty</th>\n",
       "      <th>occupation_Protective-serv</th>\n",
       "      <th>occupation_Sales</th>\n",
       "      <th>occupation_Tech-support</th>\n",
       "      <th>occupation_Transport-moving</th>\n",
       "      <th>relationship_Husband</th>\n",
       "      <th>relationship_Not-in-family</th>\n",
       "      <th>relationship_Other-relative</th>\n",
       "      <th>relationship_Own-child</th>\n",
       "      <th>relationship_Unmarried</th>\n",
       "      <th>relationship_Wife</th>\n",
       "    </tr>\n",
       "  </thead>\n",
       "  <tbody>\n",
       "    <tr>\n",
       "      <th>1</th>\n",
       "      <td>82</td>\n",
       "      <td>9</td>\n",
       "      <td>1</td>\n",
       "      <td>0</td>\n",
       "      <td>0.0</td>\n",
       "      <td>1.000000</td>\n",
       "      <td>18</td>\n",
       "      <td>1</td>\n",
       "      <td>0</td>\n",
       "      <td>0</td>\n",
       "      <td>0</td>\n",
       "      <td>1</td>\n",
       "      <td>0</td>\n",
       "      <td>0</td>\n",
       "      <td>0</td>\n",
       "      <td>0</td>\n",
       "      <td>0</td>\n",
       "      <td>0</td>\n",
       "      <td>0</td>\n",
       "      <td>0</td>\n",
       "      <td>0</td>\n",
       "      <td>0</td>\n",
       "      <td>1</td>\n",
       "      <td>0</td>\n",
       "      <td>0</td>\n",
       "      <td>0</td>\n",
       "      <td>1</td>\n",
       "      <td>0</td>\n",
       "      <td>0</td>\n",
       "      <td>0</td>\n",
       "      <td>0</td>\n",
       "      <td>0</td>\n",
       "      <td>0</td>\n",
       "      <td>0</td>\n",
       "      <td>0</td>\n",
       "      <td>0</td>\n",
       "      <td>0</td>\n",
       "      <td>0</td>\n",
       "      <td>1</td>\n",
       "      <td>0</td>\n",
       "      <td>0</td>\n",
       "      <td>0</td>\n",
       "      <td>0</td>\n",
       "    </tr>\n",
       "    <tr>\n",
       "      <th>3</th>\n",
       "      <td>54</td>\n",
       "      <td>4</td>\n",
       "      <td>1</td>\n",
       "      <td>0</td>\n",
       "      <td>0.0</td>\n",
       "      <td>0.895317</td>\n",
       "      <td>40</td>\n",
       "      <td>1</td>\n",
       "      <td>0</td>\n",
       "      <td>0</td>\n",
       "      <td>0</td>\n",
       "      <td>1</td>\n",
       "      <td>0</td>\n",
       "      <td>0</td>\n",
       "      <td>0</td>\n",
       "      <td>0</td>\n",
       "      <td>1</td>\n",
       "      <td>0</td>\n",
       "      <td>0</td>\n",
       "      <td>0</td>\n",
       "      <td>0</td>\n",
       "      <td>0</td>\n",
       "      <td>0</td>\n",
       "      <td>0</td>\n",
       "      <td>0</td>\n",
       "      <td>0</td>\n",
       "      <td>0</td>\n",
       "      <td>0</td>\n",
       "      <td>0</td>\n",
       "      <td>1</td>\n",
       "      <td>0</td>\n",
       "      <td>0</td>\n",
       "      <td>0</td>\n",
       "      <td>0</td>\n",
       "      <td>0</td>\n",
       "      <td>0</td>\n",
       "      <td>0</td>\n",
       "      <td>0</td>\n",
       "      <td>0</td>\n",
       "      <td>0</td>\n",
       "      <td>0</td>\n",
       "      <td>1</td>\n",
       "      <td>0</td>\n",
       "    </tr>\n",
       "    <tr>\n",
       "      <th>4</th>\n",
       "      <td>41</td>\n",
       "      <td>10</td>\n",
       "      <td>1</td>\n",
       "      <td>0</td>\n",
       "      <td>0.0</td>\n",
       "      <td>0.895317</td>\n",
       "      <td>40</td>\n",
       "      <td>1</td>\n",
       "      <td>0</td>\n",
       "      <td>0</td>\n",
       "      <td>0</td>\n",
       "      <td>1</td>\n",
       "      <td>0</td>\n",
       "      <td>0</td>\n",
       "      <td>0</td>\n",
       "      <td>0</td>\n",
       "      <td>0</td>\n",
       "      <td>0</td>\n",
       "      <td>0</td>\n",
       "      <td>0</td>\n",
       "      <td>0</td>\n",
       "      <td>1</td>\n",
       "      <td>0</td>\n",
       "      <td>0</td>\n",
       "      <td>0</td>\n",
       "      <td>0</td>\n",
       "      <td>0</td>\n",
       "      <td>0</td>\n",
       "      <td>0</td>\n",
       "      <td>0</td>\n",
       "      <td>0</td>\n",
       "      <td>0</td>\n",
       "      <td>1</td>\n",
       "      <td>0</td>\n",
       "      <td>0</td>\n",
       "      <td>0</td>\n",
       "      <td>0</td>\n",
       "      <td>0</td>\n",
       "      <td>0</td>\n",
       "      <td>0</td>\n",
       "      <td>1</td>\n",
       "      <td>0</td>\n",
       "      <td>0</td>\n",
       "    </tr>\n",
       "    <tr>\n",
       "      <th>5</th>\n",
       "      <td>34</td>\n",
       "      <td>9</td>\n",
       "      <td>1</td>\n",
       "      <td>0</td>\n",
       "      <td>0.0</td>\n",
       "      <td>0.865473</td>\n",
       "      <td>45</td>\n",
       "      <td>1</td>\n",
       "      <td>0</td>\n",
       "      <td>0</td>\n",
       "      <td>0</td>\n",
       "      <td>1</td>\n",
       "      <td>0</td>\n",
       "      <td>0</td>\n",
       "      <td>0</td>\n",
       "      <td>0</td>\n",
       "      <td>1</td>\n",
       "      <td>0</td>\n",
       "      <td>0</td>\n",
       "      <td>0</td>\n",
       "      <td>0</td>\n",
       "      <td>0</td>\n",
       "      <td>0</td>\n",
       "      <td>0</td>\n",
       "      <td>0</td>\n",
       "      <td>0</td>\n",
       "      <td>0</td>\n",
       "      <td>0</td>\n",
       "      <td>0</td>\n",
       "      <td>0</td>\n",
       "      <td>1</td>\n",
       "      <td>0</td>\n",
       "      <td>0</td>\n",
       "      <td>0</td>\n",
       "      <td>0</td>\n",
       "      <td>0</td>\n",
       "      <td>0</td>\n",
       "      <td>0</td>\n",
       "      <td>0</td>\n",
       "      <td>0</td>\n",
       "      <td>0</td>\n",
       "      <td>1</td>\n",
       "      <td>0</td>\n",
       "    </tr>\n",
       "    <tr>\n",
       "      <th>6</th>\n",
       "      <td>38</td>\n",
       "      <td>6</td>\n",
       "      <td>1</td>\n",
       "      <td>1</td>\n",
       "      <td>0.0</td>\n",
       "      <td>0.865473</td>\n",
       "      <td>40</td>\n",
       "      <td>1</td>\n",
       "      <td>0</td>\n",
       "      <td>0</td>\n",
       "      <td>0</td>\n",
       "      <td>1</td>\n",
       "      <td>0</td>\n",
       "      <td>0</td>\n",
       "      <td>0</td>\n",
       "      <td>0</td>\n",
       "      <td>0</td>\n",
       "      <td>0</td>\n",
       "      <td>0</td>\n",
       "      <td>0</td>\n",
       "      <td>0</td>\n",
       "      <td>1</td>\n",
       "      <td>0</td>\n",
       "      <td>1</td>\n",
       "      <td>0</td>\n",
       "      <td>0</td>\n",
       "      <td>0</td>\n",
       "      <td>0</td>\n",
       "      <td>0</td>\n",
       "      <td>0</td>\n",
       "      <td>0</td>\n",
       "      <td>0</td>\n",
       "      <td>0</td>\n",
       "      <td>0</td>\n",
       "      <td>0</td>\n",
       "      <td>0</td>\n",
       "      <td>0</td>\n",
       "      <td>0</td>\n",
       "      <td>0</td>\n",
       "      <td>0</td>\n",
       "      <td>0</td>\n",
       "      <td>1</td>\n",
       "      <td>0</td>\n",
       "    </tr>\n",
       "  </tbody>\n",
       "</table>\n",
       "</div>"
      ],
      "text/plain": [
       "   age  education.num  race  sex  capital.gain  capital.loss  hours.per.week  \\\n",
       "1   82              9     1    0           0.0      1.000000              18   \n",
       "3   54              4     1    0           0.0      0.895317              40   \n",
       "4   41             10     1    0           0.0      0.895317              40   \n",
       "5   34              9     1    0           0.0      0.865473              45   \n",
       "6   38              6     1    1           0.0      0.865473              40   \n",
       "\n",
       "   native.country  income  workclass_Federal-gov  workclass_Local-gov  \\\n",
       "1               1       0                      0                    0   \n",
       "3               1       0                      0                    0   \n",
       "4               1       0                      0                    0   \n",
       "5               1       0                      0                    0   \n",
       "6               1       0                      0                    0   \n",
       "\n",
       "   workclass_Private  workclass_Self-emp-inc  workclass_Self-emp-not-inc  \\\n",
       "1                  1                       0                           0   \n",
       "3                  1                       0                           0   \n",
       "4                  1                       0                           0   \n",
       "5                  1                       0                           0   \n",
       "6                  1                       0                           0   \n",
       "\n",
       "   workclass_State-gov  workclass_Without-pay  marital.status_Divorced  \\\n",
       "1                    0                      0                        0   \n",
       "3                    0                      0                        1   \n",
       "4                    0                      0                        0   \n",
       "5                    0                      0                        1   \n",
       "6                    0                      0                        0   \n",
       "\n",
       "   marital.status_Married-AF-spouse  marital.status_Married-civ-spouse  \\\n",
       "1                                 0                                  0   \n",
       "3                                 0                                  0   \n",
       "4                                 0                                  0   \n",
       "5                                 0                                  0   \n",
       "6                                 0                                  0   \n",
       "\n",
       "   marital.status_Married-spouse-absent  marital.status_Never-married  \\\n",
       "1                                     0                             0   \n",
       "3                                     0                             0   \n",
       "4                                     0                             0   \n",
       "5                                     0                             0   \n",
       "6                                     0                             0   \n",
       "\n",
       "   marital.status_Separated  marital.status_Widowed  occupation_Adm-clerical  \\\n",
       "1                         0                       1                        0   \n",
       "3                         0                       0                        0   \n",
       "4                         1                       0                        0   \n",
       "5                         0                       0                        0   \n",
       "6                         1                       0                        1   \n",
       "\n",
       "   occupation_Armed-Forces  occupation_Craft-repair  \\\n",
       "1                        0                        0   \n",
       "3                        0                        0   \n",
       "4                        0                        0   \n",
       "5                        0                        0   \n",
       "6                        0                        0   \n",
       "\n",
       "   occupation_Exec-managerial  occupation_Farming-fishing  \\\n",
       "1                           1                           0   \n",
       "3                           0                           0   \n",
       "4                           0                           0   \n",
       "5                           0                           0   \n",
       "6                           0                           0   \n",
       "\n",
       "   occupation_Handlers-cleaners  occupation_Machine-op-inspct  \\\n",
       "1                             0                             0   \n",
       "3                             0                             1   \n",
       "4                             0                             0   \n",
       "5                             0                             0   \n",
       "6                             0                             0   \n",
       "\n",
       "   occupation_Other-service  occupation_Priv-house-serv  \\\n",
       "1                         0                           0   \n",
       "3                         0                           0   \n",
       "4                         0                           0   \n",
       "5                         1                           0   \n",
       "6                         0                           0   \n",
       "\n",
       "   occupation_Prof-specialty  occupation_Protective-serv  occupation_Sales  \\\n",
       "1                          0                           0                 0   \n",
       "3                          0                           0                 0   \n",
       "4                          1                           0                 0   \n",
       "5                          0                           0                 0   \n",
       "6                          0                           0                 0   \n",
       "\n",
       "   occupation_Tech-support  occupation_Transport-moving  relationship_Husband  \\\n",
       "1                        0                            0                     0   \n",
       "3                        0                            0                     0   \n",
       "4                        0                            0                     0   \n",
       "5                        0                            0                     0   \n",
       "6                        0                            0                     0   \n",
       "\n",
       "   relationship_Not-in-family  relationship_Other-relative  \\\n",
       "1                           1                            0   \n",
       "3                           0                            0   \n",
       "4                           0                            0   \n",
       "5                           0                            0   \n",
       "6                           0                            0   \n",
       "\n",
       "   relationship_Own-child  relationship_Unmarried  relationship_Wife  \n",
       "1                       0                       0                  0  \n",
       "3                       0                       1                  0  \n",
       "4                       1                       0                  0  \n",
       "5                       0                       1                  0  \n",
       "6                       0                       1                  0  "
      ]
     },
     "execution_count": 249,
     "metadata": {},
     "output_type": "execute_result"
    }
   ],
   "source": [
    "transformed.head()"
   ]
  },
  {
   "cell_type": "code",
   "execution_count": 250,
   "id": "7ff82d86",
   "metadata": {
    "execution": {
     "iopub.execute_input": "2022-08-01T13:42:37.707485Z",
     "iopub.status.busy": "2022-08-01T13:42:37.706901Z",
     "iopub.status.idle": "2022-08-01T13:42:37.712757Z",
     "shell.execute_reply": "2022-08-01T13:42:37.711853Z",
     "shell.execute_reply.started": "2022-08-01T13:42:37.707458Z"
    },
    "tags": []
   },
   "outputs": [
    {
     "data": {
      "text/plain": [
       "(30162, 43)"
      ]
     },
     "execution_count": 250,
     "metadata": {},
     "output_type": "execute_result"
    }
   ],
   "source": [
    "transformed.shape"
   ]
  },
  {
   "cell_type": "markdown",
   "id": "9c790f18",
   "metadata": {},
   "source": [
    "I got 43 features for my model. Let's just quick explore this data."
   ]
  },
  {
   "cell_type": "markdown",
   "id": "5c4f1a41",
   "metadata": {},
   "source": [
    "## Explore transformed data"
   ]
  },
  {
   "cell_type": "code",
   "execution_count": 251,
   "id": "364f77e3",
   "metadata": {
    "execution": {
     "iopub.execute_input": "2022-08-01T13:42:38.446762Z",
     "iopub.status.busy": "2022-08-01T13:42:38.446414Z",
     "iopub.status.idle": "2022-08-01T13:42:38.564959Z",
     "shell.execute_reply": "2022-08-01T13:42:38.564199Z",
     "shell.execute_reply.started": "2022-08-01T13:42:38.446735Z"
    },
    "tags": []
   },
   "outputs": [
    {
     "data": {
      "text/html": [
       "<div>\n",
       "<style scoped>\n",
       "    .dataframe tbody tr th:only-of-type {\n",
       "        vertical-align: middle;\n",
       "    }\n",
       "\n",
       "    .dataframe tbody tr th {\n",
       "        vertical-align: top;\n",
       "    }\n",
       "\n",
       "    .dataframe thead th {\n",
       "        text-align: right;\n",
       "    }\n",
       "</style>\n",
       "<table border=\"1\" class=\"dataframe\">\n",
       "  <thead>\n",
       "    <tr style=\"text-align: right;\">\n",
       "      <th></th>\n",
       "      <th>count</th>\n",
       "      <th>mean</th>\n",
       "      <th>std</th>\n",
       "      <th>min</th>\n",
       "      <th>25%</th>\n",
       "      <th>50%</th>\n",
       "      <th>75%</th>\n",
       "      <th>max</th>\n",
       "    </tr>\n",
       "  </thead>\n",
       "  <tbody>\n",
       "    <tr>\n",
       "      <th>age</th>\n",
       "      <td>30162.0</td>\n",
       "      <td>38.437902</td>\n",
       "      <td>13.134665</td>\n",
       "      <td>17.0</td>\n",
       "      <td>28.0</td>\n",
       "      <td>37.0</td>\n",
       "      <td>47.0</td>\n",
       "      <td>90.0</td>\n",
       "    </tr>\n",
       "    <tr>\n",
       "      <th>education.num</th>\n",
       "      <td>30162.0</td>\n",
       "      <td>10.121312</td>\n",
       "      <td>2.549995</td>\n",
       "      <td>1.0</td>\n",
       "      <td>9.0</td>\n",
       "      <td>10.0</td>\n",
       "      <td>13.0</td>\n",
       "      <td>16.0</td>\n",
       "    </tr>\n",
       "    <tr>\n",
       "      <th>race</th>\n",
       "      <td>30162.0</td>\n",
       "      <td>0.859790</td>\n",
       "      <td>0.347210</td>\n",
       "      <td>0.0</td>\n",
       "      <td>1.0</td>\n",
       "      <td>1.0</td>\n",
       "      <td>1.0</td>\n",
       "      <td>1.0</td>\n",
       "    </tr>\n",
       "    <tr>\n",
       "      <th>sex</th>\n",
       "      <td>30162.0</td>\n",
       "      <td>0.675685</td>\n",
       "      <td>0.468126</td>\n",
       "      <td>0.0</td>\n",
       "      <td>0.0</td>\n",
       "      <td>1.0</td>\n",
       "      <td>1.0</td>\n",
       "      <td>1.0</td>\n",
       "    </tr>\n",
       "    <tr>\n",
       "      <th>capital.gain</th>\n",
       "      <td>30162.0</td>\n",
       "      <td>0.010920</td>\n",
       "      <td>0.074064</td>\n",
       "      <td>0.0</td>\n",
       "      <td>0.0</td>\n",
       "      <td>0.0</td>\n",
       "      <td>0.0</td>\n",
       "      <td>1.0</td>\n",
       "    </tr>\n",
       "    <tr>\n",
       "      <th>capital.loss</th>\n",
       "      <td>30162.0</td>\n",
       "      <td>0.020288</td>\n",
       "      <td>0.092814</td>\n",
       "      <td>0.0</td>\n",
       "      <td>0.0</td>\n",
       "      <td>0.0</td>\n",
       "      <td>0.0</td>\n",
       "      <td>1.0</td>\n",
       "    </tr>\n",
       "    <tr>\n",
       "      <th>hours.per.week</th>\n",
       "      <td>30162.0</td>\n",
       "      <td>40.931238</td>\n",
       "      <td>11.979984</td>\n",
       "      <td>1.0</td>\n",
       "      <td>40.0</td>\n",
       "      <td>40.0</td>\n",
       "      <td>45.0</td>\n",
       "      <td>99.0</td>\n",
       "    </tr>\n",
       "    <tr>\n",
       "      <th>native.country</th>\n",
       "      <td>30162.0</td>\n",
       "      <td>0.911876</td>\n",
       "      <td>0.283480</td>\n",
       "      <td>0.0</td>\n",
       "      <td>1.0</td>\n",
       "      <td>1.0</td>\n",
       "      <td>1.0</td>\n",
       "      <td>1.0</td>\n",
       "    </tr>\n",
       "    <tr>\n",
       "      <th>income</th>\n",
       "      <td>30162.0</td>\n",
       "      <td>0.248922</td>\n",
       "      <td>0.432396</td>\n",
       "      <td>0.0</td>\n",
       "      <td>0.0</td>\n",
       "      <td>0.0</td>\n",
       "      <td>0.0</td>\n",
       "      <td>1.0</td>\n",
       "    </tr>\n",
       "    <tr>\n",
       "      <th>workclass_Federal-gov</th>\n",
       "      <td>30162.0</td>\n",
       "      <td>0.031265</td>\n",
       "      <td>0.174035</td>\n",
       "      <td>0.0</td>\n",
       "      <td>0.0</td>\n",
       "      <td>0.0</td>\n",
       "      <td>0.0</td>\n",
       "      <td>1.0</td>\n",
       "    </tr>\n",
       "    <tr>\n",
       "      <th>workclass_Local-gov</th>\n",
       "      <td>30162.0</td>\n",
       "      <td>0.068530</td>\n",
       "      <td>0.252657</td>\n",
       "      <td>0.0</td>\n",
       "      <td>0.0</td>\n",
       "      <td>0.0</td>\n",
       "      <td>0.0</td>\n",
       "      <td>1.0</td>\n",
       "    </tr>\n",
       "    <tr>\n",
       "      <th>workclass_Private</th>\n",
       "      <td>30162.0</td>\n",
       "      <td>0.738877</td>\n",
       "      <td>0.439254</td>\n",
       "      <td>0.0</td>\n",
       "      <td>0.0</td>\n",
       "      <td>1.0</td>\n",
       "      <td>1.0</td>\n",
       "      <td>1.0</td>\n",
       "    </tr>\n",
       "    <tr>\n",
       "      <th>workclass_Self-emp-inc</th>\n",
       "      <td>30162.0</td>\n",
       "      <td>0.035608</td>\n",
       "      <td>0.185313</td>\n",
       "      <td>0.0</td>\n",
       "      <td>0.0</td>\n",
       "      <td>0.0</td>\n",
       "      <td>0.0</td>\n",
       "      <td>1.0</td>\n",
       "    </tr>\n",
       "    <tr>\n",
       "      <th>workclass_Self-emp-not-inc</th>\n",
       "      <td>30162.0</td>\n",
       "      <td>0.082853</td>\n",
       "      <td>0.275664</td>\n",
       "      <td>0.0</td>\n",
       "      <td>0.0</td>\n",
       "      <td>0.0</td>\n",
       "      <td>0.0</td>\n",
       "      <td>1.0</td>\n",
       "    </tr>\n",
       "    <tr>\n",
       "      <th>workclass_State-gov</th>\n",
       "      <td>30162.0</td>\n",
       "      <td>0.042404</td>\n",
       "      <td>0.201513</td>\n",
       "      <td>0.0</td>\n",
       "      <td>0.0</td>\n",
       "      <td>0.0</td>\n",
       "      <td>0.0</td>\n",
       "      <td>1.0</td>\n",
       "    </tr>\n",
       "    <tr>\n",
       "      <th>workclass_Without-pay</th>\n",
       "      <td>30162.0</td>\n",
       "      <td>0.000464</td>\n",
       "      <td>0.021540</td>\n",
       "      <td>0.0</td>\n",
       "      <td>0.0</td>\n",
       "      <td>0.0</td>\n",
       "      <td>0.0</td>\n",
       "      <td>1.0</td>\n",
       "    </tr>\n",
       "    <tr>\n",
       "      <th>marital.status_Divorced</th>\n",
       "      <td>30162.0</td>\n",
       "      <td>0.139712</td>\n",
       "      <td>0.346694</td>\n",
       "      <td>0.0</td>\n",
       "      <td>0.0</td>\n",
       "      <td>0.0</td>\n",
       "      <td>0.0</td>\n",
       "      <td>1.0</td>\n",
       "    </tr>\n",
       "    <tr>\n",
       "      <th>marital.status_Married-AF-spouse</th>\n",
       "      <td>30162.0</td>\n",
       "      <td>0.000696</td>\n",
       "      <td>0.026378</td>\n",
       "      <td>0.0</td>\n",
       "      <td>0.0</td>\n",
       "      <td>0.0</td>\n",
       "      <td>0.0</td>\n",
       "      <td>1.0</td>\n",
       "    </tr>\n",
       "    <tr>\n",
       "      <th>marital.status_Married-civ-spouse</th>\n",
       "      <td>30162.0</td>\n",
       "      <td>0.466315</td>\n",
       "      <td>0.498872</td>\n",
       "      <td>0.0</td>\n",
       "      <td>0.0</td>\n",
       "      <td>0.0</td>\n",
       "      <td>1.0</td>\n",
       "      <td>1.0</td>\n",
       "    </tr>\n",
       "    <tr>\n",
       "      <th>marital.status_Married-spouse-absent</th>\n",
       "      <td>30162.0</td>\n",
       "      <td>0.012267</td>\n",
       "      <td>0.110077</td>\n",
       "      <td>0.0</td>\n",
       "      <td>0.0</td>\n",
       "      <td>0.0</td>\n",
       "      <td>0.0</td>\n",
       "      <td>1.0</td>\n",
       "    </tr>\n",
       "    <tr>\n",
       "      <th>marital.status_Never-married</th>\n",
       "      <td>30162.0</td>\n",
       "      <td>0.322459</td>\n",
       "      <td>0.467425</td>\n",
       "      <td>0.0</td>\n",
       "      <td>0.0</td>\n",
       "      <td>0.0</td>\n",
       "      <td>1.0</td>\n",
       "      <td>1.0</td>\n",
       "    </tr>\n",
       "    <tr>\n",
       "      <th>marital.status_Separated</th>\n",
       "      <td>30162.0</td>\n",
       "      <td>0.031132</td>\n",
       "      <td>0.173677</td>\n",
       "      <td>0.0</td>\n",
       "      <td>0.0</td>\n",
       "      <td>0.0</td>\n",
       "      <td>0.0</td>\n",
       "      <td>1.0</td>\n",
       "    </tr>\n",
       "    <tr>\n",
       "      <th>marital.status_Widowed</th>\n",
       "      <td>30162.0</td>\n",
       "      <td>0.027419</td>\n",
       "      <td>0.163303</td>\n",
       "      <td>0.0</td>\n",
       "      <td>0.0</td>\n",
       "      <td>0.0</td>\n",
       "      <td>0.0</td>\n",
       "      <td>1.0</td>\n",
       "    </tr>\n",
       "    <tr>\n",
       "      <th>occupation_Adm-clerical</th>\n",
       "      <td>30162.0</td>\n",
       "      <td>0.123367</td>\n",
       "      <td>0.328864</td>\n",
       "      <td>0.0</td>\n",
       "      <td>0.0</td>\n",
       "      <td>0.0</td>\n",
       "      <td>0.0</td>\n",
       "      <td>1.0</td>\n",
       "    </tr>\n",
       "    <tr>\n",
       "      <th>occupation_Armed-Forces</th>\n",
       "      <td>30162.0</td>\n",
       "      <td>0.000298</td>\n",
       "      <td>0.017272</td>\n",
       "      <td>0.0</td>\n",
       "      <td>0.0</td>\n",
       "      <td>0.0</td>\n",
       "      <td>0.0</td>\n",
       "      <td>1.0</td>\n",
       "    </tr>\n",
       "    <tr>\n",
       "      <th>occupation_Craft-repair</th>\n",
       "      <td>30162.0</td>\n",
       "      <td>0.133612</td>\n",
       "      <td>0.340240</td>\n",
       "      <td>0.0</td>\n",
       "      <td>0.0</td>\n",
       "      <td>0.0</td>\n",
       "      <td>0.0</td>\n",
       "      <td>1.0</td>\n",
       "    </tr>\n",
       "    <tr>\n",
       "      <th>occupation_Exec-managerial</th>\n",
       "      <td>30162.0</td>\n",
       "      <td>0.132352</td>\n",
       "      <td>0.338879</td>\n",
       "      <td>0.0</td>\n",
       "      <td>0.0</td>\n",
       "      <td>0.0</td>\n",
       "      <td>0.0</td>\n",
       "      <td>1.0</td>\n",
       "    </tr>\n",
       "    <tr>\n",
       "      <th>occupation_Farming-fishing</th>\n",
       "      <td>30162.0</td>\n",
       "      <td>0.032790</td>\n",
       "      <td>0.178088</td>\n",
       "      <td>0.0</td>\n",
       "      <td>0.0</td>\n",
       "      <td>0.0</td>\n",
       "      <td>0.0</td>\n",
       "      <td>1.0</td>\n",
       "    </tr>\n",
       "    <tr>\n",
       "      <th>occupation_Handlers-cleaners</th>\n",
       "      <td>30162.0</td>\n",
       "      <td>0.044758</td>\n",
       "      <td>0.206776</td>\n",
       "      <td>0.0</td>\n",
       "      <td>0.0</td>\n",
       "      <td>0.0</td>\n",
       "      <td>0.0</td>\n",
       "      <td>1.0</td>\n",
       "    </tr>\n",
       "    <tr>\n",
       "      <th>occupation_Machine-op-inspct</th>\n",
       "      <td>30162.0</td>\n",
       "      <td>0.065181</td>\n",
       "      <td>0.246850</td>\n",
       "      <td>0.0</td>\n",
       "      <td>0.0</td>\n",
       "      <td>0.0</td>\n",
       "      <td>0.0</td>\n",
       "      <td>1.0</td>\n",
       "    </tr>\n",
       "    <tr>\n",
       "      <th>occupation_Other-service</th>\n",
       "      <td>30162.0</td>\n",
       "      <td>0.106492</td>\n",
       "      <td>0.308471</td>\n",
       "      <td>0.0</td>\n",
       "      <td>0.0</td>\n",
       "      <td>0.0</td>\n",
       "      <td>0.0</td>\n",
       "      <td>1.0</td>\n",
       "    </tr>\n",
       "    <tr>\n",
       "      <th>occupation_Priv-house-serv</th>\n",
       "      <td>30162.0</td>\n",
       "      <td>0.004741</td>\n",
       "      <td>0.068693</td>\n",
       "      <td>0.0</td>\n",
       "      <td>0.0</td>\n",
       "      <td>0.0</td>\n",
       "      <td>0.0</td>\n",
       "      <td>1.0</td>\n",
       "    </tr>\n",
       "    <tr>\n",
       "      <th>occupation_Prof-specialty</th>\n",
       "      <td>30162.0</td>\n",
       "      <td>0.133877</td>\n",
       "      <td>0.340526</td>\n",
       "      <td>0.0</td>\n",
       "      <td>0.0</td>\n",
       "      <td>0.0</td>\n",
       "      <td>0.0</td>\n",
       "      <td>1.0</td>\n",
       "    </tr>\n",
       "    <tr>\n",
       "      <th>occupation_Protective-serv</th>\n",
       "      <td>30162.0</td>\n",
       "      <td>0.021351</td>\n",
       "      <td>0.144555</td>\n",
       "      <td>0.0</td>\n",
       "      <td>0.0</td>\n",
       "      <td>0.0</td>\n",
       "      <td>0.0</td>\n",
       "      <td>1.0</td>\n",
       "    </tr>\n",
       "    <tr>\n",
       "      <th>occupation_Sales</th>\n",
       "      <td>30162.0</td>\n",
       "      <td>0.118825</td>\n",
       "      <td>0.323588</td>\n",
       "      <td>0.0</td>\n",
       "      <td>0.0</td>\n",
       "      <td>0.0</td>\n",
       "      <td>0.0</td>\n",
       "      <td>1.0</td>\n",
       "    </tr>\n",
       "    <tr>\n",
       "      <th>occupation_Tech-support</th>\n",
       "      <td>30162.0</td>\n",
       "      <td>0.030237</td>\n",
       "      <td>0.171241</td>\n",
       "      <td>0.0</td>\n",
       "      <td>0.0</td>\n",
       "      <td>0.0</td>\n",
       "      <td>0.0</td>\n",
       "      <td>1.0</td>\n",
       "    </tr>\n",
       "    <tr>\n",
       "      <th>occupation_Transport-moving</th>\n",
       "      <td>30162.0</td>\n",
       "      <td>0.052119</td>\n",
       "      <td>0.222270</td>\n",
       "      <td>0.0</td>\n",
       "      <td>0.0</td>\n",
       "      <td>0.0</td>\n",
       "      <td>0.0</td>\n",
       "      <td>1.0</td>\n",
       "    </tr>\n",
       "    <tr>\n",
       "      <th>relationship_Husband</th>\n",
       "      <td>30162.0</td>\n",
       "      <td>0.413202</td>\n",
       "      <td>0.492417</td>\n",
       "      <td>0.0</td>\n",
       "      <td>0.0</td>\n",
       "      <td>0.0</td>\n",
       "      <td>1.0</td>\n",
       "      <td>1.0</td>\n",
       "    </tr>\n",
       "    <tr>\n",
       "      <th>relationship_Not-in-family</th>\n",
       "      <td>30162.0</td>\n",
       "      <td>0.256150</td>\n",
       "      <td>0.436513</td>\n",
       "      <td>0.0</td>\n",
       "      <td>0.0</td>\n",
       "      <td>0.0</td>\n",
       "      <td>1.0</td>\n",
       "      <td>1.0</td>\n",
       "    </tr>\n",
       "    <tr>\n",
       "      <th>relationship_Other-relative</th>\n",
       "      <td>30162.0</td>\n",
       "      <td>0.029474</td>\n",
       "      <td>0.169134</td>\n",
       "      <td>0.0</td>\n",
       "      <td>0.0</td>\n",
       "      <td>0.0</td>\n",
       "      <td>0.0</td>\n",
       "      <td>1.0</td>\n",
       "    </tr>\n",
       "    <tr>\n",
       "      <th>relationship_Own-child</th>\n",
       "      <td>30162.0</td>\n",
       "      <td>0.148067</td>\n",
       "      <td>0.355172</td>\n",
       "      <td>0.0</td>\n",
       "      <td>0.0</td>\n",
       "      <td>0.0</td>\n",
       "      <td>0.0</td>\n",
       "      <td>1.0</td>\n",
       "    </tr>\n",
       "    <tr>\n",
       "      <th>relationship_Unmarried</th>\n",
       "      <td>30162.0</td>\n",
       "      <td>0.106492</td>\n",
       "      <td>0.308471</td>\n",
       "      <td>0.0</td>\n",
       "      <td>0.0</td>\n",
       "      <td>0.0</td>\n",
       "      <td>0.0</td>\n",
       "      <td>1.0</td>\n",
       "    </tr>\n",
       "    <tr>\n",
       "      <th>relationship_Wife</th>\n",
       "      <td>30162.0</td>\n",
       "      <td>0.046615</td>\n",
       "      <td>0.210816</td>\n",
       "      <td>0.0</td>\n",
       "      <td>0.0</td>\n",
       "      <td>0.0</td>\n",
       "      <td>0.0</td>\n",
       "      <td>1.0</td>\n",
       "    </tr>\n",
       "  </tbody>\n",
       "</table>\n",
       "</div>"
      ],
      "text/plain": [
       "                                        count       mean        std   min  \\\n",
       "age                                   30162.0  38.437902  13.134665  17.0   \n",
       "education.num                         30162.0  10.121312   2.549995   1.0   \n",
       "race                                  30162.0   0.859790   0.347210   0.0   \n",
       "sex                                   30162.0   0.675685   0.468126   0.0   \n",
       "capital.gain                          30162.0   0.010920   0.074064   0.0   \n",
       "capital.loss                          30162.0   0.020288   0.092814   0.0   \n",
       "hours.per.week                        30162.0  40.931238  11.979984   1.0   \n",
       "native.country                        30162.0   0.911876   0.283480   0.0   \n",
       "income                                30162.0   0.248922   0.432396   0.0   \n",
       "workclass_Federal-gov                 30162.0   0.031265   0.174035   0.0   \n",
       "workclass_Local-gov                   30162.0   0.068530   0.252657   0.0   \n",
       "workclass_Private                     30162.0   0.738877   0.439254   0.0   \n",
       "workclass_Self-emp-inc                30162.0   0.035608   0.185313   0.0   \n",
       "workclass_Self-emp-not-inc            30162.0   0.082853   0.275664   0.0   \n",
       "workclass_State-gov                   30162.0   0.042404   0.201513   0.0   \n",
       "workclass_Without-pay                 30162.0   0.000464   0.021540   0.0   \n",
       "marital.status_Divorced               30162.0   0.139712   0.346694   0.0   \n",
       "marital.status_Married-AF-spouse      30162.0   0.000696   0.026378   0.0   \n",
       "marital.status_Married-civ-spouse     30162.0   0.466315   0.498872   0.0   \n",
       "marital.status_Married-spouse-absent  30162.0   0.012267   0.110077   0.0   \n",
       "marital.status_Never-married          30162.0   0.322459   0.467425   0.0   \n",
       "marital.status_Separated              30162.0   0.031132   0.173677   0.0   \n",
       "marital.status_Widowed                30162.0   0.027419   0.163303   0.0   \n",
       "occupation_Adm-clerical               30162.0   0.123367   0.328864   0.0   \n",
       "occupation_Armed-Forces               30162.0   0.000298   0.017272   0.0   \n",
       "occupation_Craft-repair               30162.0   0.133612   0.340240   0.0   \n",
       "occupation_Exec-managerial            30162.0   0.132352   0.338879   0.0   \n",
       "occupation_Farming-fishing            30162.0   0.032790   0.178088   0.0   \n",
       "occupation_Handlers-cleaners          30162.0   0.044758   0.206776   0.0   \n",
       "occupation_Machine-op-inspct          30162.0   0.065181   0.246850   0.0   \n",
       "occupation_Other-service              30162.0   0.106492   0.308471   0.0   \n",
       "occupation_Priv-house-serv            30162.0   0.004741   0.068693   0.0   \n",
       "occupation_Prof-specialty             30162.0   0.133877   0.340526   0.0   \n",
       "occupation_Protective-serv            30162.0   0.021351   0.144555   0.0   \n",
       "occupation_Sales                      30162.0   0.118825   0.323588   0.0   \n",
       "occupation_Tech-support               30162.0   0.030237   0.171241   0.0   \n",
       "occupation_Transport-moving           30162.0   0.052119   0.222270   0.0   \n",
       "relationship_Husband                  30162.0   0.413202   0.492417   0.0   \n",
       "relationship_Not-in-family            30162.0   0.256150   0.436513   0.0   \n",
       "relationship_Other-relative           30162.0   0.029474   0.169134   0.0   \n",
       "relationship_Own-child                30162.0   0.148067   0.355172   0.0   \n",
       "relationship_Unmarried                30162.0   0.106492   0.308471   0.0   \n",
       "relationship_Wife                     30162.0   0.046615   0.210816   0.0   \n",
       "\n",
       "                                       25%   50%   75%   max  \n",
       "age                                   28.0  37.0  47.0  90.0  \n",
       "education.num                          9.0  10.0  13.0  16.0  \n",
       "race                                   1.0   1.0   1.0   1.0  \n",
       "sex                                    0.0   1.0   1.0   1.0  \n",
       "capital.gain                           0.0   0.0   0.0   1.0  \n",
       "capital.loss                           0.0   0.0   0.0   1.0  \n",
       "hours.per.week                        40.0  40.0  45.0  99.0  \n",
       "native.country                         1.0   1.0   1.0   1.0  \n",
       "income                                 0.0   0.0   0.0   1.0  \n",
       "workclass_Federal-gov                  0.0   0.0   0.0   1.0  \n",
       "workclass_Local-gov                    0.0   0.0   0.0   1.0  \n",
       "workclass_Private                      0.0   1.0   1.0   1.0  \n",
       "workclass_Self-emp-inc                 0.0   0.0   0.0   1.0  \n",
       "workclass_Self-emp-not-inc             0.0   0.0   0.0   1.0  \n",
       "workclass_State-gov                    0.0   0.0   0.0   1.0  \n",
       "workclass_Without-pay                  0.0   0.0   0.0   1.0  \n",
       "marital.status_Divorced                0.0   0.0   0.0   1.0  \n",
       "marital.status_Married-AF-spouse       0.0   0.0   0.0   1.0  \n",
       "marital.status_Married-civ-spouse      0.0   0.0   1.0   1.0  \n",
       "marital.status_Married-spouse-absent   0.0   0.0   0.0   1.0  \n",
       "marital.status_Never-married           0.0   0.0   1.0   1.0  \n",
       "marital.status_Separated               0.0   0.0   0.0   1.0  \n",
       "marital.status_Widowed                 0.0   0.0   0.0   1.0  \n",
       "occupation_Adm-clerical                0.0   0.0   0.0   1.0  \n",
       "occupation_Armed-Forces                0.0   0.0   0.0   1.0  \n",
       "occupation_Craft-repair                0.0   0.0   0.0   1.0  \n",
       "occupation_Exec-managerial             0.0   0.0   0.0   1.0  \n",
       "occupation_Farming-fishing             0.0   0.0   0.0   1.0  \n",
       "occupation_Handlers-cleaners           0.0   0.0   0.0   1.0  \n",
       "occupation_Machine-op-inspct           0.0   0.0   0.0   1.0  \n",
       "occupation_Other-service               0.0   0.0   0.0   1.0  \n",
       "occupation_Priv-house-serv             0.0   0.0   0.0   1.0  \n",
       "occupation_Prof-specialty              0.0   0.0   0.0   1.0  \n",
       "occupation_Protective-serv             0.0   0.0   0.0   1.0  \n",
       "occupation_Sales                       0.0   0.0   0.0   1.0  \n",
       "occupation_Tech-support                0.0   0.0   0.0   1.0  \n",
       "occupation_Transport-moving            0.0   0.0   0.0   1.0  \n",
       "relationship_Husband                   0.0   0.0   1.0   1.0  \n",
       "relationship_Not-in-family             0.0   0.0   1.0   1.0  \n",
       "relationship_Other-relative            0.0   0.0   0.0   1.0  \n",
       "relationship_Own-child                 0.0   0.0   0.0   1.0  \n",
       "relationship_Unmarried                 0.0   0.0   0.0   1.0  \n",
       "relationship_Wife                      0.0   0.0   0.0   1.0  "
      ]
     },
     "execution_count": 251,
     "metadata": {},
     "output_type": "execute_result"
    }
   ],
   "source": [
    "transformed.describe(include='all').T"
   ]
  },
  {
   "cell_type": "code",
   "execution_count": 252,
   "id": "29e70b40",
   "metadata": {
    "execution": {
     "iopub.execute_input": "2022-08-01T13:42:38.617400Z",
     "iopub.status.busy": "2022-08-01T13:42:38.617052Z",
     "iopub.status.idle": "2022-08-01T13:42:39.576621Z",
     "shell.execute_reply": "2022-08-01T13:42:39.576098Z",
     "shell.execute_reply.started": "2022-08-01T13:42:38.617372Z"
    },
    "tags": []
   },
   "outputs": [
    {
     "data": {
      "text/plain": [
       "<AxesSubplot:>"
      ]
     },
     "execution_count": 252,
     "metadata": {},
     "output_type": "execute_result"
    },
    {
     "data": {
      "image/png": "[encoded data removed]",
      "text/plain": [
       "<Figure size 864x720 with 2 Axes>"
      ]
     },
     "metadata": {
      "needs_background": "light"
     },
     "output_type": "display_data"
    }
   ],
   "source": [
    "plt.figure(figsize=(12,10))\n",
    "sns.heatmap(transformed.corr(), cmap='YlOrBr')"
   ]
  },
  {
   "cell_type": "code",
   "execution_count": 253,
   "id": "dd23ebfa",
   "metadata": {
    "execution": {
     "iopub.execute_input": "2022-08-01T13:42:39.578772Z",
     "iopub.status.busy": "2022-08-01T13:42:39.578428Z",
     "iopub.status.idle": "2022-08-01T13:42:40.196242Z",
     "shell.execute_reply": "2022-08-01T13:42:40.195610Z",
     "shell.execute_reply.started": "2022-08-01T13:42:39.578754Z"
    },
    "tags": []
   },
   "outputs": [
    {
     "data": {
      "text/plain": [
       "<AxesSubplot:>"
      ]
     },
     "execution_count": 253,
     "metadata": {},
     "output_type": "execute_result"
    },
    {
     "data": {
      "image/png": "[encoded data removed]",
      "text/plain": [
       "<Figure size 432x288 with 2 Axes>"
      ]
     },
     "metadata": {
      "needs_background": "light"
     },
     "output_type": "display_data"
    }
   ],
   "source": [
    "sns.heatmap(df.isna())"
   ]
  },
  {
   "cell_type": "markdown",
   "id": "fa5cc29d",
   "metadata": {},
   "source": [
    "All good."
   ]
  },
  {
   "cell_type": "markdown",
   "id": "e8a74205",
   "metadata": {},
   "source": [
    "## Separate data (train/test, X/y)"
   ]
  },
  {
   "cell_type": "markdown",
   "id": "2011774e",
   "metadata": {},
   "source": [
    "Set index."
   ]
  },
  {
   "cell_type": "code",
   "execution_count": 254,
   "id": "63324c1b",
   "metadata": {
    "execution": {
     "iopub.execute_input": "2022-08-01T13:42:40.198208Z",
     "iopub.status.busy": "2022-08-01T13:42:40.197875Z",
     "iopub.status.idle": "2022-08-01T13:42:40.205357Z",
     "shell.execute_reply": "2022-08-01T13:42:40.204778Z",
     "shell.execute_reply.started": "2022-08-01T13:42:40.198188Z"
    },
    "tags": []
   },
   "outputs": [],
   "source": [
    "transformed = transformed.set_index('sex')"
   ]
  },
  {
   "cell_type": "markdown",
   "id": "67cdf065",
   "metadata": {},
   "source": [
    "Separate X and y (train and test)."
   ]
  },
  {
   "cell_type": "code",
   "execution_count": 255,
   "id": "abd5ad79",
   "metadata": {
    "execution": {
     "iopub.execute_input": "2022-08-01T13:42:40.206636Z",
     "iopub.status.busy": "2022-08-01T13:42:40.206194Z",
     "iopub.status.idle": "2022-08-01T13:42:40.214769Z",
     "shell.execute_reply": "2022-08-01T13:42:40.213949Z",
     "shell.execute_reply.started": "2022-08-01T13:42:40.206615Z"
    },
    "tags": []
   },
   "outputs": [],
   "source": [
    "y = transformed['income']\n",
    "X = transformed.drop('income', axis=1)"
   ]
  },
  {
   "cell_type": "code",
   "execution_count": 256,
   "id": "073cad6c-383d-46d9-b5a9-249c76814dc0",
   "metadata": {
    "execution": {
     "iopub.execute_input": "2022-08-01T13:42:40.216962Z",
     "iopub.status.busy": "2022-08-01T13:42:40.216655Z",
     "iopub.status.idle": "2022-08-01T13:42:40.238390Z",
     "shell.execute_reply": "2022-08-01T13:42:40.237459Z",
     "shell.execute_reply.started": "2022-08-01T13:42:40.216934Z"
    },
    "tags": []
   },
   "outputs": [
    {
     "data": {
      "text/html": [
       "<div>\n",
       "<style scoped>\n",
       "    .dataframe tbody tr th:only-of-type {\n",
       "        vertical-align: middle;\n",
       "    }\n",
       "\n",
       "    .dataframe tbody tr th {\n",
       "        vertical-align: top;\n",
       "    }\n",
       "\n",
       "    .dataframe thead th {\n",
       "        text-align: right;\n",
       "    }\n",
       "</style>\n",
       "<table border=\"1\" class=\"dataframe\">\n",
       "  <thead>\n",
       "    <tr style=\"text-align: right;\">\n",
       "      <th></th>\n",
       "      <th>age</th>\n",
       "      <th>education.num</th>\n",
       "      <th>race</th>\n",
       "      <th>capital.gain</th>\n",
       "      <th>capital.loss</th>\n",
       "      <th>hours.per.week</th>\n",
       "      <th>native.country</th>\n",
       "      <th>workclass_Federal-gov</th>\n",
       "      <th>workclass_Local-gov</th>\n",
       "      <th>workclass_Private</th>\n",
       "      <th>workclass_Self-emp-inc</th>\n",
       "      <th>workclass_Self-emp-not-inc</th>\n",
       "      <th>workclass_State-gov</th>\n",
       "      <th>workclass_Without-pay</th>\n",
       "      <th>marital.status_Divorced</th>\n",
       "      <th>marital.status_Married-AF-spouse</th>\n",
       "      <th>marital.status_Married-civ-spouse</th>\n",
       "      <th>marital.status_Married-spouse-absent</th>\n",
       "      <th>marital.status_Never-married</th>\n",
       "      <th>marital.status_Separated</th>\n",
       "      <th>marital.status_Widowed</th>\n",
       "      <th>occupation_Adm-clerical</th>\n",
       "      <th>occupation_Armed-Forces</th>\n",
       "      <th>occupation_Craft-repair</th>\n",
       "      <th>occupation_Exec-managerial</th>\n",
       "      <th>occupation_Farming-fishing</th>\n",
       "      <th>occupation_Handlers-cleaners</th>\n",
       "      <th>occupation_Machine-op-inspct</th>\n",
       "      <th>occupation_Other-service</th>\n",
       "      <th>occupation_Priv-house-serv</th>\n",
       "      <th>occupation_Prof-specialty</th>\n",
       "      <th>occupation_Protective-serv</th>\n",
       "      <th>occupation_Sales</th>\n",
       "      <th>occupation_Tech-support</th>\n",
       "      <th>occupation_Transport-moving</th>\n",
       "      <th>relationship_Husband</th>\n",
       "      <th>relationship_Not-in-family</th>\n",
       "      <th>relationship_Other-relative</th>\n",
       "      <th>relationship_Own-child</th>\n",
       "      <th>relationship_Unmarried</th>\n",
       "      <th>relationship_Wife</th>\n",
       "    </tr>\n",
       "    <tr>\n",
       "      <th>sex</th>\n",
       "      <th></th>\n",
       "      <th></th>\n",
       "      <th></th>\n",
       "      <th></th>\n",
       "      <th></th>\n",
       "      <th></th>\n",
       "      <th></th>\n",
       "      <th></th>\n",
       "      <th></th>\n",
       "      <th></th>\n",
       "      <th></th>\n",
       "      <th></th>\n",
       "      <th></th>\n",
       "      <th></th>\n",
       "      <th></th>\n",
       "      <th></th>\n",
       "      <th></th>\n",
       "      <th></th>\n",
       "      <th></th>\n",
       "      <th></th>\n",
       "      <th></th>\n",
       "      <th></th>\n",
       "      <th></th>\n",
       "      <th></th>\n",
       "      <th></th>\n",
       "      <th></th>\n",
       "      <th></th>\n",
       "      <th></th>\n",
       "      <th></th>\n",
       "      <th></th>\n",
       "      <th></th>\n",
       "      <th></th>\n",
       "      <th></th>\n",
       "      <th></th>\n",
       "      <th></th>\n",
       "      <th></th>\n",
       "      <th></th>\n",
       "      <th></th>\n",
       "      <th></th>\n",
       "      <th></th>\n",
       "      <th></th>\n",
       "    </tr>\n",
       "  </thead>\n",
       "  <tbody>\n",
       "    <tr>\n",
       "      <th>0</th>\n",
       "      <td>82</td>\n",
       "      <td>9</td>\n",
       "      <td>1</td>\n",
       "      <td>0.0</td>\n",
       "      <td>1.000000</td>\n",
       "      <td>18</td>\n",
       "      <td>1</td>\n",
       "      <td>0</td>\n",
       "      <td>0</td>\n",
       "      <td>1</td>\n",
       "      <td>0</td>\n",
       "      <td>0</td>\n",
       "      <td>0</td>\n",
       "      <td>0</td>\n",
       "      <td>0</td>\n",
       "      <td>0</td>\n",
       "      <td>0</td>\n",
       "      <td>0</td>\n",
       "      <td>0</td>\n",
       "      <td>0</td>\n",
       "      <td>1</td>\n",
       "      <td>0</td>\n",
       "      <td>0</td>\n",
       "      <td>0</td>\n",
       "      <td>1</td>\n",
       "      <td>0</td>\n",
       "      <td>0</td>\n",
       "      <td>0</td>\n",
       "      <td>0</td>\n",
       "      <td>0</td>\n",
       "      <td>0</td>\n",
       "      <td>0</td>\n",
       "      <td>0</td>\n",
       "      <td>0</td>\n",
       "      <td>0</td>\n",
       "      <td>0</td>\n",
       "      <td>1</td>\n",
       "      <td>0</td>\n",
       "      <td>0</td>\n",
       "      <td>0</td>\n",
       "      <td>0</td>\n",
       "    </tr>\n",
       "    <tr>\n",
       "      <th>0</th>\n",
       "      <td>54</td>\n",
       "      <td>4</td>\n",
       "      <td>1</td>\n",
       "      <td>0.0</td>\n",
       "      <td>0.895317</td>\n",
       "      <td>40</td>\n",
       "      <td>1</td>\n",
       "      <td>0</td>\n",
       "      <td>0</td>\n",
       "      <td>1</td>\n",
       "      <td>0</td>\n",
       "      <td>0</td>\n",
       "      <td>0</td>\n",
       "      <td>0</td>\n",
       "      <td>1</td>\n",
       "      <td>0</td>\n",
       "      <td>0</td>\n",
       "      <td>0</td>\n",
       "      <td>0</td>\n",
       "      <td>0</td>\n",
       "      <td>0</td>\n",
       "      <td>0</td>\n",
       "      <td>0</td>\n",
       "      <td>0</td>\n",
       "      <td>0</td>\n",
       "      <td>0</td>\n",
       "      <td>0</td>\n",
       "      <td>1</td>\n",
       "      <td>0</td>\n",
       "      <td>0</td>\n",
       "      <td>0</td>\n",
       "      <td>0</td>\n",
       "      <td>0</td>\n",
       "      <td>0</td>\n",
       "      <td>0</td>\n",
       "      <td>0</td>\n",
       "      <td>0</td>\n",
       "      <td>0</td>\n",
       "      <td>0</td>\n",
       "      <td>1</td>\n",
       "      <td>0</td>\n",
       "    </tr>\n",
       "    <tr>\n",
       "      <th>0</th>\n",
       "      <td>41</td>\n",
       "      <td>10</td>\n",
       "      <td>1</td>\n",
       "      <td>0.0</td>\n",
       "      <td>0.895317</td>\n",
       "      <td>40</td>\n",
       "      <td>1</td>\n",
       "      <td>0</td>\n",
       "      <td>0</td>\n",
       "      <td>1</td>\n",
       "      <td>0</td>\n",
       "      <td>0</td>\n",
       "      <td>0</td>\n",
       "      <td>0</td>\n",
       "      <td>0</td>\n",
       "      <td>0</td>\n",
       "      <td>0</td>\n",
       "      <td>0</td>\n",
       "      <td>0</td>\n",
       "      <td>1</td>\n",
       "      <td>0</td>\n",
       "      <td>0</td>\n",
       "      <td>0</td>\n",
       "      <td>0</td>\n",
       "      <td>0</td>\n",
       "      <td>0</td>\n",
       "      <td>0</td>\n",
       "      <td>0</td>\n",
       "      <td>0</td>\n",
       "      <td>0</td>\n",
       "      <td>1</td>\n",
       "      <td>0</td>\n",
       "      <td>0</td>\n",
       "      <td>0</td>\n",
       "      <td>0</td>\n",
       "      <td>0</td>\n",
       "      <td>0</td>\n",
       "      <td>0</td>\n",
       "      <td>1</td>\n",
       "      <td>0</td>\n",
       "      <td>0</td>\n",
       "    </tr>\n",
       "    <tr>\n",
       "      <th>0</th>\n",
       "      <td>34</td>\n",
       "      <td>9</td>\n",
       "      <td>1</td>\n",
       "      <td>0.0</td>\n",
       "      <td>0.865473</td>\n",
       "      <td>45</td>\n",
       "      <td>1</td>\n",
       "      <td>0</td>\n",
       "      <td>0</td>\n",
       "      <td>1</td>\n",
       "      <td>0</td>\n",
       "      <td>0</td>\n",
       "      <td>0</td>\n",
       "      <td>0</td>\n",
       "      <td>1</td>\n",
       "      <td>0</td>\n",
       "      <td>0</td>\n",
       "      <td>0</td>\n",
       "      <td>0</td>\n",
       "      <td>0</td>\n",
       "      <td>0</td>\n",
       "      <td>0</td>\n",
       "      <td>0</td>\n",
       "      <td>0</td>\n",
       "      <td>0</td>\n",
       "      <td>0</td>\n",
       "      <td>0</td>\n",
       "      <td>0</td>\n",
       "      <td>1</td>\n",
       "      <td>0</td>\n",
       "      <td>0</td>\n",
       "      <td>0</td>\n",
       "      <td>0</td>\n",
       "      <td>0</td>\n",
       "      <td>0</td>\n",
       "      <td>0</td>\n",
       "      <td>0</td>\n",
       "      <td>0</td>\n",
       "      <td>0</td>\n",
       "      <td>1</td>\n",
       "      <td>0</td>\n",
       "    </tr>\n",
       "    <tr>\n",
       "      <th>1</th>\n",
       "      <td>38</td>\n",
       "      <td>6</td>\n",
       "      <td>1</td>\n",
       "      <td>0.0</td>\n",
       "      <td>0.865473</td>\n",
       "      <td>40</td>\n",
       "      <td>1</td>\n",
       "      <td>0</td>\n",
       "      <td>0</td>\n",
       "      <td>1</td>\n",
       "      <td>0</td>\n",
       "      <td>0</td>\n",
       "      <td>0</td>\n",
       "      <td>0</td>\n",
       "      <td>0</td>\n",
       "      <td>0</td>\n",
       "      <td>0</td>\n",
       "      <td>0</td>\n",
       "      <td>0</td>\n",
       "      <td>1</td>\n",
       "      <td>0</td>\n",
       "      <td>1</td>\n",
       "      <td>0</td>\n",
       "      <td>0</td>\n",
       "      <td>0</td>\n",
       "      <td>0</td>\n",
       "      <td>0</td>\n",
       "      <td>0</td>\n",
       "      <td>0</td>\n",
       "      <td>0</td>\n",
       "      <td>0</td>\n",
       "      <td>0</td>\n",
       "      <td>0</td>\n",
       "      <td>0</td>\n",
       "      <td>0</td>\n",
       "      <td>0</td>\n",
       "      <td>0</td>\n",
       "      <td>0</td>\n",
       "      <td>0</td>\n",
       "      <td>1</td>\n",
       "      <td>0</td>\n",
       "    </tr>\n",
       "  </tbody>\n",
       "</table>\n",
       "</div>"
      ],
      "text/plain": [
       "     age  education.num  race  capital.gain  capital.loss  hours.per.week  \\\n",
       "sex                                                                         \n",
       "0     82              9     1           0.0      1.000000              18   \n",
       "0     54              4     1           0.0      0.895317              40   \n",
       "0     41             10     1           0.0      0.895317              40   \n",
       "0     34              9     1           0.0      0.865473              45   \n",
       "1     38              6     1           0.0      0.865473              40   \n",
       "\n",
       "     native.country  workclass_Federal-gov  workclass_Local-gov  \\\n",
       "sex                                                               \n",
       "0                 1                      0                    0   \n",
       "0                 1                      0                    0   \n",
       "0                 1                      0                    0   \n",
       "0                 1                      0                    0   \n",
       "1                 1                      0                    0   \n",
       "\n",
       "     workclass_Private  workclass_Self-emp-inc  workclass_Self-emp-not-inc  \\\n",
       "sex                                                                          \n",
       "0                    1                       0                           0   \n",
       "0                    1                       0                           0   \n",
       "0                    1                       0                           0   \n",
       "0                    1                       0                           0   \n",
       "1                    1                       0                           0   \n",
       "\n",
       "     workclass_State-gov  workclass_Without-pay  marital.status_Divorced  \\\n",
       "sex                                                                        \n",
       "0                      0                      0                        0   \n",
       "0                      0                      0                        1   \n",
       "0                      0                      0                        0   \n",
       "0                      0                      0                        1   \n",
       "1                      0                      0                        0   \n",
       "\n",
       "     marital.status_Married-AF-spouse  marital.status_Married-civ-spouse  \\\n",
       "sex                                                                        \n",
       "0                                   0                                  0   \n",
       "0                                   0                                  0   \n",
       "0                                   0                                  0   \n",
       "0                                   0                                  0   \n",
       "1                                   0                                  0   \n",
       "\n",
       "     marital.status_Married-spouse-absent  marital.status_Never-married  \\\n",
       "sex                                                                       \n",
       "0                                       0                             0   \n",
       "0                                       0                             0   \n",
       "0                                       0                             0   \n",
       "0                                       0                             0   \n",
       "1                                       0                             0   \n",
       "\n",
       "     marital.status_Separated  marital.status_Widowed  \\\n",
       "sex                                                     \n",
       "0                           0                       1   \n",
       "0                           0                       0   \n",
       "0                           1                       0   \n",
       "0                           0                       0   \n",
       "1                           1                       0   \n",
       "\n",
       "     occupation_Adm-clerical  occupation_Armed-Forces  \\\n",
       "sex                                                     \n",
       "0                          0                        0   \n",
       "0                          0                        0   \n",
       "0                          0                        0   \n",
       "0                          0                        0   \n",
       "1                          1                        0   \n",
       "\n",
       "     occupation_Craft-repair  occupation_Exec-managerial  \\\n",
       "sex                                                        \n",
       "0                          0                           1   \n",
       "0                          0                           0   \n",
       "0                          0                           0   \n",
       "0                          0                           0   \n",
       "1                          0                           0   \n",
       "\n",
       "     occupation_Farming-fishing  occupation_Handlers-cleaners  \\\n",
       "sex                                                             \n",
       "0                             0                             0   \n",
       "0                             0                             0   \n",
       "0                             0                             0   \n",
       "0                             0                             0   \n",
       "1                             0                             0   \n",
       "\n",
       "     occupation_Machine-op-inspct  occupation_Other-service  \\\n",
       "sex                                                           \n",
       "0                               0                         0   \n",
       "0                               1                         0   \n",
       "0                               0                         0   \n",
       "0                               0                         1   \n",
       "1                               0                         0   \n",
       "\n",
       "     occupation_Priv-house-serv  occupation_Prof-specialty  \\\n",
       "sex                                                          \n",
       "0                             0                          0   \n",
       "0                             0                          0   \n",
       "0                             0                          1   \n",
       "0                             0                          0   \n",
       "1                             0                          0   \n",
       "\n",
       "     occupation_Protective-serv  occupation_Sales  occupation_Tech-support  \\\n",
       "sex                                                                          \n",
       "0                             0                 0                        0   \n",
       "0                             0                 0                        0   \n",
       "0                             0                 0                        0   \n",
       "0                             0                 0                        0   \n",
       "1                             0                 0                        0   \n",
       "\n",
       "     occupation_Transport-moving  relationship_Husband  \\\n",
       "sex                                                      \n",
       "0                              0                     0   \n",
       "0                              0                     0   \n",
       "0                              0                     0   \n",
       "0                              0                     0   \n",
       "1                              0                     0   \n",
       "\n",
       "     relationship_Not-in-family  relationship_Other-relative  \\\n",
       "sex                                                            \n",
       "0                             1                            0   \n",
       "0                             0                            0   \n",
       "0                             0                            0   \n",
       "0                             0                            0   \n",
       "1                             0                            0   \n",
       "\n",
       "     relationship_Own-child  relationship_Unmarried  relationship_Wife  \n",
       "sex                                                                     \n",
       "0                         0                       0                  0  \n",
       "0                         0                       1                  0  \n",
       "0                         1                       0                  0  \n",
       "0                         0                       1                  0  \n",
       "1                         0                       1                  0  "
      ]
     },
     "execution_count": 256,
     "metadata": {},
     "output_type": "execute_result"
    }
   ],
   "source": [
    "X.head()"
   ]
  },
  {
   "cell_type": "code",
   "execution_count": 257,
   "id": "db2b6fb9",
   "metadata": {
    "execution": {
     "iopub.execute_input": "2022-08-01T13:42:40.389742Z",
     "iopub.status.busy": "2022-08-01T13:42:40.389139Z",
     "iopub.status.idle": "2022-08-01T13:42:40.393716Z",
     "shell.execute_reply": "2022-08-01T13:42:40.392574Z",
     "shell.execute_reply.started": "2022-08-01T13:42:40.389715Z"
    },
    "tags": []
   },
   "outputs": [],
   "source": [
    "from sklearn.model_selection import train_test_split"
   ]
  },
  {
   "cell_type": "code",
   "execution_count": 258,
   "id": "9ddaf7f1",
   "metadata": {
    "execution": {
     "iopub.execute_input": "2022-08-01T13:42:40.602798Z",
     "iopub.status.busy": "2022-08-01T13:42:40.602454Z",
     "iopub.status.idle": "2022-08-01T13:42:40.617278Z",
     "shell.execute_reply": "2022-08-01T13:42:40.616536Z",
     "shell.execute_reply.started": "2022-08-01T13:42:40.602772Z"
    },
    "tags": []
   },
   "outputs": [],
   "source": [
    "(X_train, X_test,\n",
    " y_train, y_test) = train_test_split(X, y, train_size=0.7, random_state=1234567)"
   ]
  },
  {
   "cell_type": "code",
   "execution_count": 259,
   "id": "b96e4967-44d7-44a2-a64d-1127086e29aa",
   "metadata": {
    "execution": {
     "iopub.execute_input": "2022-08-01T13:42:40.892758Z",
     "iopub.status.busy": "2022-08-01T13:42:40.892393Z",
     "iopub.status.idle": "2022-08-01T13:42:40.897200Z",
     "shell.execute_reply": "2022-08-01T13:42:40.896142Z",
     "shell.execute_reply.started": "2022-08-01T13:42:40.892731Z"
    },
    "tags": []
   },
   "outputs": [
    {
     "name": "stdout",
     "output_type": "stream",
     "text": [
      "(21113, 41) (9049, 41) (21113,) (9049,)\n"
     ]
    }
   ],
   "source": [
    "print(X_train.shape, X_test.shape, y_train.shape, y_test.shape)"
   ]
  },
  {
   "cell_type": "code",
   "execution_count": 260,
   "id": "f1611d9e-4d8a-4f3d-95c7-9d4edc4eeecc",
   "metadata": {
    "execution": {
     "iopub.execute_input": "2022-08-01T13:42:41.099620Z",
     "iopub.status.busy": "2022-08-01T13:42:41.099263Z",
     "iopub.status.idle": "2022-08-01T13:42:41.105674Z",
     "shell.execute_reply": "2022-08-01T13:42:41.104849Z",
     "shell.execute_reply.started": "2022-08-01T13:42:41.099593Z"
    },
    "tags": []
   },
   "outputs": [
    {
     "name": "stdout",
     "output_type": "stream",
     "text": [
      "0    15825\n",
      "1     5288\n",
      "Name: income, dtype: int64 \n",
      " 0    6829\n",
      "1    2220\n",
      "Name: income, dtype: int64\n"
     ]
    }
   ],
   "source": [
    "print(y_train.value_counts(), '\\n', y_test.value_counts())"
   ]
  },
  {
   "cell_type": "code",
   "execution_count": 261,
   "id": "956b0ba6-207c-46c3-90b4-4ca3da65a19b",
   "metadata": {
    "execution": {
     "iopub.execute_input": "2022-08-01T13:42:41.312122Z",
     "iopub.status.busy": "2022-08-01T13:42:41.311527Z",
     "iopub.status.idle": "2022-08-01T13:42:41.318241Z",
     "shell.execute_reply": "2022-08-01T13:42:41.317398Z",
     "shell.execute_reply.started": "2022-08-01T13:42:41.312095Z"
    },
    "tags": []
   },
   "outputs": [
    {
     "data": {
      "text/plain": [
       "1    14209\n",
       "0     6904\n",
       "Name: sex, dtype: int64"
      ]
     },
     "execution_count": 261,
     "metadata": {},
     "output_type": "execute_result"
    }
   ],
   "source": [
    "X_train.index.value_counts()"
   ]
  },
  {
   "cell_type": "markdown",
   "id": "c596a5d6",
   "metadata": {},
   "source": [
    "## Train a model"
   ]
  },
  {
   "cell_type": "code",
   "execution_count": 262,
   "id": "49f0de87",
   "metadata": {
    "execution": {
     "iopub.execute_input": "2022-08-01T13:42:43.971980Z",
     "iopub.status.busy": "2022-08-01T13:42:43.971369Z",
     "iopub.status.idle": "2022-08-01T13:42:43.975700Z",
     "shell.execute_reply": "2022-08-01T13:42:43.974738Z",
     "shell.execute_reply.started": "2022-08-01T13:42:43.971953Z"
    },
    "tags": []
   },
   "outputs": [],
   "source": [
    "from sklearn.linear_model import LogisticRegression\n",
    "from sklearn.metrics import classification_report\n",
    "from sklearn.model_selection import GridSearchCV"
   ]
  },
  {
   "cell_type": "code",
   "execution_count": 307,
   "id": "3dc8c076",
   "metadata": {
    "execution": {
     "iopub.execute_input": "2022-08-01T13:54:02.069308Z",
     "iopub.status.busy": "2022-08-01T13:54:02.068948Z",
     "iopub.status.idle": "2022-08-01T13:54:02.245852Z",
     "shell.execute_reply": "2022-08-01T13:54:02.245179Z",
     "shell.execute_reply.started": "2022-08-01T13:54:02.069279Z"
    },
    "tags": []
   },
   "outputs": [
    {
     "name": "stderr",
     "output_type": "stream",
     "text": [
      "/Users/paolla.magalhaes/miniforge3/envs/fairness/lib/python3.8/site-packages/sklearn/linear_model/_logistic.py:444: ConvergenceWarning: lbfgs failed to converge (status=1):\n",
      "STOP: TOTAL NO. of ITERATIONS REACHED LIMIT.\n",
      "\n",
      "Increase the number of iterations (max_iter) or scale the data as shown in:\n",
      "    https://scikit-learn.org/stable/modules/preprocessing.html\n",
      "Please also refer to the documentation for alternative solver options:\n",
      "    https://scikit-learn.org/stable/modules/linear_model.html#logistic-regression\n",
      "  n_iter_i = _check_optimize_result(\n"
     ]
    }
   ],
   "source": [
    "estimator = LogisticRegression(solver='lbfgs', random_state=RANDOM_STATE)\n",
    "y_pred = estimator.fit(X_train, y_train).predict(X_test)"
   ]
  },
  {
   "cell_type": "markdown",
   "id": "76dba3b7",
   "metadata": {},
   "source": [
    "## Evaluate performance"
   ]
  },
  {
   "cell_type": "code",
   "execution_count": 308,
   "id": "d6cc16a1",
   "metadata": {
    "execution": {
     "iopub.execute_input": "2022-08-01T13:54:04.667448Z",
     "iopub.status.busy": "2022-08-01T13:54:04.667098Z",
     "iopub.status.idle": "2022-08-01T13:54:04.691132Z",
     "shell.execute_reply": "2022-08-01T13:54:04.690354Z",
     "shell.execute_reply.started": "2022-08-01T13:54:04.667420Z"
    },
    "tags": []
   },
   "outputs": [
    {
     "data": {
      "text/html": [
       "<div>\n",
       "<style scoped>\n",
       "    .dataframe tbody tr th:only-of-type {\n",
       "        vertical-align: middle;\n",
       "    }\n",
       "\n",
       "    .dataframe tbody tr th {\n",
       "        vertical-align: top;\n",
       "    }\n",
       "\n",
       "    .dataframe thead th {\n",
       "        text-align: right;\n",
       "    }\n",
       "</style>\n",
       "<table border=\"1\" class=\"dataframe\">\n",
       "  <thead>\n",
       "    <tr style=\"text-align: right;\">\n",
       "      <th></th>\n",
       "      <th>precision</th>\n",
       "      <th>recall</th>\n",
       "      <th>f1-score</th>\n",
       "      <th>support</th>\n",
       "    </tr>\n",
       "  </thead>\n",
       "  <tbody>\n",
       "    <tr>\n",
       "      <th>0</th>\n",
       "      <td>0.868852</td>\n",
       "      <td>0.915800</td>\n",
       "      <td>0.891709</td>\n",
       "      <td>6829.000000</td>\n",
       "    </tr>\n",
       "    <tr>\n",
       "      <th>1</th>\n",
       "      <td>0.689357</td>\n",
       "      <td>0.574775</td>\n",
       "      <td>0.626873</td>\n",
       "      <td>2220.000000</td>\n",
       "    </tr>\n",
       "    <tr>\n",
       "      <th>accuracy</th>\n",
       "      <td>0.832136</td>\n",
       "      <td>0.832136</td>\n",
       "      <td>0.832136</td>\n",
       "      <td>0.832136</td>\n",
       "    </tr>\n",
       "    <tr>\n",
       "      <th>macro avg</th>\n",
       "      <td>0.779105</td>\n",
       "      <td>0.745288</td>\n",
       "      <td>0.759291</td>\n",
       "      <td>9049.000000</td>\n",
       "    </tr>\n",
       "    <tr>\n",
       "      <th>weighted avg</th>\n",
       "      <td>0.824817</td>\n",
       "      <td>0.832136</td>\n",
       "      <td>0.826736</td>\n",
       "      <td>9049.000000</td>\n",
       "    </tr>\n",
       "  </tbody>\n",
       "</table>\n",
       "</div>"
      ],
      "text/plain": [
       "              precision    recall  f1-score      support\n",
       "0              0.868852  0.915800  0.891709  6829.000000\n",
       "1              0.689357  0.574775  0.626873  2220.000000\n",
       "accuracy       0.832136  0.832136  0.832136     0.832136\n",
       "macro avg      0.779105  0.745288  0.759291  9049.000000\n",
       "weighted avg   0.824817  0.832136  0.826736  9049.000000"
      ]
     },
     "execution_count": 308,
     "metadata": {},
     "output_type": "execute_result"
    }
   ],
   "source": [
    "pd.DataFrame(classification_report(y_test, y_pred, output_dict=True)).T"
   ]
  },
  {
   "cell_type": "markdown",
   "id": "b14a328c",
   "metadata": {},
   "source": [
    "## Evaluate fairness"
   ]
  },
  {
   "cell_type": "code",
   "execution_count": 265,
   "id": "6a6c1abf",
   "metadata": {
    "execution": {
     "iopub.execute_input": "2022-08-01T13:42:46.681016Z",
     "iopub.status.busy": "2022-08-01T13:42:46.680361Z",
     "iopub.status.idle": "2022-08-01T13:42:46.686839Z",
     "shell.execute_reply": "2022-08-01T13:42:46.685900Z",
     "shell.execute_reply.started": "2022-08-01T13:42:46.680987Z"
    },
    "tags": []
   },
   "outputs": [],
   "source": [
    "import pandas as pd\n",
    "\n",
    "def fairness_report(y_test, y_pred, prot_attr, return_df=True):\n",
    "    fairness_report_dict = {\n",
    "        prot_attr: {\"disparate_impact_ratio\": \n",
    "                        mt.disparate_impact_ratio(y_test, y_pred, prot_attr=prot_attr),\n",
    "                    \"statistical_parity_difference\": \n",
    "                        mt.statistical_parity_difference(y_test, y_pred, prot_attr=prot_attr),\n",
    "                    \"equal_opportunity_difference\": \n",
    "                        mt.equal_opportunity_difference(y_test, y_pred, prot_attr=prot_attr),\n",
    "                    \"average_odds_difference\": \n",
    "                        mt.average_odds_difference(y_test, y_pred, prot_attr=prot_attr)}}\n",
    "    if return_df:\n",
    "        return pd.DataFrame(fairness_report_dict)\n",
    "    else:\n",
    "        return fairness_report_dict"
   ]
  },
  {
   "cell_type": "code",
   "execution_count": 266,
   "id": "0ecc76e6",
   "metadata": {
    "execution": {
     "iopub.execute_input": "2022-08-01T13:42:47.343554Z",
     "iopub.status.busy": "2022-08-01T13:42:47.343214Z",
     "iopub.status.idle": "2022-08-01T13:42:47.366766Z",
     "shell.execute_reply": "2022-08-01T13:42:47.365764Z",
     "shell.execute_reply.started": "2022-08-01T13:42:47.343528Z"
    },
    "tags": []
   },
   "outputs": [
    {
     "data": {
      "text/html": [
       "<div>\n",
       "<style scoped>\n",
       "    .dataframe tbody tr th:only-of-type {\n",
       "        vertical-align: middle;\n",
       "    }\n",
       "\n",
       "    .dataframe tbody tr th {\n",
       "        vertical-align: top;\n",
       "    }\n",
       "\n",
       "    .dataframe thead th {\n",
       "        text-align: right;\n",
       "    }\n",
       "</style>\n",
       "<table border=\"1\" class=\"dataframe\">\n",
       "  <thead>\n",
       "    <tr style=\"text-align: right;\">\n",
       "      <th></th>\n",
       "      <th>sex</th>\n",
       "    </tr>\n",
       "  </thead>\n",
       "  <tbody>\n",
       "    <tr>\n",
       "      <th>average_odds_difference</th>\n",
       "      <td>-0.095380</td>\n",
       "    </tr>\n",
       "    <tr>\n",
       "      <th>disparate_impact_ratio</th>\n",
       "      <td>0.336371</td>\n",
       "    </tr>\n",
       "    <tr>\n",
       "      <th>equal_opportunity_difference</th>\n",
       "      <td>-0.109122</td>\n",
       "    </tr>\n",
       "    <tr>\n",
       "      <th>statistical_parity_difference</th>\n",
       "      <td>-0.172064</td>\n",
       "    </tr>\n",
       "  </tbody>\n",
       "</table>\n",
       "</div>"
      ],
      "text/plain": [
       "                                    sex\n",
       "average_odds_difference       -0.095380\n",
       "disparate_impact_ratio         0.336371\n",
       "equal_opportunity_difference  -0.109122\n",
       "statistical_parity_difference -0.172064"
      ]
     },
     "execution_count": 266,
     "metadata": {},
     "output_type": "execute_result"
    }
   ],
   "source": [
    "fairness_report(y_test, y_pred, prot_attr='sex')"
   ]
  },
  {
   "cell_type": "markdown",
   "id": "1af21138",
   "metadata": {},
   "source": [
    "Seems like it is failing on 2 fairness metrics."
   ]
  },
  {
   "cell_type": "markdown",
   "id": "e6de061a",
   "metadata": {},
   "source": [
    "# Mitigate bias"
   ]
  },
  {
   "cell_type": "markdown",
   "id": "f877cd88",
   "metadata": {},
   "source": [
    "## Using Preprocessing"
   ]
  },
  {
   "cell_type": "code",
   "execution_count": 267,
   "id": "1fb01de2",
   "metadata": {
    "execution": {
     "iopub.execute_input": "2022-08-01T13:42:54.016932Z",
     "iopub.status.busy": "2022-08-01T13:42:54.016313Z",
     "iopub.status.idle": "2022-08-01T13:42:54.020515Z",
     "shell.execute_reply": "2022-08-01T13:42:54.019609Z",
     "shell.execute_reply.started": "2022-08-01T13:42:54.016903Z"
    },
    "tags": []
   },
   "outputs": [],
   "source": [
    "from aif360.sklearn.preprocessing import ReweighingMeta"
   ]
  },
  {
   "cell_type": "code",
   "execution_count": 306,
   "id": "4be8a449",
   "metadata": {
    "execution": {
     "iopub.execute_input": "2022-08-01T13:53:58.566542Z",
     "iopub.status.busy": "2022-08-01T13:53:58.566171Z",
     "iopub.status.idle": "2022-08-01T13:53:59.390740Z",
     "shell.execute_reply": "2022-08-01T13:53:59.389855Z",
     "shell.execute_reply.started": "2022-08-01T13:53:58.566514Z"
    },
    "tags": []
   },
   "outputs": [
    {
     "name": "stderr",
     "output_type": "stream",
     "text": [
      "/Users/paolla.magalhaes/miniforge3/envs/fairness/lib/python3.8/site-packages/sklearn/linear_model/_logistic.py:444: ConvergenceWarning: lbfgs failed to converge (status=1):\n",
      "STOP: TOTAL NO. of ITERATIONS REACHED LIMIT.\n",
      "\n",
      "Increase the number of iterations (max_iter) or scale the data as shown in:\n",
      "    https://scikit-learn.org/stable/modules/preprocessing.html\n",
      "Please also refer to the documentation for alternative solver options:\n",
      "    https://scikit-learn.org/stable/modules/linear_model.html#logistic-regression\n",
      "  n_iter_i = _check_optimize_result(\n",
      "/Users/paolla.magalhaes/miniforge3/envs/fairness/lib/python3.8/site-packages/sklearn/utils/metaestimators.py:201: FutureWarning: if_delegate_has_method was deprecated in version 1.1 and will be removed in version 1.3. Use if_available instead.\n",
      "  warnings.warn(\n",
      "/Users/paolla.magalhaes/miniforge3/envs/fairness/lib/python3.8/site-packages/sklearn/linear_model/_logistic.py:444: ConvergenceWarning: lbfgs failed to converge (status=1):\n",
      "STOP: TOTAL NO. of ITERATIONS REACHED LIMIT.\n",
      "\n",
      "Increase the number of iterations (max_iter) or scale the data as shown in:\n",
      "    https://scikit-learn.org/stable/modules/preprocessing.html\n",
      "Please also refer to the documentation for alternative solver options:\n",
      "    https://scikit-learn.org/stable/modules/linear_model.html#logistic-regression\n",
      "  n_iter_i = _check_optimize_result(\n",
      "/Users/paolla.magalhaes/miniforge3/envs/fairness/lib/python3.8/site-packages/sklearn/utils/metaestimators.py:201: FutureWarning: if_delegate_has_method was deprecated in version 1.1 and will be removed in version 1.3. Use if_available instead.\n",
      "  warnings.warn(\n",
      "/Users/paolla.magalhaes/miniforge3/envs/fairness/lib/python3.8/site-packages/sklearn/linear_model/_logistic.py:444: ConvergenceWarning: lbfgs failed to converge (status=1):\n",
      "STOP: TOTAL NO. of ITERATIONS REACHED LIMIT.\n",
      "\n",
      "Increase the number of iterations (max_iter) or scale the data as shown in:\n",
      "    https://scikit-learn.org/stable/modules/preprocessing.html\n",
      "Please also refer to the documentation for alternative solver options:\n",
      "    https://scikit-learn.org/stable/modules/linear_model.html#logistic-regression\n",
      "  n_iter_i = _check_optimize_result(\n",
      "/Users/paolla.magalhaes/miniforge3/envs/fairness/lib/python3.8/site-packages/sklearn/utils/metaestimators.py:201: FutureWarning: if_delegate_has_method was deprecated in version 1.1 and will be removed in version 1.3. Use if_available instead.\n",
      "  warnings.warn(\n",
      "/Users/paolla.magalhaes/miniforge3/envs/fairness/lib/python3.8/site-packages/sklearn/linear_model/_logistic.py:444: ConvergenceWarning: lbfgs failed to converge (status=1):\n",
      "STOP: TOTAL NO. of ITERATIONS REACHED LIMIT.\n",
      "\n",
      "Increase the number of iterations (max_iter) or scale the data as shown in:\n",
      "    https://scikit-learn.org/stable/modules/preprocessing.html\n",
      "Please also refer to the documentation for alternative solver options:\n",
      "    https://scikit-learn.org/stable/modules/linear_model.html#logistic-regression\n",
      "  n_iter_i = _check_optimize_result(\n",
      "/Users/paolla.magalhaes/miniforge3/envs/fairness/lib/python3.8/site-packages/sklearn/utils/metaestimators.py:201: FutureWarning: if_delegate_has_method was deprecated in version 1.1 and will be removed in version 1.3. Use if_available instead.\n",
      "  warnings.warn(\n",
      "/Users/paolla.magalhaes/miniforge3/envs/fairness/lib/python3.8/site-packages/sklearn/linear_model/_logistic.py:444: ConvergenceWarning: lbfgs failed to converge (status=1):\n",
      "STOP: TOTAL NO. of ITERATIONS REACHED LIMIT.\n",
      "\n",
      "Increase the number of iterations (max_iter) or scale the data as shown in:\n",
      "    https://scikit-learn.org/stable/modules/preprocessing.html\n",
      "Please also refer to the documentation for alternative solver options:\n",
      "    https://scikit-learn.org/stable/modules/linear_model.html#logistic-regression\n",
      "  n_iter_i = _check_optimize_result(\n",
      "/Users/paolla.magalhaes/miniforge3/envs/fairness/lib/python3.8/site-packages/sklearn/utils/metaestimators.py:201: FutureWarning: if_delegate_has_method was deprecated in version 1.1 and will be removed in version 1.3. Use if_available instead.\n",
      "  warnings.warn(\n",
      "/Users/paolla.magalhaes/miniforge3/envs/fairness/lib/python3.8/site-packages/sklearn/linear_model/_logistic.py:444: ConvergenceWarning: lbfgs failed to converge (status=1):\n",
      "STOP: TOTAL NO. of ITERATIONS REACHED LIMIT.\n",
      "\n",
      "Increase the number of iterations (max_iter) or scale the data as shown in:\n",
      "    https://scikit-learn.org/stable/modules/preprocessing.html\n",
      "Please also refer to the documentation for alternative solver options:\n",
      "    https://scikit-learn.org/stable/modules/linear_model.html#logistic-regression\n",
      "  n_iter_i = _check_optimize_result(\n"
     ]
    },
    {
     "data": {
      "text/html": [
       "<style>#sk-container-id-7 {color: black;background-color: white;}#sk-container-id-7 pre{padding: 0;}#sk-container-id-7 div.sk-toggleable {background-color: white;}#sk-container-id-7 label.sk-toggleable__label {cursor: pointer;display: block;width: 100%;margin-bottom: 0;padding: 0.3em;box-sizing: border-box;text-align: center;}#sk-container-id-7 label.sk-toggleable__label-arrow:before {content: \"▸\";float: left;margin-right: 0.25em;color: #696969;}#sk-container-id-7 label.sk-toggleable__label-arrow:hover:before {color: black;}#sk-container-id-7 div.sk-estimator:hover label.sk-toggleable__label-arrow:before {color: black;}#sk-container-id-7 div.sk-toggleable__content {max-height: 0;max-width: 0;overflow: hidden;text-align: left;background-color: #f0f8ff;}#sk-container-id-7 div.sk-toggleable__content pre {margin: 0.2em;color: black;border-radius: 0.25em;background-color: #f0f8ff;}#sk-container-id-7 input.sk-toggleable__control:checked~div.sk-toggleable__content {max-height: 200px;max-width: 100%;overflow: auto;}#sk-container-id-7 input.sk-toggleable__control:checked~label.sk-toggleable__label-arrow:before {content: \"▾\";}#sk-container-id-7 div.sk-estimator input.sk-toggleable__control:checked~label.sk-toggleable__label {background-color: #d4ebff;}#sk-container-id-7 div.sk-label input.sk-toggleable__control:checked~label.sk-toggleable__label {background-color: #d4ebff;}#sk-container-id-7 input.sk-hidden--visually {border: 0;clip: rect(1px 1px 1px 1px);clip: rect(1px, 1px, 1px, 1px);height: 1px;margin: -1px;overflow: hidden;padding: 0;position: absolute;width: 1px;}#sk-container-id-7 div.sk-estimator {font-family: monospace;background-color: #f0f8ff;border: 1px dotted black;border-radius: 0.25em;box-sizing: border-box;margin-bottom: 0.5em;}#sk-container-id-7 div.sk-estimator:hover {background-color: #d4ebff;}#sk-container-id-7 div.sk-parallel-item::after {content: \"\";width: 100%;border-bottom: 1px solid gray;flex-grow: 1;}#sk-container-id-7 div.sk-label:hover label.sk-toggleable__label {background-color: #d4ebff;}#sk-container-id-7 div.sk-serial::before {content: \"\";position: absolute;border-left: 1px solid gray;box-sizing: border-box;top: 0;bottom: 0;left: 50%;z-index: 0;}#sk-container-id-7 div.sk-serial {display: flex;flex-direction: column;align-items: center;background-color: white;padding-right: 0.2em;padding-left: 0.2em;position: relative;}#sk-container-id-7 div.sk-item {position: relative;z-index: 1;}#sk-container-id-7 div.sk-parallel {display: flex;align-items: stretch;justify-content: center;background-color: white;position: relative;}#sk-container-id-7 div.sk-item::before, #sk-container-id-7 div.sk-parallel-item::before {content: \"\";position: absolute;border-left: 1px solid gray;box-sizing: border-box;top: 0;bottom: 0;left: 50%;z-index: -1;}#sk-container-id-7 div.sk-parallel-item {display: flex;flex-direction: column;z-index: 1;position: relative;background-color: white;}#sk-container-id-7 div.sk-parallel-item:first-child::after {align-self: flex-end;width: 50%;}#sk-container-id-7 div.sk-parallel-item:last-child::after {align-self: flex-start;width: 50%;}#sk-container-id-7 div.sk-parallel-item:only-child::after {width: 0;}#sk-container-id-7 div.sk-dashed-wrapped {border: 1px dashed gray;margin: 0 0.4em 0.5em 0.4em;box-sizing: border-box;padding-bottom: 0.4em;background-color: white;}#sk-container-id-7 div.sk-label label {font-family: monospace;font-weight: bold;display: inline-block;line-height: 1.2em;}#sk-container-id-7 div.sk-label-container {text-align: center;}#sk-container-id-7 div.sk-container {/* jupyter's `normalize.less` sets `[hidden] { display: none; }` but bootstrap.min.css set `[hidden] { display: none !important; }` so we also need the `!important` here to be able to override the default hidden behavior on the sphinx rendered scikit-learn.org. See: https://github.com/scikit-learn/scikit-learn/issues/21755 */display: inline-block !important;position: relative;}#sk-container-id-7 div.sk-text-repr-fallback {display: none;}</style><div id=\"sk-container-id-7\" class=\"sk-top-container\"><div class=\"sk-text-repr-fallback\"><pre>GridSearchCV(cv=5, estimator=ReweighingMeta(estimator=LogisticRegression()),\n",
       "             param_grid={&#x27;estimator__random_state&#x27;: [1234567],\n",
       "                         &#x27;estimator__solver&#x27;: [&#x27;lbfgs&#x27;],\n",
       "                         &#x27;reweigher__prot_attr&#x27;: [&#x27;sex&#x27;]},\n",
       "             scoring=&#x27;accuracy&#x27;)</pre><b>In a Jupyter environment, please rerun this cell to show the HTML representation or trust the notebook. <br />On GitHub, the HTML representation is unable to render, please try loading this page with nbviewer.org.</b></div><div class=\"sk-container\" hidden><div class=\"sk-item sk-dashed-wrapped\"><div class=\"sk-label-container\"><div class=\"sk-label sk-toggleable\"><input class=\"sk-toggleable__control sk-hidden--visually\" id=\"sk-estimator-id-31\" type=\"checkbox\" ><label for=\"sk-estimator-id-31\" class=\"sk-toggleable__label sk-toggleable__label-arrow\">GridSearchCV</label><div class=\"sk-toggleable__content\"><pre>GridSearchCV(cv=5, estimator=ReweighingMeta(estimator=LogisticRegression()),\n",
       "             param_grid={&#x27;estimator__random_state&#x27;: [1234567],\n",
       "                         &#x27;estimator__solver&#x27;: [&#x27;lbfgs&#x27;],\n",
       "                         &#x27;reweigher__prot_attr&#x27;: [&#x27;sex&#x27;]},\n",
       "             scoring=&#x27;accuracy&#x27;)</pre></div></div></div><div class=\"sk-parallel\"><div class=\"sk-parallel-item\"><div class=\"sk-item\"><div class=\"sk-label-container\"><div class=\"sk-label sk-toggleable\"><input class=\"sk-toggleable__control sk-hidden--visually\" id=\"sk-estimator-id-32\" type=\"checkbox\" ><label for=\"sk-estimator-id-32\" class=\"sk-toggleable__label sk-toggleable__label-arrow\">estimator: ReweighingMeta</label><div class=\"sk-toggleable__content\"><pre>ReweighingMeta(estimator=LogisticRegression())</pre></div></div></div><div class=\"sk-serial\"><div class=\"sk-item sk-dashed-wrapped\"><div class=\"sk-parallel\"><div class=\"sk-parallel-item\"><div class=\"sk-item\"><div class=\"sk-label-container\"><div class=\"sk-label sk-toggleable\"><input class=\"sk-toggleable__control sk-hidden--visually\" id=\"sk-estimator-id-33\" type=\"checkbox\" ><label for=\"sk-estimator-id-33\" class=\"sk-toggleable__label sk-toggleable__label-arrow\">estimator: LogisticRegression</label><div class=\"sk-toggleable__content\"><pre>LogisticRegression()</pre></div></div></div><div class=\"sk-serial\"><div class=\"sk-item\"><div class=\"sk-estimator sk-toggleable\"><input class=\"sk-toggleable__control sk-hidden--visually\" id=\"sk-estimator-id-34\" type=\"checkbox\" ><label for=\"sk-estimator-id-34\" class=\"sk-toggleable__label sk-toggleable__label-arrow\">LogisticRegression</label><div class=\"sk-toggleable__content\"><pre>LogisticRegression()</pre></div></div></div></div></div></div><div class=\"sk-parallel-item\"><div class=\"sk-item\"><div class=\"sk-label-container\"><div class=\"sk-label sk-toggleable\"><input class=\"sk-toggleable__control sk-hidden--visually\" id=\"sk-estimator-id-35\" type=\"checkbox\" ><label for=\"sk-estimator-id-35\" class=\"sk-toggleable__label sk-toggleable__label-arrow\">reweigher: Reweighing</label><div class=\"sk-toggleable__content\"><pre>Reweighing()</pre></div></div></div><div class=\"sk-serial\"><div class=\"sk-item\"><div class=\"sk-estimator sk-toggleable\"><input class=\"sk-toggleable__control sk-hidden--visually\" id=\"sk-estimator-id-36\" type=\"checkbox\" ><label for=\"sk-estimator-id-36\" class=\"sk-toggleable__label sk-toggleable__label-arrow\">Reweighing</label><div class=\"sk-toggleable__content\"><pre>Reweighing()</pre></div></div></div></div></div></div></div></div></div></div></div></div></div></div></div>"
      ],
      "text/plain": [
       "GridSearchCV(cv=5, estimator=ReweighingMeta(estimator=LogisticRegression()),\n",
       "             param_grid={'estimator__random_state': [1234567],\n",
       "                         'estimator__solver': ['lbfgs'],\n",
       "                         'reweigher__prot_attr': ['sex']},\n",
       "             scoring='accuracy')"
      ]
     },
     "execution_count": 306,
     "metadata": {},
     "output_type": "execute_result"
    }
   ],
   "source": [
    "rew = ReweighingMeta(estimator=LogisticRegression())\n",
    "\n",
    "params = {'estimator__solver': ['lbfgs'], \n",
    "          'estimator__random_state': [RANDOM_STATE],\n",
    "          'reweigher__prot_attr': ['sex']}\n",
    "\n",
    "clf = GridSearchCV(rew, params, scoring='accuracy', cv=5)\n",
    "clf.fit(X_train, y_train)"
   ]
  },
  {
   "cell_type": "code",
   "execution_count": 309,
   "id": "0228d978",
   "metadata": {
    "execution": {
     "iopub.execute_input": "2022-08-01T13:54:20.360108Z",
     "iopub.status.busy": "2022-08-01T13:54:20.359763Z",
     "iopub.status.idle": "2022-08-01T13:54:20.366986Z",
     "shell.execute_reply": "2022-08-01T13:54:20.366107Z",
     "shell.execute_reply.started": "2022-08-01T13:54:20.360081Z"
    },
    "tags": []
   },
   "outputs": [
    {
     "name": "stderr",
     "output_type": "stream",
     "text": [
      "/Users/paolla.magalhaes/miniforge3/envs/fairness/lib/python3.8/site-packages/sklearn/utils/metaestimators.py:201: FutureWarning: if_delegate_has_method was deprecated in version 1.1 and will be removed in version 1.3. Use if_available instead.\n",
      "  warnings.warn(\n"
     ]
    }
   ],
   "source": [
    "y_pred = clf.predict(X_test)"
   ]
  },
  {
   "cell_type": "markdown",
   "id": "e2d29922",
   "metadata": {},
   "source": [
    "### Evaluate performance"
   ]
  },
  {
   "cell_type": "code",
   "execution_count": 310,
   "id": "a1b759bb",
   "metadata": {
    "execution": {
     "iopub.execute_input": "2022-08-01T13:54:20.733949Z",
     "iopub.status.busy": "2022-08-01T13:54:20.733601Z",
     "iopub.status.idle": "2022-08-01T13:54:20.757510Z",
     "shell.execute_reply": "2022-08-01T13:54:20.756760Z",
     "shell.execute_reply.started": "2022-08-01T13:54:20.733923Z"
    },
    "tags": []
   },
   "outputs": [
    {
     "data": {
      "text/html": [
       "<div>\n",
       "<style scoped>\n",
       "    .dataframe tbody tr th:only-of-type {\n",
       "        vertical-align: middle;\n",
       "    }\n",
       "\n",
       "    .dataframe tbody tr th {\n",
       "        vertical-align: top;\n",
       "    }\n",
       "\n",
       "    .dataframe thead th {\n",
       "        text-align: right;\n",
       "    }\n",
       "</style>\n",
       "<table border=\"1\" class=\"dataframe\">\n",
       "  <thead>\n",
       "    <tr style=\"text-align: right;\">\n",
       "      <th></th>\n",
       "      <th>precision</th>\n",
       "      <th>recall</th>\n",
       "      <th>f1-score</th>\n",
       "      <th>support</th>\n",
       "    </tr>\n",
       "  </thead>\n",
       "  <tbody>\n",
       "    <tr>\n",
       "      <th>0</th>\n",
       "      <td>0.860998</td>\n",
       "      <td>0.925172</td>\n",
       "      <td>0.891932</td>\n",
       "      <td>6829.00000</td>\n",
       "    </tr>\n",
       "    <tr>\n",
       "      <th>1</th>\n",
       "      <td>0.701344</td>\n",
       "      <td>0.540541</td>\n",
       "      <td>0.610532</td>\n",
       "      <td>2220.00000</td>\n",
       "    </tr>\n",
       "    <tr>\n",
       "      <th>accuracy</th>\n",
       "      <td>0.830810</td>\n",
       "      <td>0.830810</td>\n",
       "      <td>0.830810</td>\n",
       "      <td>0.83081</td>\n",
       "    </tr>\n",
       "    <tr>\n",
       "      <th>macro avg</th>\n",
       "      <td>0.781171</td>\n",
       "      <td>0.732856</td>\n",
       "      <td>0.751232</td>\n",
       "      <td>9049.00000</td>\n",
       "    </tr>\n",
       "    <tr>\n",
       "      <th>weighted avg</th>\n",
       "      <td>0.821830</td>\n",
       "      <td>0.830810</td>\n",
       "      <td>0.822896</td>\n",
       "      <td>9049.00000</td>\n",
       "    </tr>\n",
       "  </tbody>\n",
       "</table>\n",
       "</div>"
      ],
      "text/plain": [
       "              precision    recall  f1-score     support\n",
       "0              0.860998  0.925172  0.891932  6829.00000\n",
       "1              0.701344  0.540541  0.610532  2220.00000\n",
       "accuracy       0.830810  0.830810  0.830810     0.83081\n",
       "macro avg      0.781171  0.732856  0.751232  9049.00000\n",
       "weighted avg   0.821830  0.830810  0.822896  9049.00000"
      ]
     },
     "execution_count": 310,
     "metadata": {},
     "output_type": "execute_result"
    }
   ],
   "source": [
    "pd.DataFrame(classification_report(y_test, y_pred, output_dict=True)).T"
   ]
  },
  {
   "cell_type": "markdown",
   "id": "f97ad560",
   "metadata": {},
   "source": [
    "### Evaluate fairness"
   ]
  },
  {
   "cell_type": "code",
   "execution_count": 311,
   "id": "3f1fa40e",
   "metadata": {
    "execution": {
     "iopub.execute_input": "2022-08-01T13:54:21.145340Z",
     "iopub.status.busy": "2022-08-01T13:54:21.144994Z",
     "iopub.status.idle": "2022-08-01T13:54:21.167470Z",
     "shell.execute_reply": "2022-08-01T13:54:21.166758Z",
     "shell.execute_reply.started": "2022-08-01T13:54:21.145311Z"
    },
    "tags": []
   },
   "outputs": [
    {
     "data": {
      "text/html": [
       "<div>\n",
       "<style scoped>\n",
       "    .dataframe tbody tr th:only-of-type {\n",
       "        vertical-align: middle;\n",
       "    }\n",
       "\n",
       "    .dataframe tbody tr th {\n",
       "        vertical-align: top;\n",
       "    }\n",
       "\n",
       "    .dataframe thead th {\n",
       "        text-align: right;\n",
       "    }\n",
       "</style>\n",
       "<table border=\"1\" class=\"dataframe\">\n",
       "  <thead>\n",
       "    <tr style=\"text-align: right;\">\n",
       "      <th></th>\n",
       "      <th>sex</th>\n",
       "    </tr>\n",
       "  </thead>\n",
       "  <tbody>\n",
       "    <tr>\n",
       "      <th>average_odds_difference</th>\n",
       "      <td>0.077556</td>\n",
       "    </tr>\n",
       "    <tr>\n",
       "      <th>disparate_impact_ratio</th>\n",
       "      <td>0.671399</td>\n",
       "    </tr>\n",
       "    <tr>\n",
       "      <th>equal_opportunity_difference</th>\n",
       "      <td>0.166611</td>\n",
       "    </tr>\n",
       "    <tr>\n",
       "      <th>statistical_parity_difference</th>\n",
       "      <td>-0.069384</td>\n",
       "    </tr>\n",
       "  </tbody>\n",
       "</table>\n",
       "</div>"
      ],
      "text/plain": [
       "                                    sex\n",
       "average_odds_difference        0.077556\n",
       "disparate_impact_ratio         0.671399\n",
       "equal_opportunity_difference   0.166611\n",
       "statistical_parity_difference -0.069384"
      ]
     },
     "execution_count": 311,
     "metadata": {},
     "output_type": "execute_result"
    }
   ],
   "source": [
    "fairness_report(y_test, y_pred, prot_attr='sex')"
   ]
  },
  {
   "cell_type": "markdown",
   "id": "e3b53ec4",
   "metadata": {},
   "source": [
    "## Using Inprocessing"
   ]
  },
  {
   "cell_type": "code",
   "execution_count": 288,
   "id": "33248b6e",
   "metadata": {
    "execution": {
     "iopub.execute_input": "2022-08-01T13:51:06.238934Z",
     "iopub.status.busy": "2022-08-01T13:51:06.238592Z",
     "iopub.status.idle": "2022-08-01T13:51:06.242675Z",
     "shell.execute_reply": "2022-08-01T13:51:06.241734Z",
     "shell.execute_reply.started": "2022-08-01T13:51:06.238909Z"
    },
    "tags": []
   },
   "outputs": [],
   "source": [
    "from aif360.sklearn.inprocessing import AdversarialDebiasing"
   ]
  },
  {
   "cell_type": "code",
   "execution_count": 292,
   "id": "2e1565d1-952f-4fa5-950b-9f096f6cc5ab",
   "metadata": {
    "execution": {
     "iopub.execute_input": "2022-08-01T13:52:05.045539Z",
     "iopub.status.busy": "2022-08-01T13:52:05.045206Z",
     "iopub.status.idle": "2022-08-01T13:52:05.049277Z",
     "shell.execute_reply": "2022-08-01T13:52:05.048366Z",
     "shell.execute_reply.started": "2022-08-01T13:52:05.045515Z"
    },
    "tags": []
   },
   "outputs": [],
   "source": [
    "import tensorflow as tf\n",
    "tf.compat.v1.disable_eager_execution()"
   ]
  },
  {
   "cell_type": "code",
   "execution_count": 315,
   "id": "931163f8",
   "metadata": {
    "execution": {
     "iopub.execute_input": "2022-08-01T13:54:50.814792Z",
     "iopub.status.busy": "2022-08-01T13:54:50.814431Z",
     "iopub.status.idle": "2022-08-01T13:55:04.071210Z",
     "shell.execute_reply": "2022-08-01T13:55:04.070657Z",
     "shell.execute_reply.started": "2022-08-01T13:54:50.814765Z"
    },
    "tags": []
   },
   "outputs": [
    {
     "data": {
      "text/html": [
       "<style>#sk-container-id-8 {color: black;background-color: white;}#sk-container-id-8 pre{padding: 0;}#sk-container-id-8 div.sk-toggleable {background-color: white;}#sk-container-id-8 label.sk-toggleable__label {cursor: pointer;display: block;width: 100%;margin-bottom: 0;padding: 0.3em;box-sizing: border-box;text-align: center;}#sk-container-id-8 label.sk-toggleable__label-arrow:before {content: \"▸\";float: left;margin-right: 0.25em;color: #696969;}#sk-container-id-8 label.sk-toggleable__label-arrow:hover:before {color: black;}#sk-container-id-8 div.sk-estimator:hover label.sk-toggleable__label-arrow:before {color: black;}#sk-container-id-8 div.sk-toggleable__content {max-height: 0;max-width: 0;overflow: hidden;text-align: left;background-color: #f0f8ff;}#sk-container-id-8 div.sk-toggleable__content pre {margin: 0.2em;color: black;border-radius: 0.25em;background-color: #f0f8ff;}#sk-container-id-8 input.sk-toggleable__control:checked~div.sk-toggleable__content {max-height: 200px;max-width: 100%;overflow: auto;}#sk-container-id-8 input.sk-toggleable__control:checked~label.sk-toggleable__label-arrow:before {content: \"▾\";}#sk-container-id-8 div.sk-estimator input.sk-toggleable__control:checked~label.sk-toggleable__label {background-color: #d4ebff;}#sk-container-id-8 div.sk-label input.sk-toggleable__control:checked~label.sk-toggleable__label {background-color: #d4ebff;}#sk-container-id-8 input.sk-hidden--visually {border: 0;clip: rect(1px 1px 1px 1px);clip: rect(1px, 1px, 1px, 1px);height: 1px;margin: -1px;overflow: hidden;padding: 0;position: absolute;width: 1px;}#sk-container-id-8 div.sk-estimator {font-family: monospace;background-color: #f0f8ff;border: 1px dotted black;border-radius: 0.25em;box-sizing: border-box;margin-bottom: 0.5em;}#sk-container-id-8 div.sk-estimator:hover {background-color: #d4ebff;}#sk-container-id-8 div.sk-parallel-item::after {content: \"\";width: 100%;border-bottom: 1px solid gray;flex-grow: 1;}#sk-container-id-8 div.sk-label:hover label.sk-toggleable__label {background-color: #d4ebff;}#sk-container-id-8 div.sk-serial::before {content: \"\";position: absolute;border-left: 1px solid gray;box-sizing: border-box;top: 0;bottom: 0;left: 50%;z-index: 0;}#sk-container-id-8 div.sk-serial {display: flex;flex-direction: column;align-items: center;background-color: white;padding-right: 0.2em;padding-left: 0.2em;position: relative;}#sk-container-id-8 div.sk-item {position: relative;z-index: 1;}#sk-container-id-8 div.sk-parallel {display: flex;align-items: stretch;justify-content: center;background-color: white;position: relative;}#sk-container-id-8 div.sk-item::before, #sk-container-id-8 div.sk-parallel-item::before {content: \"\";position: absolute;border-left: 1px solid gray;box-sizing: border-box;top: 0;bottom: 0;left: 50%;z-index: -1;}#sk-container-id-8 div.sk-parallel-item {display: flex;flex-direction: column;z-index: 1;position: relative;background-color: white;}#sk-container-id-8 div.sk-parallel-item:first-child::after {align-self: flex-end;width: 50%;}#sk-container-id-8 div.sk-parallel-item:last-child::after {align-self: flex-start;width: 50%;}#sk-container-id-8 div.sk-parallel-item:only-child::after {width: 0;}#sk-container-id-8 div.sk-dashed-wrapped {border: 1px dashed gray;margin: 0 0.4em 0.5em 0.4em;box-sizing: border-box;padding-bottom: 0.4em;background-color: white;}#sk-container-id-8 div.sk-label label {font-family: monospace;font-weight: bold;display: inline-block;line-height: 1.2em;}#sk-container-id-8 div.sk-label-container {text-align: center;}#sk-container-id-8 div.sk-container {/* jupyter's `normalize.less` sets `[hidden] { display: none; }` but bootstrap.min.css set `[hidden] { display: none !important; }` so we also need the `!important` here to be able to override the default hidden behavior on the sphinx rendered scikit-learn.org. See: https://github.com/scikit-learn/scikit-learn/issues/21755 */display: inline-block !important;position: relative;}#sk-container-id-8 div.sk-text-repr-fallback {display: none;}</style><div id=\"sk-container-id-8\" class=\"sk-top-container\"><div class=\"sk-text-repr-fallback\"><pre>AdversarialDebiasing(prot_attr=&#x27;sex&#x27;, random_state=1234567)</pre><b>In a Jupyter environment, please rerun this cell to show the HTML representation or trust the notebook. <br />On GitHub, the HTML representation is unable to render, please try loading this page with nbviewer.org.</b></div><div class=\"sk-container\" hidden><div class=\"sk-item\"><div class=\"sk-estimator sk-toggleable\"><input class=\"sk-toggleable__control sk-hidden--visually\" id=\"sk-estimator-id-37\" type=\"checkbox\" checked><label for=\"sk-estimator-id-37\" class=\"sk-toggleable__label sk-toggleable__label-arrow\">AdversarialDebiasing</label><div class=\"sk-toggleable__content\"><pre>AdversarialDebiasing(prot_attr=&#x27;sex&#x27;, random_state=1234567)</pre></div></div></div></div></div>"
      ],
      "text/plain": [
       "AdversarialDebiasing(prot_attr='sex', random_state=1234567)"
      ]
     },
     "execution_count": 315,
     "metadata": {},
     "output_type": "execute_result"
    }
   ],
   "source": [
    "adv_deb = AdversarialDebiasing(prot_attr='sex', random_state=RANDOM_STATE)\n",
    "adv_deb.fit(X_train, y_train)"
   ]
  },
  {
   "cell_type": "code",
   "execution_count": 316,
   "id": "3af4b7dc",
   "metadata": {
    "execution": {
     "iopub.execute_input": "2022-08-01T13:55:04.072910Z",
     "iopub.status.busy": "2022-08-01T13:55:04.072654Z",
     "iopub.status.idle": "2022-08-01T13:55:04.161815Z",
     "shell.execute_reply": "2022-08-01T13:55:04.161082Z",
     "shell.execute_reply.started": "2022-08-01T13:55:04.072891Z"
    },
    "tags": []
   },
   "outputs": [],
   "source": [
    "y_pred = adv_deb.predict(X_test)"
   ]
  },
  {
   "cell_type": "markdown",
   "id": "62e2e3b2",
   "metadata": {},
   "source": [
    "### Evaluate performance"
   ]
  },
  {
   "cell_type": "code",
   "execution_count": 295,
   "id": "112771e0",
   "metadata": {
    "execution": {
     "iopub.execute_input": "2022-08-01T13:52:22.596080Z",
     "iopub.status.busy": "2022-08-01T13:52:22.595735Z",
     "iopub.status.idle": "2022-08-01T13:52:22.619422Z",
     "shell.execute_reply": "2022-08-01T13:52:22.618668Z",
     "shell.execute_reply.started": "2022-08-01T13:52:22.596054Z"
    }
   },
   "outputs": [
    {
     "data": {
      "text/html": [
       "<div>\n",
       "<style scoped>\n",
       "    .dataframe tbody tr th:only-of-type {\n",
       "        vertical-align: middle;\n",
       "    }\n",
       "\n",
       "    .dataframe tbody tr th {\n",
       "        vertical-align: top;\n",
       "    }\n",
       "\n",
       "    .dataframe thead th {\n",
       "        text-align: right;\n",
       "    }\n",
       "</style>\n",
       "<table border=\"1\" class=\"dataframe\">\n",
       "  <thead>\n",
       "    <tr style=\"text-align: right;\">\n",
       "      <th></th>\n",
       "      <th>precision</th>\n",
       "      <th>recall</th>\n",
       "      <th>f1-score</th>\n",
       "      <th>support</th>\n",
       "    </tr>\n",
       "  </thead>\n",
       "  <tbody>\n",
       "    <tr>\n",
       "      <th>0</th>\n",
       "      <td>0.848922</td>\n",
       "      <td>0.956948</td>\n",
       "      <td>0.899704</td>\n",
       "      <td>6829.000000</td>\n",
       "    </tr>\n",
       "    <tr>\n",
       "      <th>1</th>\n",
       "      <td>0.782383</td>\n",
       "      <td>0.476126</td>\n",
       "      <td>0.591991</td>\n",
       "      <td>2220.000000</td>\n",
       "    </tr>\n",
       "    <tr>\n",
       "      <th>accuracy</th>\n",
       "      <td>0.838988</td>\n",
       "      <td>0.838988</td>\n",
       "      <td>0.838988</td>\n",
       "      <td>0.838988</td>\n",
       "    </tr>\n",
       "    <tr>\n",
       "      <th>macro avg</th>\n",
       "      <td>0.815653</td>\n",
       "      <td>0.716537</td>\n",
       "      <td>0.745848</td>\n",
       "      <td>9049.000000</td>\n",
       "    </tr>\n",
       "    <tr>\n",
       "      <th>weighted avg</th>\n",
       "      <td>0.832598</td>\n",
       "      <td>0.838988</td>\n",
       "      <td>0.824212</td>\n",
       "      <td>9049.000000</td>\n",
       "    </tr>\n",
       "  </tbody>\n",
       "</table>\n",
       "</div>"
      ],
      "text/plain": [
       "              precision    recall  f1-score      support\n",
       "0              0.848922  0.956948  0.899704  6829.000000\n",
       "1              0.782383  0.476126  0.591991  2220.000000\n",
       "accuracy       0.838988  0.838988  0.838988     0.838988\n",
       "macro avg      0.815653  0.716537  0.745848  9049.000000\n",
       "weighted avg   0.832598  0.838988  0.824212  9049.000000"
      ]
     },
     "execution_count": 295,
     "metadata": {},
     "output_type": "execute_result"
    }
   ],
   "source": [
    "pd.DataFrame(classification_report(y_test, y_pred, output_dict=True)).T"
   ]
  },
  {
   "cell_type": "markdown",
   "id": "a04fa5f6",
   "metadata": {},
   "source": [
    "### Evaluate fairness "
   ]
  },
  {
   "cell_type": "code",
   "execution_count": 296,
   "id": "d5c15287",
   "metadata": {
    "execution": {
     "iopub.execute_input": "2022-08-01T13:52:24.262739Z",
     "iopub.status.busy": "2022-08-01T13:52:24.262387Z",
     "iopub.status.idle": "2022-08-01T13:52:24.286291Z",
     "shell.execute_reply": "2022-08-01T13:52:24.285547Z",
     "shell.execute_reply.started": "2022-08-01T13:52:24.262713Z"
    },
    "tags": []
   },
   "outputs": [
    {
     "data": {
      "text/html": [
       "<div>\n",
       "<style scoped>\n",
       "    .dataframe tbody tr th:only-of-type {\n",
       "        vertical-align: middle;\n",
       "    }\n",
       "\n",
       "    .dataframe tbody tr th {\n",
       "        vertical-align: top;\n",
       "    }\n",
       "\n",
       "    .dataframe thead th {\n",
       "        text-align: right;\n",
       "    }\n",
       "</style>\n",
       "<table border=\"1\" class=\"dataframe\">\n",
       "  <thead>\n",
       "    <tr style=\"text-align: right;\">\n",
       "      <th></th>\n",
       "      <th>sex</th>\n",
       "    </tr>\n",
       "  </thead>\n",
       "  <tbody>\n",
       "    <tr>\n",
       "      <th>average_odds_difference</th>\n",
       "      <td>0.139911</td>\n",
       "    </tr>\n",
       "    <tr>\n",
       "      <th>disparate_impact_ratio</th>\n",
       "      <td>0.832998</td>\n",
       "    </tr>\n",
       "    <tr>\n",
       "      <th>equal_opportunity_difference</th>\n",
       "      <td>0.263447</td>\n",
       "    </tr>\n",
       "    <tr>\n",
       "      <th>statistical_parity_difference</th>\n",
       "      <td>-0.026332</td>\n",
       "    </tr>\n",
       "  </tbody>\n",
       "</table>\n",
       "</div>"
      ],
      "text/plain": [
       "                                    sex\n",
       "average_odds_difference        0.139911\n",
       "disparate_impact_ratio         0.832998\n",
       "equal_opportunity_difference   0.263447\n",
       "statistical_parity_difference -0.026332"
      ]
     },
     "execution_count": 296,
     "metadata": {},
     "output_type": "execute_result"
    }
   ],
   "source": [
    "fairness_report(y_test, y_pred, prot_attr='sex')"
   ]
  },
  {
   "cell_type": "markdown",
   "id": "55fb4e32",
   "metadata": {},
   "source": [
    "## Using Postprocessing"
   ]
  },
  {
   "cell_type": "code",
   "execution_count": 299,
   "id": "923c045d",
   "metadata": {
    "execution": {
     "iopub.execute_input": "2022-08-01T13:52:43.975515Z",
     "iopub.status.busy": "2022-08-01T13:52:43.975116Z",
     "iopub.status.idle": "2022-08-01T13:52:43.982947Z",
     "shell.execute_reply": "2022-08-01T13:52:43.982209Z",
     "shell.execute_reply.started": "2022-08-01T13:52:43.975483Z"
    }
   },
   "outputs": [],
   "source": [
    "from aif360.sklearn.postprocessing import CalibratedEqualizedOdds, PostProcessingMeta"
   ]
  },
  {
   "cell_type": "code",
   "execution_count": 300,
   "id": "6b278554",
   "metadata": {
    "execution": {
     "iopub.execute_input": "2022-08-01T13:52:45.316066Z",
     "iopub.status.busy": "2022-08-01T13:52:45.315690Z",
     "iopub.status.idle": "2022-08-01T13:52:45.471918Z",
     "shell.execute_reply": "2022-08-01T13:52:45.471197Z",
     "shell.execute_reply.started": "2022-08-01T13:52:45.316039Z"
    }
   },
   "outputs": [
    {
     "name": "stderr",
     "output_type": "stream",
     "text": [
      "/Users/paolla.magalhaes/miniforge3/envs/fairness/lib/python3.8/site-packages/sklearn/linear_model/_logistic.py:444: ConvergenceWarning: lbfgs failed to converge (status=1):\n",
      "STOP: TOTAL NO. of ITERATIONS REACHED LIMIT.\n",
      "\n",
      "Increase the number of iterations (max_iter) or scale the data as shown in:\n",
      "    https://scikit-learn.org/stable/modules/preprocessing.html\n",
      "Please also refer to the documentation for alternative solver options:\n",
      "    https://scikit-learn.org/stable/modules/linear_model.html#logistic-regression\n",
      "  n_iter_i = _check_optimize_result(\n"
     ]
    },
    {
     "data": {
      "text/html": [
       "<style>#sk-container-id-6 {color: black;background-color: white;}#sk-container-id-6 pre{padding: 0;}#sk-container-id-6 div.sk-toggleable {background-color: white;}#sk-container-id-6 label.sk-toggleable__label {cursor: pointer;display: block;width: 100%;margin-bottom: 0;padding: 0.3em;box-sizing: border-box;text-align: center;}#sk-container-id-6 label.sk-toggleable__label-arrow:before {content: \"▸\";float: left;margin-right: 0.25em;color: #696969;}#sk-container-id-6 label.sk-toggleable__label-arrow:hover:before {color: black;}#sk-container-id-6 div.sk-estimator:hover label.sk-toggleable__label-arrow:before {color: black;}#sk-container-id-6 div.sk-toggleable__content {max-height: 0;max-width: 0;overflow: hidden;text-align: left;background-color: #f0f8ff;}#sk-container-id-6 div.sk-toggleable__content pre {margin: 0.2em;color: black;border-radius: 0.25em;background-color: #f0f8ff;}#sk-container-id-6 input.sk-toggleable__control:checked~div.sk-toggleable__content {max-height: 200px;max-width: 100%;overflow: auto;}#sk-container-id-6 input.sk-toggleable__control:checked~label.sk-toggleable__label-arrow:before {content: \"▾\";}#sk-container-id-6 div.sk-estimator input.sk-toggleable__control:checked~label.sk-toggleable__label {background-color: #d4ebff;}#sk-container-id-6 div.sk-label input.sk-toggleable__control:checked~label.sk-toggleable__label {background-color: #d4ebff;}#sk-container-id-6 input.sk-hidden--visually {border: 0;clip: rect(1px 1px 1px 1px);clip: rect(1px, 1px, 1px, 1px);height: 1px;margin: -1px;overflow: hidden;padding: 0;position: absolute;width: 1px;}#sk-container-id-6 div.sk-estimator {font-family: monospace;background-color: #f0f8ff;border: 1px dotted black;border-radius: 0.25em;box-sizing: border-box;margin-bottom: 0.5em;}#sk-container-id-6 div.sk-estimator:hover {background-color: #d4ebff;}#sk-container-id-6 div.sk-parallel-item::after {content: \"\";width: 100%;border-bottom: 1px solid gray;flex-grow: 1;}#sk-container-id-6 div.sk-label:hover label.sk-toggleable__label {background-color: #d4ebff;}#sk-container-id-6 div.sk-serial::before {content: \"\";position: absolute;border-left: 1px solid gray;box-sizing: border-box;top: 0;bottom: 0;left: 50%;z-index: 0;}#sk-container-id-6 div.sk-serial {display: flex;flex-direction: column;align-items: center;background-color: white;padding-right: 0.2em;padding-left: 0.2em;position: relative;}#sk-container-id-6 div.sk-item {position: relative;z-index: 1;}#sk-container-id-6 div.sk-parallel {display: flex;align-items: stretch;justify-content: center;background-color: white;position: relative;}#sk-container-id-6 div.sk-item::before, #sk-container-id-6 div.sk-parallel-item::before {content: \"\";position: absolute;border-left: 1px solid gray;box-sizing: border-box;top: 0;bottom: 0;left: 50%;z-index: -1;}#sk-container-id-6 div.sk-parallel-item {display: flex;flex-direction: column;z-index: 1;position: relative;background-color: white;}#sk-container-id-6 div.sk-parallel-item:first-child::after {align-self: flex-end;width: 50%;}#sk-container-id-6 div.sk-parallel-item:last-child::after {align-self: flex-start;width: 50%;}#sk-container-id-6 div.sk-parallel-item:only-child::after {width: 0;}#sk-container-id-6 div.sk-dashed-wrapped {border: 1px dashed gray;margin: 0 0.4em 0.5em 0.4em;box-sizing: border-box;padding-bottom: 0.4em;background-color: white;}#sk-container-id-6 div.sk-label label {font-family: monospace;font-weight: bold;display: inline-block;line-height: 1.2em;}#sk-container-id-6 div.sk-label-container {text-align: center;}#sk-container-id-6 div.sk-container {/* jupyter's `normalize.less` sets `[hidden] { display: none; }` but bootstrap.min.css set `[hidden] { display: none !important; }` so we also need the `!important` here to be able to override the default hidden behavior on the sphinx rendered scikit-learn.org. See: https://github.com/scikit-learn/scikit-learn/issues/21755 */display: inline-block !important;position: relative;}#sk-container-id-6 div.sk-text-repr-fallback {display: none;}</style><div id=\"sk-container-id-6\" class=\"sk-top-container\"><div class=\"sk-text-repr-fallback\"><pre>PostProcessingMeta(estimator=LogisticRegression(),\n",
       "                   postprocessor=CalibratedEqualizedOdds(cost_constraint=&#x27;fnr&#x27;,\n",
       "                                                         prot_attr=&#x27;sex&#x27;,\n",
       "                                                         random_state=1234567))</pre><b>In a Jupyter environment, please rerun this cell to show the HTML representation or trust the notebook. <br />On GitHub, the HTML representation is unable to render, please try loading this page with nbviewer.org.</b></div><div class=\"sk-container\" hidden><div class=\"sk-item sk-dashed-wrapped\"><div class=\"sk-label-container\"><div class=\"sk-label sk-toggleable\"><input class=\"sk-toggleable__control sk-hidden--visually\" id=\"sk-estimator-id-26\" type=\"checkbox\" ><label for=\"sk-estimator-id-26\" class=\"sk-toggleable__label sk-toggleable__label-arrow\">PostProcessingMeta</label><div class=\"sk-toggleable__content\"><pre>PostProcessingMeta(estimator=LogisticRegression(),\n",
       "                   postprocessor=CalibratedEqualizedOdds(cost_constraint=&#x27;fnr&#x27;,\n",
       "                                                         prot_attr=&#x27;sex&#x27;,\n",
       "                                                         random_state=1234567))</pre></div></div></div><div class=\"sk-parallel\"><div class=\"sk-parallel-item\"><div class=\"sk-item\"><div class=\"sk-label-container\"><div class=\"sk-label sk-toggleable\"><input class=\"sk-toggleable__control sk-hidden--visually\" id=\"sk-estimator-id-27\" type=\"checkbox\" ><label for=\"sk-estimator-id-27\" class=\"sk-toggleable__label sk-toggleable__label-arrow\">estimator: LogisticRegression</label><div class=\"sk-toggleable__content\"><pre>LogisticRegression()</pre></div></div></div><div class=\"sk-serial\"><div class=\"sk-item\"><div class=\"sk-estimator sk-toggleable\"><input class=\"sk-toggleable__control sk-hidden--visually\" id=\"sk-estimator-id-28\" type=\"checkbox\" ><label for=\"sk-estimator-id-28\" class=\"sk-toggleable__label sk-toggleable__label-arrow\">LogisticRegression</label><div class=\"sk-toggleable__content\"><pre>LogisticRegression()</pre></div></div></div></div></div></div><div class=\"sk-parallel-item\"><div class=\"sk-item\"><div class=\"sk-label-container\"><div class=\"sk-label sk-toggleable\"><input class=\"sk-toggleable__control sk-hidden--visually\" id=\"sk-estimator-id-29\" type=\"checkbox\" ><label for=\"sk-estimator-id-29\" class=\"sk-toggleable__label sk-toggleable__label-arrow\">postprocessor: CalibratedEqualizedOdds</label><div class=\"sk-toggleable__content\"><pre>CalibratedEqualizedOdds(cost_constraint=&#x27;fnr&#x27;, prot_attr=&#x27;sex&#x27;,\n",
       "                        random_state=1234567)</pre></div></div></div><div class=\"sk-serial\"><div class=\"sk-item\"><div class=\"sk-estimator sk-toggleable\"><input class=\"sk-toggleable__control sk-hidden--visually\" id=\"sk-estimator-id-30\" type=\"checkbox\" ><label for=\"sk-estimator-id-30\" class=\"sk-toggleable__label sk-toggleable__label-arrow\">CalibratedEqualizedOdds</label><div class=\"sk-toggleable__content\"><pre>CalibratedEqualizedOdds(cost_constraint=&#x27;fnr&#x27;, prot_attr=&#x27;sex&#x27;,\n",
       "                        random_state=1234567)</pre></div></div></div></div></div></div></div></div></div></div>"
      ],
      "text/plain": [
       "PostProcessingMeta(estimator=LogisticRegression(),\n",
       "                   postprocessor=CalibratedEqualizedOdds(cost_constraint='fnr',\n",
       "                                                         prot_attr='sex',\n",
       "                                                         random_state=1234567))"
      ]
     },
     "execution_count": 300,
     "metadata": {},
     "output_type": "execute_result"
    }
   ],
   "source": [
    "cal_eq_odds = CalibratedEqualizedOdds('sex', cost_constraint='fnr', random_state=1234567)\n",
    "postproc = PostProcessingMeta(estimator=estimator, postprocessor=cal_eq_odds, random_state=1234567)\n",
    "\n",
    "postproc.fit(X_train, y_train)"
   ]
  },
  {
   "cell_type": "code",
   "execution_count": 301,
   "id": "b8bae811",
   "metadata": {
    "execution": {
     "iopub.execute_input": "2022-08-01T13:52:47.453343Z",
     "iopub.status.busy": "2022-08-01T13:52:47.452953Z",
     "iopub.status.idle": "2022-08-01T13:52:47.515870Z",
     "shell.execute_reply": "2022-08-01T13:52:47.515068Z",
     "shell.execute_reply.started": "2022-08-01T13:52:47.453311Z"
    }
   },
   "outputs": [
    {
     "name": "stderr",
     "output_type": "stream",
     "text": [
      "/Users/paolla.magalhaes/miniforge3/envs/fairness/lib/python3.8/site-packages/sklearn/utils/metaestimators.py:201: FutureWarning: if_delegate_has_method was deprecated in version 1.1 and will be removed in version 1.3. Use if_available instead.\n",
      "  warnings.warn(\n"
     ]
    }
   ],
   "source": [
    "y_pred = postproc.predict(X_test)"
   ]
  },
  {
   "cell_type": "markdown",
   "id": "48da0afe",
   "metadata": {},
   "source": [
    "### Evaluate performance"
   ]
  },
  {
   "cell_type": "code",
   "execution_count": 303,
   "id": "01a60f1a",
   "metadata": {
    "execution": {
     "iopub.execute_input": "2022-08-01T13:53:15.234973Z",
     "iopub.status.busy": "2022-08-01T13:53:15.234621Z",
     "iopub.status.idle": "2022-08-01T13:53:15.259329Z",
     "shell.execute_reply": "2022-08-01T13:53:15.258505Z",
     "shell.execute_reply.started": "2022-08-01T13:53:15.234947Z"
    },
    "tags": []
   },
   "outputs": [
    {
     "data": {
      "text/html": [
       "<div>\n",
       "<style scoped>\n",
       "    .dataframe tbody tr th:only-of-type {\n",
       "        vertical-align: middle;\n",
       "    }\n",
       "\n",
       "    .dataframe tbody tr th {\n",
       "        vertical-align: top;\n",
       "    }\n",
       "\n",
       "    .dataframe thead th {\n",
       "        text-align: right;\n",
       "    }\n",
       "</style>\n",
       "<table border=\"1\" class=\"dataframe\">\n",
       "  <thead>\n",
       "    <tr style=\"text-align: right;\">\n",
       "      <th></th>\n",
       "      <th>precision</th>\n",
       "      <th>recall</th>\n",
       "      <th>f1-score</th>\n",
       "      <th>support</th>\n",
       "    </tr>\n",
       "  </thead>\n",
       "  <tbody>\n",
       "    <tr>\n",
       "      <th>0</th>\n",
       "      <td>0.816401</td>\n",
       "      <td>0.951970</td>\n",
       "      <td>0.878989</td>\n",
       "      <td>6829.000000</td>\n",
       "    </tr>\n",
       "    <tr>\n",
       "      <th>1</th>\n",
       "      <td>0.697974</td>\n",
       "      <td>0.341441</td>\n",
       "      <td>0.458560</td>\n",
       "      <td>2220.000000</td>\n",
       "    </tr>\n",
       "    <tr>\n",
       "      <th>accuracy</th>\n",
       "      <td>0.802188</td>\n",
       "      <td>0.802188</td>\n",
       "      <td>0.802188</td>\n",
       "      <td>0.802188</td>\n",
       "    </tr>\n",
       "    <tr>\n",
       "      <th>macro avg</th>\n",
       "      <td>0.757188</td>\n",
       "      <td>0.646705</td>\n",
       "      <td>0.668774</td>\n",
       "      <td>9049.000000</td>\n",
       "    </tr>\n",
       "    <tr>\n",
       "      <th>weighted avg</th>\n",
       "      <td>0.787347</td>\n",
       "      <td>0.802188</td>\n",
       "      <td>0.775845</td>\n",
       "      <td>9049.000000</td>\n",
       "    </tr>\n",
       "  </tbody>\n",
       "</table>\n",
       "</div>"
      ],
      "text/plain": [
       "              precision    recall  f1-score      support\n",
       "0              0.816401  0.951970  0.878989  6829.000000\n",
       "1              0.697974  0.341441  0.458560  2220.000000\n",
       "accuracy       0.802188  0.802188  0.802188     0.802188\n",
       "macro avg      0.757188  0.646705  0.668774  9049.000000\n",
       "weighted avg   0.787347  0.802188  0.775845  9049.000000"
      ]
     },
     "execution_count": 303,
     "metadata": {},
     "output_type": "execute_result"
    }
   ],
   "source": [
    "pd.DataFrame(classification_report(y_test, y_pred, output_dict=True)).T"
   ]
  },
  {
   "cell_type": "markdown",
   "id": "9c4775a7",
   "metadata": {},
   "source": [
    "### Evaluate fairness "
   ]
  },
  {
   "cell_type": "code",
   "execution_count": 304,
   "id": "ddf4ed3e",
   "metadata": {
    "execution": {
     "iopub.execute_input": "2022-08-01T13:53:16.036744Z",
     "iopub.status.busy": "2022-08-01T13:53:16.036045Z",
     "iopub.status.idle": "2022-08-01T13:53:16.060013Z",
     "shell.execute_reply": "2022-08-01T13:53:16.059167Z",
     "shell.execute_reply.started": "2022-08-01T13:53:16.036713Z"
    },
    "tags": []
   },
   "outputs": [
    {
     "data": {
      "text/html": [
       "<div>\n",
       "<style scoped>\n",
       "    .dataframe tbody tr th:only-of-type {\n",
       "        vertical-align: middle;\n",
       "    }\n",
       "\n",
       "    .dataframe tbody tr th {\n",
       "        vertical-align: top;\n",
       "    }\n",
       "\n",
       "    .dataframe thead th {\n",
       "        text-align: right;\n",
       "    }\n",
       "</style>\n",
       "<table border=\"1\" class=\"dataframe\">\n",
       "  <thead>\n",
       "    <tr style=\"text-align: right;\">\n",
       "      <th></th>\n",
       "      <th>sex</th>\n",
       "    </tr>\n",
       "  </thead>\n",
       "  <tbody>\n",
       "    <tr>\n",
       "      <th>average_odds_difference</th>\n",
       "      <td>0.049820</td>\n",
       "    </tr>\n",
       "    <tr>\n",
       "      <th>disparate_impact_ratio</th>\n",
       "      <td>0.576128</td>\n",
       "    </tr>\n",
       "    <tr>\n",
       "      <th>equal_opportunity_difference</th>\n",
       "      <td>0.130102</td>\n",
       "    </tr>\n",
       "    <tr>\n",
       "      <th>statistical_parity_difference</th>\n",
       "      <td>-0.058797</td>\n",
       "    </tr>\n",
       "  </tbody>\n",
       "</table>\n",
       "</div>"
      ],
      "text/plain": [
       "                                    sex\n",
       "average_odds_difference        0.049820\n",
       "disparate_impact_ratio         0.576128\n",
       "equal_opportunity_difference   0.130102\n",
       "statistical_parity_difference -0.058797"
      ]
     },
     "execution_count": 304,
     "metadata": {},
     "output_type": "execute_result"
    }
   ],
   "source": [
    "fairness_report(y_test, y_pred, prot_attr='sex')"
   ]
  },
  {
   "cell_type": "markdown",
   "id": "ffcd499d",
   "metadata": {},
   "source": [
    "# Bias mitigation algoritms comparison"
   ]
  },
  {
   "cell_type": "code",
   "execution_count": 321,
   "id": "7ca0c141-be38-42a3-a58d-a1232d0555e4",
   "metadata": {
    "execution": {
     "iopub.execute_input": "2022-08-01T13:56:18.706770Z",
     "iopub.status.busy": "2022-08-01T13:56:18.706433Z",
     "iopub.status.idle": "2022-08-01T13:56:18.904445Z",
     "shell.execute_reply": "2022-08-01T13:56:18.903529Z",
     "shell.execute_reply.started": "2022-08-01T13:56:18.706745Z"
    },
    "tags": []
   },
   "outputs": [],
   "source": [
    "algos = [estimator, clf, postproc, adv_deb]\n",
    "algo_names = ['baseline', 'preprocessing', 'inprocessing', 'postprocessing']\n",
    "sex_fairness = pd.DataFrame(index=fairness_report(y_test, y_pred, prot_attr='sex').index)\n",
    "for i, algo in enumerate(algos):\n",
    "    y_pred = algo.predict(X_test)\n",
    "    sex_fairness = pd.merge(sex_fairness, \n",
    "                            fairness_report(y_test, y_pred, prot_attr='sex'), \n",
    "                            left_index=True, right_index=True, \n",
    "                            suffixes=('', ' ' + algo_names[i].upper()))\n",
    "\n",
    "sex_fairness.index = [n.replace('_', ' ').upper() for n in sex_fairness.index.tolist()]"
   ]
  },
  {
   "cell_type": "code",
   "execution_count": 326,
   "id": "cc00aed4-00ec-4a56-8807-df2cd82828b6",
   "metadata": {
    "execution": {
     "iopub.execute_input": "2022-08-01T13:57:41.784152Z",
     "iopub.status.busy": "2022-08-01T13:57:41.783524Z",
     "iopub.status.idle": "2022-08-01T13:57:41.792920Z",
     "shell.execute_reply": "2022-08-01T13:57:41.792112Z",
     "shell.execute_reply.started": "2022-08-01T13:57:41.784125Z"
    },
    "tags": []
   },
   "outputs": [
    {
     "data": {
      "text/html": [
       "<div>\n",
       "<style scoped>\n",
       "    .dataframe tbody tr th:only-of-type {\n",
       "        vertical-align: middle;\n",
       "    }\n",
       "\n",
       "    .dataframe tbody tr th {\n",
       "        vertical-align: top;\n",
       "    }\n",
       "\n",
       "    .dataframe thead th {\n",
       "        text-align: right;\n",
       "    }\n",
       "</style>\n",
       "<table border=\"1\" class=\"dataframe\">\n",
       "  <thead>\n",
       "    <tr style=\"text-align: right;\">\n",
       "      <th></th>\n",
       "      <th>sex</th>\n",
       "      <th>sex PREPROCESSING</th>\n",
       "      <th>sex INPROCESSING</th>\n",
       "      <th>sex POSTPROCESSING</th>\n",
       "    </tr>\n",
       "  </thead>\n",
       "  <tbody>\n",
       "    <tr>\n",
       "      <th>AVERAGE ODDS DIFFERENCE</th>\n",
       "      <td>-0.095380</td>\n",
       "      <td>0.077556</td>\n",
       "      <td>0.049820</td>\n",
       "      <td>0.139911</td>\n",
       "    </tr>\n",
       "    <tr>\n",
       "      <th>DISPARATE IMPACT RATIO</th>\n",
       "      <td>0.336371</td>\n",
       "      <td>0.671399</td>\n",
       "      <td>0.576128</td>\n",
       "      <td>0.832998</td>\n",
       "    </tr>\n",
       "    <tr>\n",
       "      <th>EQUAL OPPORTUNITY DIFFERENCE</th>\n",
       "      <td>-0.109122</td>\n",
       "      <td>0.166611</td>\n",
       "      <td>0.130102</td>\n",
       "      <td>0.263447</td>\n",
       "    </tr>\n",
       "    <tr>\n",
       "      <th>STATISTICAL PARITY DIFFERENCE</th>\n",
       "      <td>-0.172064</td>\n",
       "      <td>-0.069384</td>\n",
       "      <td>-0.058797</td>\n",
       "      <td>-0.026332</td>\n",
       "    </tr>\n",
       "  </tbody>\n",
       "</table>\n",
       "</div>"
      ],
      "text/plain": [
       "                                    sex  sex PREPROCESSING  sex INPROCESSING  \\\n",
       "AVERAGE ODDS DIFFERENCE       -0.095380           0.077556          0.049820   \n",
       "DISPARATE IMPACT RATIO         0.336371           0.671399          0.576128   \n",
       "EQUAL OPPORTUNITY DIFFERENCE  -0.109122           0.166611          0.130102   \n",
       "STATISTICAL PARITY DIFFERENCE -0.172064          -0.069384         -0.058797   \n",
       "\n",
       "                               sex POSTPROCESSING  \n",
       "AVERAGE ODDS DIFFERENCE                  0.139911  \n",
       "DISPARATE IMPACT RATIO                   0.832998  \n",
       "EQUAL OPPORTUNITY DIFFERENCE             0.263447  \n",
       "STATISTICAL PARITY DIFFERENCE           -0.026332  "
      ]
     },
     "execution_count": 326,
     "metadata": {},
     "output_type": "execute_result"
    }
   ],
   "source": [
    "sex_fairness"
   ]
  },
  {
   "cell_type": "markdown",
   "id": "d3014c4e-0571-40f5-bdc5-27b676543fd5",
   "metadata": {},
   "source": [
    "# Wrap ups"
   ]
  },
  {
   "cell_type": "code",
   "execution_count": 313,
   "id": "73c8a4e8",
   "metadata": {
    "execution": {
     "iopub.execute_input": "2022-08-01T13:54:42.940956Z",
     "iopub.status.busy": "2022-08-01T13:54:42.940567Z",
     "iopub.status.idle": "2022-08-01T13:54:42.945599Z",
     "shell.execute_reply": "2022-08-01T13:54:42.944564Z",
     "shell.execute_reply.started": "2022-08-01T13:54:42.940928Z"
    },
    "tags": []
   },
   "outputs": [],
   "source": [
    "adv_deb.sess_.close()  # AdversarialDebiasing creates a TensorFlow session \n",
    "                       # which we should close when we're finished to free up resources"
   ]
  },
  {
   "cell_type": "code",
   "execution_count": null,
   "id": "3fb884a5-a819-4709-8d34-4094bdd14fdd",
   "metadata": {},
   "outputs": [],
   "source": []
  }
 ],
 "metadata": {
  "kernelspec": {
   "display_name": "Python 3 (ipykernel)",
   "language": "python",
   "name": "python3"
  },
  "language_info": {
   "codemirror_mode": {
    "name": "ipython",
    "version": 3
   },
   "file_extension": ".py",
   "mimetype": "text/x-python",
   "name": "python",
   "nbconvert_exporter": "python",
   "pygments_lexer": "ipython3",
   "version": "3.8.13"
  }
 },
 "nbformat": 4,
 "nbformat_minor": 5
}
